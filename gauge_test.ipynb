{
 "cells": [
  {
   "cell_type": "code",
   "execution_count": 1,
   "metadata": {},
   "outputs": [
    {
     "name": "stdout",
     "output_type": "stream",
     "text": [
      "50 50\n",
      "running osqp\n",
      "10\n",
      "4\n"
     ]
    }
   ],
   "source": [
    "import numpy as np\n",
    "import pickle\n",
    "import torch\n",
    "\n",
    "import sys\n",
    "import os\n",
    "sys.path.insert(1, os.path.join(sys.path[0], os.pardir, os.pardir))\n",
    "from gauge_utils import SimpleProblem\n",
    "\n",
    "import gurobipy as gp\n",
    "from gurobipy import Model, GRB, QuadExpr, LinExpr\n",
    "\n",
    "import os\n",
    "os.environ['KMP_DUPLICATE_LIB_OK']='True'\n",
    "\n",
    "torch.set_default_dtype(torch.float64)\n",
    "\n",
    "num_var = 100\n",
    "num_ineq = 50\n",
    "num_eq = 50\n",
    "num_examples = 10\n",
    "print(num_ineq, num_eq)\n",
    "np.random.seed(17)\n",
    "Q = np.diag(np.random.random(num_var))\n",
    "p = np.random.random(num_var)\n",
    "A = np.random.normal(loc=0, scale=1., size=(num_eq, num_var))\n",
    "X = np.random.uniform(-1, 1, size=(num_examples, num_eq))\n",
    "G = np.random.normal(loc=0, scale=1., size=(num_ineq, num_var))\n",
    "h = np.sum(np.abs(G@np.linalg.pinv(A)), axis=1)\n",
    "data = SimpleProblem(Q, p, A, G, h, X)\n",
    "data.calc_Y()\n",
    "print(len(data.Y))\n",
    "data.remove_no_ip()\n",
    "print(len(data.Y))\n"
   ]
  },
  {
   "cell_type": "code",
   "execution_count": 47,
   "metadata": {},
   "outputs": [],
   "source": [
    "def get_interior_point(data, x): \n",
    "    tmp_h = data.h_np - data.G_np[:, data.other_vars] @ data._A_other_inv.detach().cpu().numpy() @ x\n",
    "    tmp_G = data.G_np[:, data.partial_vars] - data.G_np[:, data.other_vars] @ data._A_other_inv.detach().cpu().numpy() @ data.A_np[:, data.partial_vars]\n",
    "    M = 1e4\n",
    "    \n",
    "    model = gp.Model(\"qp\")\n",
    "    model.setParam('OutputFlag', 1)\n",
    "\n",
    "    n_vars = len(data.partial_vars)\n",
    "    vars = []\n",
    "    for i in range(n_vars):\n",
    "        vars.append(model.addVar(lb=-np.infty, ub=np.infty, vtype=GRB.CONTINUOUS, name=f\"yp_{i}\"))\n",
    "    \n",
    "    ya = model.addVar(lb=-np.infty, ub=np.infty, vtype=GRB.CONTINUOUS, name=\"ya\")\n",
    "\n",
    "    obj = LinExpr()\n",
    "\n",
    "    obj.add(M * ya)\n",
    "    model.setObjective(obj, GRB.MINIMIZE)\n",
    "\n",
    "    for i in range(tmp_G.shape[0]):\n",
    "        for j in range(n_vars):\n",
    "            if tmp_G[i, j] != 0:\n",
    "                expr = LinExpr()\n",
    "                expr.add(vars[j] * tmp_G[i, j])\n",
    "                model.addConstr(expr <= tmp_h[i] + ya)\n",
    "    \n",
    "    return model"
   ]
  },
  {
   "cell_type": "code",
   "execution_count": null,
   "metadata": {},
   "outputs": [],
   "source": []
  }
 ],
 "metadata": {
  "kernelspec": {
   "display_name": "scopf",
   "language": "python",
   "name": "python3"
  },
  "language_info": {
   "codemirror_mode": {
    "name": "ipython",
    "version": 3
   },
   "file_extension": ".py",
   "mimetype": "text/x-python",
   "name": "python",
   "nbconvert_exporter": "python",
   "pygments_lexer": "ipython3",
   "version": "3.9.17"
  }
 },
 "nbformat": 4,
 "nbformat_minor": 2
}

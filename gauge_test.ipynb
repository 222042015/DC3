{
 "cells": [
  {
   "cell_type": "code",
   "execution_count": 3,
   "metadata": {},
   "outputs": [
    {
     "name": "stdout",
     "output_type": "stream",
     "text": [
      "50 50\n"
     ]
    }
   ],
   "source": [
    "import numpy as np\n",
    "import pickle\n",
    "import torch\n",
    "\n",
    "import sys\n",
    "import os\n",
    "sys.path.insert(1, os.path.join(sys.path[0], os.pardir, os.pardir))\n",
    "from utils import SimpleProblem\n",
    "\n",
    "import gurobipy as gp\n",
    "from gurobipy import Model, GRB, QuadExpr, LinExpr\n",
    "\n",
    "import os\n",
    "os.environ['KMP_DUPLICATE_LIB_OK']='True'\n",
    "\n",
    "torch.set_default_dtype(torch.float64)\n",
    "\n",
    "num_var = 100\n",
    "num_ineq = 50\n",
    "num_eq = 50\n",
    "num_examples = 10\n",
    "print(num_ineq, num_eq)\n",
    "np.random.seed(17)\n",
    "Q = np.diag(np.random.random(num_var))\n",
    "p = np.random.random(num_var)\n",
    "A = np.random.normal(loc=0, scale=1., size=(num_eq, num_var))\n",
    "X = np.random.uniform(-1, 1, size=(num_examples, num_eq))\n",
    "G = np.random.normal(loc=0, scale=1., size=(num_ineq, num_var))\n",
    "h = np.sum(np.abs(G@np.linalg.pinv(A)), axis=1)\n",
    "data = SimpleProblem(Q, p, A, G, h, X)\n",
    "# problem.calc_Y()\n",
    "# print(len(problem.Y))\n"
   ]
  },
  {
   "cell_type": "code",
   "execution_count": 12,
   "metadata": {},
   "outputs": [],
   "source": [
    "def get_interior_point(data, x): \n",
    "    tmp_h = data.h_np - data.G_np[:, data.other_vars] @ data._A_other_inv.detach().cpu().numpy() @ x\n",
    "    tmp_G = data.G_np[:, data.partial_vars] - data.G_np[:, data.other_vars] @ data._A_other_inv.detach().cpu().numpy() @ data.A_np[:, data.partial_vars]\n",
    "    \n",
    "    model = gp.Model(\"qp\")\n",
    "    model.setParam('OutputFlag', 0)\n",
    "    model.setParam('FeasibilityTol', 1e-4)\n",
    "\n",
    "    n_vars = len(data.partial_vars)\n",
    "    vars = []\n",
    "    for i in range(n_vars):\n",
    "        vars.append(model.addVar(lb=-np.infty, ub=np.infty, vtype=GRB.CONTINUOUS, name=f\"yp_{i}\"))\n",
    "    \n",
    "    ya = model.addVar(lb=-np.infty, ub=np.infty, vtype=GRB.CONTINUOUS, name=f\"ya\")\n",
    "\n",
    "    obj = LinExpr()\n",
    "    M = 1e8\n",
    "    obj.add(M * ya)\n",
    "    model.setObjective(obj, GRB.MINIMIZE)\n",
    "\n",
    "    for i in range(tmp_G.shape[0]):\n",
    "        for j in range(n_vars):\n",
    "            if tmp_G[i, j] != 0:\n",
    "                expr = LinExpr()\n",
    "                expr.add(vars[j] * tmp_G[i, j])\n",
    "                model.addConstr(expr <= tmp_h[i] + ya)\n",
    "    \n",
    "    return model"
   ]
  },
  {
   "cell_type": "code",
   "execution_count": 13,
   "metadata": {},
   "outputs": [
    {
     "name": "stdout",
     "output_type": "stream",
     "text": [
      "Restricted license - for non-production use only - expires 2025-11-24\n"
     ]
    }
   ],
   "source": [
    "m = get_interior_point(data, data.X_np[0])"
   ]
  },
  {
   "cell_type": "code",
   "execution_count": 14,
   "metadata": {},
   "outputs": [
    {
     "ename": "GurobiError",
     "evalue": "Model too large for size-limited license; visit https://gurobi.com/unrestricted for more information",
     "output_type": "error",
     "traceback": [
      "\u001b[0;31m---------------------------------------------------------------------------\u001b[0m",
      "\u001b[0;31mGurobiError\u001b[0m                               Traceback (most recent call last)",
      "Cell \u001b[0;32mIn[14], line 1\u001b[0m\n\u001b[0;32m----> 1\u001b[0m \u001b[43mm\u001b[49m\u001b[38;5;241;43m.\u001b[39;49m\u001b[43moptimize\u001b[49m\u001b[43m(\u001b[49m\u001b[43m)\u001b[49m\n",
      "File \u001b[0;32msrc/gurobipy/model.pxi:893\u001b[0m, in \u001b[0;36mgurobipy.Model.optimize\u001b[0;34m()\u001b[0m\n",
      "\u001b[0;31mGurobiError\u001b[0m: Model too large for size-limited license; visit https://gurobi.com/unrestricted for more information"
     ]
    }
   ],
   "source": [
    "m.optimize()"
   ]
  },
  {
   "cell_type": "code",
   "execution_count": null,
   "metadata": {},
   "outputs": [],
   "source": []
  }
 ],
 "metadata": {
  "kernelspec": {
   "display_name": "scopf",
   "language": "python",
   "name": "python3"
  },
  "language_info": {
   "codemirror_mode": {
    "name": "ipython",
    "version": 3
   },
   "file_extension": ".py",
   "mimetype": "text/x-python",
   "name": "python",
   "nbconvert_exporter": "python",
   "pygments_lexer": "ipython3",
   "version": "3.9.19"
  }
 },
 "nbformat": 4,
 "nbformat_minor": 2
}

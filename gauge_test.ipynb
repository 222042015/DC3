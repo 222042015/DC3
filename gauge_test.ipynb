{
 "cells": [
  {
   "cell_type": "code",
   "execution_count": 1,
   "metadata": {},
   "outputs": [
    {
     "name": "stdout",
     "output_type": "stream",
     "text": [
      "5 5\n",
      "running osqp\n",
      "10\n"
     ]
    }
   ],
   "source": [
    "import numpy as np\n",
    "import pickle\n",
    "import torch\n",
    "\n",
    "import sys\n",
    "import os\n",
    "sys.path.insert(1, os.path.join(sys.path[0], os.pardir, os.pardir))\n",
    "from gauge_utils import SimpleProblem\n",
    "\n",
    "import gurobipy as gp\n",
    "from gurobipy import Model, GRB, QuadExpr, LinExpr\n",
    "\n",
    "import os\n",
    "os.environ['KMP_DUPLICATE_LIB_OK']='True'\n",
    "\n",
    "torch.set_default_dtype(torch.float64)\n",
    "\n",
    "num_var = 10\n",
    "num_ineq = 5\n",
    "num_eq = 5\n",
    "num_examples = 10\n",
    "print(num_ineq, num_eq)\n",
    "np.random.seed(17)\n",
    "Q = np.diag(np.random.random(num_var))\n",
    "p = np.random.random(num_var)\n",
    "A = np.random.normal(loc=0, scale=1., size=(num_eq, num_var))\n",
    "X = np.random.uniform(-1, 1, size=(num_examples, num_eq))\n",
    "G = np.random.normal(loc=0, scale=1., size=(num_ineq, num_var))\n",
    "h = np.sum(np.abs(G@np.linalg.pinv(A)), axis=1)\n",
    "L = np.ones((num_var))*-5\n",
    "U = np.ones((num_var))*5\n",
    "data = SimpleProblem(Q, p, A, G, h, X, L, U)\n",
    "data.calc_Y()\n",
    "print(len(data.Y))\n",
    "data.remove_no_ip()\n",
    "print(len(data.Y))\n"
   ]
  },
  {
   "cell_type": "code",
   "execution_count": 2,
   "metadata": {},
   "outputs": [
    {
     "data": {
      "text/plain": [
       "[-5.0, -5.0, -5.0, -5.0, -5.0]"
      ]
     },
     "execution_count": 2,
     "metadata": {},
     "output_type": "execute_result"
    }
   ],
   "source": [
    "[data.L_np[i] for i in data.partial_vars]"
   ]
  },
  {
   "cell_type": "code",
   "execution_count": 3,
   "metadata": {},
   "outputs": [],
   "source": [
    "def get_interior_point(data, x): \n",
    "    tmp_h = data.h_np - data.G_np[:, data.other_vars] @ data._A_other_inv.detach().cpu().numpy() @ x\n",
    "    tmp_G = data.G_np[:, data.partial_vars] - data.G_np[:, data.other_vars] @ data._A_other_inv.detach().cpu().numpy() @ data.A_np[:, data.partial_vars]\n",
    "    M = 1e4\n",
    "    # lb_p = np.array([data.L_np[i] for i in data.partial_vars])\n",
    "    # ub_p = np.array([data.U_np[i] for i in data.partial_vars])\n",
    "    \n",
    "    model = gp.Model(\"interior_point\")\n",
    "    model.setParam('OutputFlag', 1)\n",
    "\n",
    "    n_vars = len(data.partial_vars)\n",
    "    vars = []\n",
    "    for i in range(n_vars):\n",
    "        # vars.append(model.addVar(lb=lb_p[i],\n",
    "        #                          ub=ub_p[i], vtype=GRB.CONTINUOUS, name=f\"yp_{i}\"))\n",
    "        vars.append(model.addVar(lb=-np.infty,\n",
    "                                 ub=np.infty, vtype=GRB.CONTINUOUS, name=f\"yp_{i}\"))\n",
    "    \n",
    "    ya = model.addVar(lb=-np.infty, ub=0, vtype=GRB.CONTINUOUS, name=\"ya\")\n",
    "\n",
    "    obj = LinExpr()\n",
    "\n",
    "    obj.add(M * ya)\n",
    "    model.setObjective(obj, GRB.MINIMIZE)\n",
    "\n",
    "    for i in range(tmp_G.shape[0]):\n",
    "        expr = LinExpr()\n",
    "        for j in range(n_vars):\n",
    "            if tmp_G[i, j] != 0:\n",
    "                expr.add(vars[j] * tmp_G[i, j])\n",
    "        model.addConstr(expr - ya <= tmp_h[i])\n",
    "    \n",
    "    return model"
   ]
  },
  {
   "cell_type": "code",
   "execution_count": 4,
   "metadata": {},
   "outputs": [],
   "source": [
    "m = get_interior_point(data, data.X_np[3])"
   ]
  },
  {
   "cell_type": "code",
   "execution_count": 5,
   "metadata": {},
   "outputs": [
    {
     "data": {
      "text/plain": [
       "<gurobi.LinExpr: 0.0>"
      ]
     },
     "execution_count": 5,
     "metadata": {},
     "output_type": "execute_result"
    }
   ],
   "source": [
    "m.getObjective()"
   ]
  },
  {
   "cell_type": "code",
   "execution_count": 6,
   "metadata": {},
   "outputs": [],
   "source": [
    "for c in m.getConstrs():\n",
    "    print(c.getAttr('RHS'))"
   ]
  },
  {
   "cell_type": "code",
   "execution_count": 7,
   "metadata": {},
   "outputs": [
    {
     "name": "stdout",
     "output_type": "stream",
     "text": [
      "Gurobi Optimizer version 11.0.0 build v11.0.0rc2 (linux64 - \"Ubuntu 22.04.2 LTS\")\n",
      "\n",
      "CPU model: 12th Gen Intel(R) Core(TM) i9-12900K, instruction set [SSE2|AVX|AVX2]\n",
      "Thread count: 24 physical cores, 24 logical processors, using up to 24 threads\n",
      "\n",
      "Optimize a model with 25 rows, 6 columns and 110 nonzeros\n",
      "Model fingerprint: 0x6dabf2db\n",
      "Coefficient statistics:\n",
      "  Matrix range     [1e-01, 1e+01]\n",
      "  Objective range  [1e+04, 1e+04]\n",
      "  Bounds range     [0e+00, 0e+00]\n",
      "  RHS range        [8e-01, 7e+00]\n",
      "Presolve time: 0.00s\n",
      "Presolved: 25 rows, 6 columns, 110 nonzeros\n",
      "\n",
      "Iteration    Objective       Primal Inf.    Dual Inf.      Time\n",
      "       0      handle free variables                          0s\n",
      "      13   -2.8093174e+04   0.000000e+00   0.000000e+00      0s\n",
      "\n",
      "Solved in 13 iterations and 0.00 seconds (0.00 work units)\n",
      "Optimal objective -2.809317389e+04\n"
     ]
    }
   ],
   "source": [
    "m.optimize()"
   ]
  },
  {
   "cell_type": "code",
   "execution_count": null,
   "metadata": {},
   "outputs": [],
   "source": []
  },
  {
   "cell_type": "code",
   "execution_count": 12,
   "metadata": {},
   "outputs": [
    {
     "data": {
      "text/plain": [
       "torch.Size([4, 50])"
      ]
     },
     "execution_count": 12,
     "metadata": {},
     "output_type": "execute_result"
    }
   ],
   "source": [
    "v = torch.randn((data.X.shape[0], len(data.partial_vars)))\n",
    "v.shape"
   ]
  },
  {
   "cell_type": "code",
   "execution_count": 4,
   "metadata": {},
   "outputs": [
    {
     "data": {
      "text/plain": [
       "torch.Size([4])"
      ]
     },
     "execution_count": 4,
     "metadata": {},
     "output_type": "execute_result"
    }
   ],
   "source": [
    "g_unit_ball = data.gauge_unit_ball(v)\n",
    "g_unit_ball.shape"
   ]
  },
  {
   "cell_type": "code",
   "execution_count": 5,
   "metadata": {},
   "outputs": [
    {
     "data": {
      "text/plain": [
       "torch.Size([4])"
      ]
     },
     "execution_count": 5,
     "metadata": {},
     "output_type": "execute_result"
    }
   ],
   "source": [
    "g_set = data.gauge_set(v, data.IP, data.X)\n",
    "g_set.shape"
   ]
  },
  {
   "cell_type": "code",
   "execution_count": 6,
   "metadata": {},
   "outputs": [],
   "source": [
    "v = torch.randn((data.X.shape[0], len(data.partial_vars)))"
   ]
  },
  {
   "cell_type": "code",
   "execution_count": 10,
   "metadata": {},
   "outputs": [
    {
     "data": {
      "text/plain": [
       "torch.Size([4, 50])"
      ]
     },
     "execution_count": 10,
     "metadata": {},
     "output_type": "execute_result"
    }
   ],
   "source": [
    "((g_unit_ball / g_set).unsqueeze(1) * v + data.IP).shape"
   ]
  },
  {
   "cell_type": "code",
   "execution_count": 8,
   "metadata": {},
   "outputs": [
    {
     "data": {
      "text/plain": [
       "tensor([0.0242, 0.1574, 0.2101, 0.4979])"
      ]
     },
     "execution_count": 8,
     "metadata": {},
     "output_type": "execute_result"
    }
   ],
   "source": [
    "g_unit_ball / g_set"
   ]
  },
  {
   "cell_type": "code",
   "execution_count": null,
   "metadata": {},
   "outputs": [],
   "source": []
  }
 ],
 "metadata": {
  "kernelspec": {
   "display_name": "scopf",
   "language": "python",
   "name": "python3"
  },
  "language_info": {
   "codemirror_mode": {
    "name": "ipython",
    "version": 3
   },
   "file_extension": ".py",
   "mimetype": "text/x-python",
   "name": "python",
   "nbconvert_exporter": "python",
   "pygments_lexer": "ipython3",
   "version": "3.9.17"
  }
 },
 "nbformat": 4,
 "nbformat_minor": 2
}

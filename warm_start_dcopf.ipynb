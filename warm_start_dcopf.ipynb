{
 "cells": [
  {
   "cell_type": "code",
   "execution_count": 1,
   "metadata": {},
   "outputs": [],
   "source": [
    "import numpy as np\n",
    "import pickle\n",
    "import torch\n",
    "\n",
    "import sys\n",
    "import os\n",
    "sys.path.insert(1, os.path.join(sys.path[0], os.pardir, os.pardir))\n",
    "from utils import SimpleProblem\n",
    "\n",
    "import os\n",
    "os.environ['KMP_DUPLICATE_LIB_OK']='True'\n",
    "\n",
    "torch.set_default_dtype(torch.float64)\n",
    "\n",
    "import gurobipy as gp\n",
    "from gurobipy import Model, GRB, QuadExpr, LinExpr\n",
    "\n",
    "from dcopf_utils import build_gurobi_model, build_osqp_model\n",
    "import time\n",
    "from dcopf_utils import DcopfProblem"
   ]
  },
  {
   "cell_type": "code",
   "execution_count": 48,
   "metadata": {},
   "outputs": [
    {
     "data": {
      "text/plain": [
       "NNSolver_eq_proj(\n",
       "  (net): Sequential(\n",
       "    (0): Linear(in_features=446, out_features=1024, bias=True)\n",
       "    (1): BatchNorm1d(1024, eps=1e-05, momentum=0.1, affine=True, track_running_stats=True)\n",
       "    (2): GELU(approximate='none')\n",
       "    (3): Dropout(p=0.2, inplace=False)\n",
       "    (4): Linear(in_features=1024, out_features=1024, bias=True)\n",
       "    (5): BatchNorm1d(1024, eps=1e-05, momentum=0.1, affine=True, track_running_stats=True)\n",
       "    (6): GELU(approximate='none')\n",
       "    (7): Dropout(p=0.2, inplace=False)\n",
       "    (8): Linear(in_features=1024, out_features=483, bias=True)\n",
       "  )\n",
       ")"
      ]
     },
     "execution_count": 48,
     "metadata": {},
     "output_type": "execute_result"
    }
   ],
   "source": [
    "from model_utils import NNSolver_eq_proj\n",
    "\n",
    "filepath = \"/home/jxxiong/A-xjx/DC3/datasets/dcopf/dcopf200_data\"\n",
    "with open(filepath, 'rb') as f:\n",
    "    data = pickle.load(f)\n",
    "\n",
    "data = DcopfProblem(data, valid_frac=0.0833, test_frac=0.001)\n",
    "\n",
    "arg_path = \"/home/jxxiong/A-xjx/DC3/results/DcopfProblem-483-490-446-10000/method_eq_proj/0254a871350602cb2ca6f1b6e51e32f7ce2494ab/1713423666-7018242/args.dict\"\n",
    "args = pickle.load(open(arg_path, 'rb'))\n",
    "\n",
    "model = NNSolver_eq_proj(data, args)\n",
    "\n",
    "model_path = \"/home/jxxiong/A-xjx/DC3/results/DcopfProblem-483-490-446-10000/method_eq_proj/0254a871350602cb2ca6f1b6e51e32f7ce2494ab/1713423666-7018242/solver_net.dict\"\n",
    "model.load_state_dict(torch.load(model_path))\n",
    "\n",
    "model.eval()"
   ]
  },
  {
   "cell_type": "code",
   "execution_count": 49,
   "metadata": {},
   "outputs": [],
   "source": [
    "DEVICE = 'cpu'\n",
    "model.to(DEVICE)\n",
    "for attr in dir(data):\n",
    "    var = getattr(data, attr)\n",
    "    if not callable(var) and not attr.startswith(\"__\") and torch.is_tensor(var):\n",
    "        try:\n",
    "            setattr(data, attr, var.to(DEVICE))\n",
    "        except AttributeError:\n",
    "            pass"
   ]
  },
  {
   "cell_type": "code",
   "execution_count": 50,
   "metadata": {},
   "outputs": [],
   "source": [
    "A = data.A\n",
    "G = data.G\n",
    "h = data.h\n",
    "Q = data.Q\n",
    "p = data.p\n",
    "Lb = data.Lb\n",
    "Ub = data.Ub\n",
    "\n",
    "A_np = data.A_np\n",
    "G_np = data.G_np\n",
    "h_np = data.h_np\n",
    "Q_np = data.Q_np\n",
    "p_np = data.p_np\n",
    "Lb_np = data.Lb.cpu().numpy()\n",
    "Ub_np = data.Ub.cpu().numpy()\n",
    "\n",
    "X = data.X\n",
    "X_np = data.X_np\n",
    "\n",
    "num_var = A.shape[1]\n",
    "num_eq = A.shape[0]\n",
    "num_ineq = G.shape[0]"
   ]
  },
  {
   "cell_type": "code",
   "execution_count": 51,
   "metadata": {},
   "outputs": [
    {
     "data": {
      "text/plain": [
       "tensor(2319.4000)"
      ]
     },
     "execution_count": 51,
     "metadata": {},
     "output_type": "execute_result"
    }
   ],
   "source": [
    "p.max()"
   ]
  },
  {
   "cell_type": "code",
   "execution_count": 52,
   "metadata": {},
   "outputs": [],
   "source": [
    "idx = 1"
   ]
  },
  {
   "cell_type": "code",
   "execution_count": 53,
   "metadata": {},
   "outputs": [],
   "source": [
    "# full_model = build_osqp_model(Q_np, p_np, A_np, X_np[idx], G_np, h_np, Lb_np, Ub_np)\n",
    "# start_time = time.time()\n",
    "# r = full_model.solve()\n",
    "# print(\"OSQP time: \", time.time() - start_time)\n",
    "# print(r.info.obj_val)\n",
    "# x_full = r.x"
   ]
  },
  {
   "cell_type": "code",
   "execution_count": 54,
   "metadata": {},
   "outputs": [],
   "source": [
    "# Lb_np_reduced = Lb_np.copy()\n",
    "# Lb_np_reduced[inactive_lower_bounds] = -np.inf\n",
    "# Ub_np_reduced = Ub_np.copy()\n",
    "# Ub_np_reduced[inactive_upper_bounds] = np.inf\n",
    "\n",
    "# reduced_model = build_osqp_model(Q_np, p_np, A_np, X_np[idx], G_np, h_np, Lb_np_reduced, Ub_np_reduced)\n",
    "# start_time = time.time()\n",
    "# r = reduced_model.solve()\n",
    "# print(\"OSQP reduced time: \", time.time() - start_time)\n",
    "# print(r.info.obj_val)\n",
    "# x_reduced = r.x"
   ]
  },
  {
   "cell_type": "code",
   "execution_count": 55,
   "metadata": {},
   "outputs": [
    {
     "name": "stdout",
     "output_type": "stream",
     "text": [
      "Set parameter FeasibilityTol to value 0.0001\n",
      "Set parameter TimeLimit to value 600\n",
      "Gurobi Optimizer version 11.0.0 build v11.0.0rc2 (linux64 - \"Ubuntu 22.04.2 LTS\")\n",
      "\n",
      "CPU model: 12th Gen Intel(R) Core(TM) i9-12900K, instruction set [SSE2|AVX|AVX2]\n",
      "Thread count: 24 physical cores, 24 logical processors, using up to 24 threads\n",
      "\n",
      "Presolve removed 547 rows and 220 columns\n",
      "CPU times: user 3.44 ms, sys: 442 µs, total: 3.88 ms\n",
      "Wall time: 3.73 ms\n"
     ]
    }
   ],
   "source": [
    "model_presolve = build_gurobi_model(Q_np, p_np, A_np, X_np[idx], G_np, h_np, Lb_np, Ub_np)\n",
    "%time model_presolve = model_presolve.presolve()\n",
    "# reduced_model.write(\"reduced_model.lp\")"
   ]
  },
  {
   "cell_type": "code",
   "execution_count": 56,
   "metadata": {},
   "outputs": [
    {
     "name": "stdout",
     "output_type": "stream",
     "text": [
      "Set parameter FeasibilityTol to value 0.0001\n",
      "Set parameter TimeLimit to value 600\n",
      "Gurobi Optimizer version 11.0.0 build v11.0.0rc2 (linux64 - \"Ubuntu 22.04.2 LTS\")\n",
      "\n",
      "CPU model: 12th Gen Intel(R) Core(TM) i9-12900K, instruction set [SSE2|AVX|AVX2]\n",
      "Thread count: 24 physical cores, 24 logical processors, using up to 24 threads\n",
      "\n",
      "Optimize a model with 936 rows, 483 columns and 2244 nonzeros\n",
      "Model fingerprint: 0x27ada556\n",
      "Model has 31 quadratic objective terms\n",
      "Coefficient statistics:\n",
      "  Matrix range     [4e-01, 3e+02]\n",
      "  Objective range  [7e+02, 2e+03]\n",
      "  QObjective range [4e+01, 4e+01]\n",
      "  Bounds range     [7e-03, 7e+00]\n",
      "  RHS range        [3e-03, 8e-01]\n",
      "Presolve removed 771 rows and 337 columns\n",
      "Presolve time: 0.00s\n",
      "Presolved: 165 rows, 196 columns, 723 nonzeros\n",
      "Presolved model has 31 quadratic objective terms\n",
      "Ordering time: 0.00s\n",
      "\n",
      "Barrier statistics:\n",
      " AA' NZ     : 1.555e+03\n",
      " Factor NZ  : 3.959e+03\n",
      " Factor Ops : 1.055e+05 (less than 1 second per iteration)\n",
      " Threads    : 1\n",
      "\n",
      "                  Objective                Residual\n",
      "Iter       Primal          Dual         Primal    Dual     Compl     Time\n",
      "   0   2.60567534e+09 -2.78701899e+09  7.50e+03 9.99e+02  9.96e+05     0s\n",
      "   1   1.67273107e+08 -4.17862695e+08  1.82e+03 2.42e+02  2.52e+05     0s\n",
      "   2   1.51591486e+06 -3.29732354e+08  7.31e+01 9.74e+00  1.34e+04     0s\n",
      "   3   5.55203536e+04 -2.83951217e+08  2.60e+00 3.46e-01  1.88e+03     0s\n",
      "   4   1.54530692e+04 -6.27891356e+07  1.25e-01 1.67e-02  3.36e+02     0s\n",
      "   5   1.42733901e+04 -1.08179005e+06  2.11e-04 2.81e-05  5.71e+00     0s\n",
      "   6   1.42479814e+04  9.73181569e+03  5.59e-07 7.45e-08  2.35e-02     0s\n",
      "   7   1.35390122e+04  1.24614523e+04  5.89e-08 7.84e-09  5.61e-03     0s\n",
      "   8   1.34199792e+04  1.34098744e+04  3.39e-10 4.52e-11  5.26e-05     0s\n",
      "   9   1.34189521e+04  1.34189420e+04  3.38e-14 1.23e-15  5.28e-08     0s\n",
      "  10   1.34189511e+04  1.34189511e+04  1.78e-14 1.73e-15  5.29e-11     0s\n",
      "\n",
      "Barrier solved model in 10 iterations and 0.01 seconds (0.00 work units)\n",
      "Optimal objective 1.34189511e+04\n",
      "\n",
      "[]\n",
      "[ 0  1  2  3  4  5  6  7  8  9 10 11 12 13 14 16 17 18 19 20 21 22 23 24\n",
      " 25 26 27 28 29 30 31 32 33 34 35 36 37]\n",
      "[ 4 10 11 12 16 25]\n"
     ]
    }
   ],
   "source": [
    "full_model = build_gurobi_model(Q_np, p_np, A_np, X_np[idx], G_np, h_np, Lb_np, Ub_np)\n",
    "full_model.setParam('OutputFlag', 1)\n",
    "full_model.setParam('Presolve', -1)\n",
    "full_model.optimize()\n",
    "optimal_val_full = full_model.objVal\n",
    "time_full = full_model.Runtime\n",
    "optimal_x_full = np.array([v.x for v in full_model.getVars()])\n",
    "duals_full = np.array([c.Pi for c in full_model.getConstrs()])\n",
    "duals_ineq_target = duals_full[-G.shape[0]:]\n",
    "duals_eq_target = duals_full[:A.shape[0]]\n",
    "active_ineq_target = np.where(np.abs(G_np@optimal_x_full - h_np) <= 1e-4)[0]\n",
    "active_ineq_target.tolist()\n",
    "\n",
    "active_lower_bounds = np.where(optimal_x_full - Lb_np <= 1e-4)[0]\n",
    "active_upper_bounds = np.where(Ub_np - optimal_x_full <= 1e-4)[0]\n",
    "print(active_ineq_target)\n",
    "print(active_lower_bounds)\n",
    "print(active_upper_bounds)"
   ]
  },
  {
   "cell_type": "code",
   "execution_count": 57,
   "metadata": {},
   "outputs": [],
   "source": [
    "inactive_lower_bounds = np.where(optimal_x_full - Lb_np > 1e-4)[0]\n",
    "inactive_upper_bounds = np.where(Ub_np - optimal_x_full > 1e-4)[0]"
   ]
  },
  {
   "cell_type": "code",
   "execution_count": 58,
   "metadata": {},
   "outputs": [
    {
     "name": "stdout",
     "output_type": "stream",
     "text": [
      "1000 1.0\n"
     ]
    }
   ],
   "source": [
    "# calculate the parameter values\n",
    "# optimal_val_full = 955340\n",
    "# num_ineq = 11424 + 7024*2\n",
    "opt_gap = 1e-2\n",
    "fac = max(1, max(np.abs(Q_np).max(), np.abs(p_np).max()))\n",
    "t = min(fac * (num_ineq + num_var * 2) / opt_gap / abs(optimal_val_full), 1000)\n",
    "dual_threshold = 1e-3\n",
    "ineq_threshold = 1 / dual_threshold / (int(t))\n",
    "\n",
    "print(int(t), ineq_threshold)"
   ]
  },
  {
   "cell_type": "code",
   "execution_count": 59,
   "metadata": {},
   "outputs": [
    {
     "data": {
      "text/plain": [
       "1.3033213205630634"
      ]
     },
     "execution_count": 59,
     "metadata": {},
     "output_type": "execute_result"
    }
   ],
   "source": [
    "(t / 5) ** (1/20)"
   ]
  },
  {
   "cell_type": "markdown",
   "metadata": {},
   "source": [
    "# remove part of the inequality constraints"
   ]
  },
  {
   "cell_type": "code",
   "execution_count": 60,
   "metadata": {},
   "outputs": [],
   "source": [
    "# start_time = time.time()\n",
    "# Yhat = model(X[idx].unsqueeze(0).to('cuda'))\n",
    "# Ystar = data.projection(X[idx].unsqueeze(0).to('cuda'), Yhat)\n",
    "# end_time = time.time()\n"
   ]
  },
  {
   "cell_type": "code",
   "execution_count": 61,
   "metadata": {},
   "outputs": [
    {
     "name": "stdout",
     "output_type": "stream",
     "text": [
      "Inference time:  0.002658843994140625\n",
      "[0.42959524 0.43151486 0.43568924 0.43980979 0.46410336 0.46590803\n",
      " 0.47154478 0.47455982 0.47602509 0.47702366 0.47809128 0.4796043\n",
      " 0.48091734 0.48509701 0.48536566 0.48577572 0.48705723 0.48827908\n",
      " 0.48846527 0.48851821 0.49021851 0.49138945 0.49398164 0.4941731\n",
      " 0.4946991  0.494708   0.49519623 0.49525998 0.49528639 0.49611251\n",
      " 0.49664667 0.49674434 0.49697256 0.49711584 0.49716308 0.4971704\n",
      " 0.49787072 0.49829057 0.49865567 0.49873758 0.49973804 0.49995629\n",
      " 0.50040442 0.50085796 0.50162319 0.50172857 0.50238465 0.50241781\n",
      " 0.50251346 0.5027364  0.50276038 0.50295821 0.50302901 0.50307926\n",
      " 0.50324109 0.50339219 0.5035378  0.50360685 0.50362843 0.50434002\n",
      " 0.50499459 0.50558741 0.50575608 0.50583738 0.50600556 0.50609211\n",
      " 0.50619928 0.50672364 0.50674597 0.50703202 0.50742753 0.50748278\n",
      " 0.5075297  0.50768329 0.5077036  0.50777386 0.50806425 0.50815667\n",
      " 0.5083113  0.50843354 0.50856871 0.5086272  0.50883317 0.50889517\n",
      " 0.50922663 0.50932499 0.50952211 0.50954151 0.50967002 0.50973484\n",
      " 0.50986664 0.51016776 0.51035561 0.51051559 0.51056248 0.51067409\n",
      " 0.51111332 0.51116189 0.51117101 0.5111879  0.511198   0.5112761\n",
      " 0.51147299 0.51159772 0.51161111 0.51163766 0.51205432 0.5120637\n",
      " 0.51219049 0.51220211 0.51261342 0.51305036 0.51325605 0.51330689\n",
      " 0.51345472 0.51353529 0.513561   0.51377473 0.51386178 0.51391554\n",
      " 0.51417968 0.5143148  0.51434915 0.51438754 0.51444072 0.51479935\n",
      " 0.51520806 0.51531856 0.51533483 0.51537396 0.51541748 0.51549496\n",
      " 0.51562947 0.51587087 0.51591013 0.51592099 0.51594505 0.51601407\n",
      " 0.51601644 0.5160265  0.51605116 0.51608285 0.51647133 0.51651025\n",
      " 0.51682147 0.51689813 0.51723405 0.51729551 0.51750742 0.51756175\n",
      " 0.51756843 0.51758945 0.51767058 0.51773812 0.51775014 0.51776221\n",
      " 0.51780232 0.51781336 0.51781397 0.51798207 0.51820547 0.51824141\n",
      " 0.5183061  0.51838649 0.51882106 0.51890884 0.51905984 0.51930635\n",
      " 0.51936044 0.51948955 0.51952343 0.51982575 0.51986832 0.5200577\n",
      " 0.52038225 0.52042708 0.52050047 0.52050302 0.5205959  0.52063197\n",
      " 0.52065103 0.52068785 0.52083515 0.5208418  0.52092671 0.52110398\n",
      " 0.52116462 0.52117228 0.52136136 0.52148043 0.52149094 0.52168416\n",
      " 0.5218902  0.52197067 0.52197155 0.5219792  0.52207519 0.5220869\n",
      " 0.52218081 0.52218544 0.52221339 0.52249225 0.52254403 0.5226247\n",
      " 0.52279272 0.52284133 0.52285521 0.52286347 0.52303915 0.52307704\n",
      " 0.52309638 0.52311976 0.52314888 0.52325469 0.52332931 0.52333482\n",
      " 0.52333507 0.52334243 0.52335823 0.5234103  0.52347379 0.52348405\n",
      " 0.52349742 0.52350856 0.52352457 0.52353194 0.52354295 0.52354823\n",
      " 0.52355994 0.52356159 0.52356829 0.52357594 0.52357978 0.52358689\n",
      " 0.52359878 0.52359878 0.52359878 0.52359878 0.52359878 0.52359878\n",
      " 0.52359878 0.52359878 0.52359878 0.52359878 0.52359878 0.52359878\n",
      " 0.52359878 0.52359878 0.52359878 0.52359878 0.52359878 0.52359878\n",
      " 0.52359878 0.52359878 0.52359878 0.52359878 0.52361066 0.52361777\n",
      " 0.52362161 0.52362926 0.52363596 0.52363761 0.52364933 0.52365461\n",
      " 0.52366561 0.52367298 0.523689   0.52370013 0.52371351 0.52372376\n",
      " 0.52378725 0.52383932 0.52385513 0.52386248 0.52386273 0.52386825\n",
      " 0.52394286 0.52404867 0.52407779 0.52410117 0.52412051 0.52415841\n",
      " 0.52433408 0.52434234 0.52435622 0.52440483 0.52457285 0.52465352\n",
      " 0.5247053  0.52498416 0.52501211 0.52501674 0.52511065 0.52512236\n",
      " 0.52521835 0.525226   0.52522688 0.52530735 0.52551339 0.52570661\n",
      " 0.52571713 0.52583619 0.52602527 0.52603294 0.52609357 0.52627084\n",
      " 0.52635575 0.52636241 0.5265097  0.52654652 0.52656558 0.52660166\n",
      " 0.52669453 0.52669708 0.52677047 0.5268153  0.52713985 0.52732923\n",
      " 0.5273718  0.52767413 0.527708   0.52783711 0.5278912  0.52813771\n",
      " 0.52828871 0.52837649 0.52881107 0.52889146 0.52895615 0.52899208\n",
      " 0.52921549 0.52938359 0.52938419 0.52939523 0.52943535 0.52944741\n",
      " 0.52945943 0.52952698 0.5296081  0.52962912 0.5296358  0.52969013\n",
      " 0.52990204 0.5299635  0.53029942 0.53037609 0.5306873  0.53072622\n",
      " 0.5311147  0.53114639 0.53117105 0.53118111 0.53118348 0.5312525\n",
      " 0.53127657 0.53128742 0.53132668 0.53156808 0.53170259 0.53178007\n",
      " 0.53182359 0.53186272 0.53187899 0.53198949 0.5323982  0.53275683\n",
      " 0.53281001 0.5328484  0.53288275 0.53301787 0.53328202 0.53333577\n",
      " 0.53342282 0.53363655 0.53366226 0.53374283 0.53389066 0.5339415\n",
      " 0.53414719 0.53458413 0.53499544 0.53500707 0.53513385 0.53514323\n",
      " 0.53555989 0.53558645 0.53559983 0.53572456 0.53592145 0.53599955\n",
      " 0.53600965 0.53602654 0.53603566 0.53608423 0.53652346 0.53663508\n",
      " 0.53668196 0.53684194 0.53702979 0.53733091 0.53746271 0.53752753\n",
      " 0.53765604 0.53767544 0.53787256 0.53797093 0.53830238 0.53836438\n",
      " 0.53857035 0.53862884 0.53876401 0.53888625 0.53904088 0.53913331\n",
      " 0.53942369 0.53949395 0.53951426 0.53966786 0.53971477 0.53977002\n",
      " 0.54016553 0.54045158 0.54047391 0.54099827 0.54110544 0.54119199\n",
      " 0.54136017 0.54144147 0.54161014 0.54220296 0.54285753 0.54356912\n",
      " 0.5435907  0.54365975 0.54380536 0.54395646 0.54411829 0.54416854\n",
      " 0.54423934 0.54443718 0.54446115 0.54468409 0.54477974 0.5448129\n",
      " 0.54546898 0.54557436 0.54633959 0.54679313 0.54724126 0.54745951\n",
      " 0.54845997 0.54854188 0.54890698 0.54932683 0.55002715 0.55003447\n",
      " 0.55008171 0.55022499 0.55045321 0.55055088 0.55108504 0.55191117\n",
      " 0.55193757 0.55200132 0.55248955 0.55249845 0.55302445 0.55321591\n",
      " 0.5558081  0.55697904 0.55867934 0.55873228 0.55891847 0.56014032\n",
      " 0.56142183 0.56183189 0.56210054 0.56628021 0.56759325 0.56910627\n",
      " 0.57017389 0.57117246 0.57263774 0.57565277 0.58128952 0.5830942\n",
      " 0.60738776 0.61150831 0.61568269 0.61760232]\n",
      "[ 32  76  30  27  95 278 294 478 162 258 187 450 133 154  14 185 105 416\n",
      " 157  72 266 216 211 178 464 170 254 308 255 296 161 240 112  71 190 116\n",
      "   5 482  41 210 108 123 201 101 341 477 114 120  23 401 200 241  62  78\n",
      " 176 433 193  45  90 400 199 379  34 397 351 165  64 394 325 389  46 375\n",
      " 208 153 480 285 431 125  55 333 339 472 434 238  57 158 107 182  93 385\n",
      " 425 220 481 329 443 203 330 303 344 322  25 263  22 408 328  87 355 118\n",
      " 476  91 412 280   8  52 462 395 244 318 247 222 249  16 179 298  15 417\n",
      " 151 458 413 373  39 209 391  60 409 484 160 166 191 369 215 310 181 147\n",
      " 183 271  38 362 449 331 225 320 306 194 143  12 115  54 207  67 383 382\n",
      "  48 334  68 447 269 442 387 251 304 326 364 127  42 441 139 347  20 262\n",
      "  11 348 223  37 451 273 230 471 457 319 418 342 367 343 381 324 248 135\n",
      " 242  47 177 169 245 376 420  92 386 390 243 358 264  50 274 437 474 218\n",
      " 301 419 466 429 377 315 459 473 327 276 314 246 393 345 349 371 366 404\n",
      " 111 109  43 234 224 374 311 440 289   7  36 281 252  44 195  66 129 469\n",
      " 479 288 354 356 159 121 126 104 100 148   1  69  31  82 228 214  70 132\n",
      " 184 221 174  56 463 229 192  29 295  19 113 488 145 141 337 175 131   0\n",
      " 414 422 292 487 380   3  79 136  98 122  97 173  74 212 226 475  28 206\n",
      " 282 468 103 256  17 265 102 384 196 287 372 119  81  59   6 142 197  24\n",
      " 202 313  89 293 137 138 312 452 299 360 257 388 439  61  75 470  86 204\n",
      " 117 283  26 428 392 426  65 460 124 436 411 405 239 164 305 146 454 284\n",
      " 128 168 213 396 172 260  53 424 261   4 467   2  73 489 150 217 297 253\n",
      "  35 167 336 231 363 110 332  83 163 267  18 270  77  99  58  85 448 198\n",
      "  84 236 465 180 140 338 427 352 403 302 483 189 227  94  88 300 370 186\n",
      "  40 235 398 453 130 291 144  80 149 309 410 106 152 279 134 444 155 335\n",
      " 290 438 188 421 323 307 486 445 156 268 365 359 232  96 346 446 368 353\n",
      " 455 286 237 250 361 435 316 357 485 406  51  10  63   9 415 219 423 456\n",
      " 461  21 317 402 171 350 430 259 399 378 205 432  13 407 233  49  33 340\n",
      " 272 275 321 277]\n",
      "[]\n"
     ]
    }
   ],
   "source": [
    "start_time = time.time()\n",
    "Yhat = model(X[idx].unsqueeze(0))\n",
    "Ystar = data.projection(X[idx].unsqueeze(0), Yhat)\n",
    "end_time = time.time()\n",
    "inference_time = end_time - start_time\n",
    "print(\"Inference time: \", inference_time)\n",
    "Ystar = Ystar.detach().numpy().flatten()\n",
    "ineq_sorted_index = np.argsort(-G_np@Ystar + h_np)\n",
    "ineq_sorted = np.sort(-G_np@Ystar + h_np)\n",
    "print(ineq_sorted)\n",
    "print(ineq_sorted_index)\n",
    "inactive_ineq_index = ineq_sorted_index[ineq_sorted > ineq_threshold]\n",
    "print(inactive_ineq_index)\n",
    "\n",
    "lb_sorted_index = np.argsort(Ystar - Lb_np)\n",
    "lb_sorted = np.sort(Ystar - Lb_np)\n",
    "inactive_lower_bounds = lb_sorted_index[lb_sorted > ineq_threshold]\n",
    "\n",
    "ub_sorted_index = np.argsort(Ub_np - Ystar)\n",
    "ub_sorted = np.sort(Ub_np - Ystar)\n",
    "inactive_upper_bounds = ub_sorted_index[ub_sorted > ineq_threshold]"
   ]
  },
  {
   "cell_type": "code",
   "execution_count": 62,
   "metadata": {},
   "outputs": [
    {
     "data": {
      "text/plain": [
       "set()"
      ]
     },
     "execution_count": 62,
     "metadata": {},
     "output_type": "execute_result"
    }
   ],
   "source": [
    "set(inactive_ineq_index).intersection(set(active_ineq_target))"
   ]
  },
  {
   "cell_type": "code",
   "execution_count": 63,
   "metadata": {},
   "outputs": [],
   "source": [
    "remaining_ineq_index = np.setdiff1d(np.arange(num_ineq), inactive_ineq_index)\n",
    "G_remaining = G[remaining_ineq_index]\n",
    "h_remaining = h[remaining_ineq_index]\n",
    "\n",
    "lb_remaining = Lb_np.copy()\n",
    "ub_remaining = Ub_np.copy()\n",
    "lb_remaining[inactive_lower_bounds] = -np.inf\n",
    "ub_remaining[inactive_upper_bounds] = np.inf"
   ]
  },
  {
   "cell_type": "code",
   "execution_count": 64,
   "metadata": {},
   "outputs": [
    {
     "name": "stdout",
     "output_type": "stream",
     "text": [
      "Set parameter FeasibilityTol to value 0.0001\n",
      "Set parameter TimeLimit to value 600\n",
      "Gurobi Optimizer version 11.0.0 build v11.0.0rc2 (linux64 - \"Ubuntu 22.04.2 LTS\")\n",
      "\n",
      "CPU model: 12th Gen Intel(R) Core(TM) i9-12900K, instruction set [SSE2|AVX|AVX2]\n",
      "Thread count: 24 physical cores, 24 logical processors, using up to 24 threads\n",
      "\n",
      "Optimize a model with 936 rows, 483 columns and 2244 nonzeros\n",
      "Model fingerprint: 0x0581cbef\n",
      "Model has 31 quadratic objective terms\n",
      "Coefficient statistics:\n",
      "  Matrix range     [4e-01, 3e+02]\n",
      "  Objective range  [7e+02, 2e+03]\n",
      "  QObjective range [4e+01, 4e+01]\n",
      "  Bounds range     [7e-03, 2e+00]\n",
      "  RHS range        [3e-03, 8e-01]\n",
      "Presolve removed 758 rows and 392 columns\n",
      "Presolve time: 0.00s\n",
      "Presolved: 178 rows, 209 columns, 755 nonzeros\n",
      "Presolved model has 31 quadratic objective terms\n",
      "Ordering time: 0.00s\n",
      "\n",
      "Barrier statistics:\n",
      " Free vars  : 4\n",
      " AA' NZ     : 1.953e+03\n",
      " Factor NZ  : 4.026e+03\n",
      " Factor Ops : 1.026e+05 (less than 1 second per iteration)\n",
      " Threads    : 1\n",
      "\n",
      "                  Objective                Residual\n",
      "Iter       Primal          Dual         Primal    Dual     Compl     Time\n",
      "   0   1.29643681e+11 -1.46658317e+11  2.49e+04 7.93e+03  4.03e+06     0s\n",
      "   1   2.20547569e+10 -3.19683615e+10  1.05e+04 3.35e+03  1.79e+06     0s\n",
      "   2   6.48872391e+08 -1.01078234e+10  1.62e+03 5.17e+02  3.82e+05     0s\n",
      "   3   8.66863379e+06 -3.55209703e+09  1.33e+02 4.24e+01  4.14e+04     0s\n",
      "   4   7.41428074e+05 -1.56935477e+09  2.10e+01 6.68e+00  1.06e+04     0s\n",
      "   5   2.24758830e+05 -7.71113737e+08  6.45e+00 2.05e+00  4.35e+03     0s\n",
      "   6   7.12858101e+04 -2.88203686e+08  1.14e+00 3.64e-01  1.16e+03     0s\n",
      "   7   3.47617574e+04 -1.02995341e+08  2.05e-01 6.54e-02  3.52e+02     0s\n",
      "   8   2.56359437e+04 -1.98265369e+06  5.84e-04 1.85e-04  6.19e+00     0s\n",
      "   9   2.05412215e+04 -4.78763387e+04  1.12e-05 4.19e-06  2.09e-01     0s\n",
      "  10   1.73938016e+04 -1.31075564e+04  3.11e-06 2.47e-06  9.34e-02     0s\n",
      "  11   1.48391359e+04  6.92835899e+03  2.63e-07 7.30e-07  2.42e-02     0s\n",
      "  12   1.35453766e+04  1.21716980e+04  5.87e-11 5.25e-09  4.21e-03     0s\n",
      "  13   1.34227784e+04  1.33817148e+04  9.22e-10 5.25e-10  1.26e-04     0s\n",
      "  14   1.34189549e+04  1.34189133e+04  2.31e-11 2.23e-13  1.27e-07     0s\n",
      "  15   1.34189511e+04  1.34189510e+04  7.98e-11 2.30e-12  1.28e-10     0s\n",
      "\n",
      "Barrier solved model in 15 iterations and 0.01 seconds (0.00 work units)\n",
      "Optimal objective 1.34189511e+04\n",
      "\n",
      "Value: full=13418.951076980278, reduced=13418.951080447943, diff=-3.467665010248311e-06\n",
      "Time: full=0.010710000991821289, reduced=0.012421846389770508, diff=-0.0017118453979492188\n"
     ]
    }
   ],
   "source": [
    "model_reduced = build_gurobi_model(Q, p, A, X_np[idx], G_remaining, h_remaining, lb_remaining, ub_remaining)\n",
    "model_reduced.setParam('OutputFlag', 1)\n",
    "model_reduced.setParam('Presolve', -1)\n",
    "# initialize the primal variables in model_hat2\n",
    "# for i, v in enumerate(model_hat2.getVars()):\n",
    "#     v.setAttr('Start', Ystar[i])\n",
    "model_reduced.optimize()\n",
    "optimal_val = model_reduced.objVal\n",
    "time_reduced = model_reduced.Runtime + inference_time\n",
    "optimal_x = np.array([v.x for v in model_reduced.getVars()])\n",
    "print(\"Value: full={}, reduced={}, diff={}\".format(optimal_val_full, optimal_val, optimal_val_full - optimal_val))\n",
    "print(\"Time: full={}, reduced={}, diff={}\".format(time_full, time_reduced, time_full - time_reduced))"
   ]
  },
  {
   "cell_type": "code",
   "execution_count": 65,
   "metadata": {},
   "outputs": [
    {
     "data": {
      "text/plain": [
       "(0.010710000991821289, 0.009763002395629883)"
      ]
     },
     "execution_count": 65,
     "metadata": {},
     "output_type": "execute_result"
    }
   ],
   "source": [
    "full_model.Runtime, model_reduced.Runtime"
   ]
  },
  {
   "cell_type": "markdown",
   "metadata": {},
   "source": [
    "# osqp warm start"
   ]
  },
  {
   "cell_type": "code",
   "execution_count": 43,
   "metadata": {},
   "outputs": [
    {
     "name": "stdout",
     "output_type": "stream",
     "text": [
      "0.015122532844543457\n",
      "13375.88303514959\n"
     ]
    }
   ],
   "source": [
    "num_trial = 10\n",
    "\n",
    "total_time = 0.0\n",
    "for _ in range(num_trial):\n",
    "    solver = build_osqp_model(Q_np, p_np, A_np, X_np[idx], G_np, h_np, Lb_np, Ub_np)\n",
    "    # solver1.warm_start(x=Ystar)\n",
    "    start_time = time.time()\n",
    "    results = solver.solve()\n",
    "    end_time = time.time()\n",
    "    total_time += (end_time - start_time)\n",
    "print(total_time / num_trial)\n",
    "print(results.info.obj_val)\n"
   ]
  },
  {
   "cell_type": "code",
   "execution_count": 30,
   "metadata": {},
   "outputs": [
    {
     "name": "stdout",
     "output_type": "stream",
     "text": [
      "0.016102910041809082\n",
      "13375.848118813015\n"
     ]
    }
   ],
   "source": [
    "total_time_ws = 0.0\n",
    "for _ in range(num_trial):\n",
    "    solver_ws = build_osqp_model(Q_np, p_np, A_np, X_np[idx], G_np, h_np, Lb_np, Ub_np)\n",
    "    solver_ws.warm_start(x=Ystar)\n",
    "    start_time = time.time()\n",
    "    result_ws = solver_ws.solve()\n",
    "    end_time = time.time()\n",
    "    total_time_ws += (end_time - start_time)\n",
    "print(total_time_ws / num_trial + inference_time)\n",
    "print(result_ws.info.obj_val)"
   ]
  },
  {
   "cell_type": "code",
   "execution_count": 31,
   "metadata": {},
   "outputs": [
    {
     "name": "stdout",
     "output_type": "stream",
     "text": [
      "0.0038568258285522463\n",
      "13375.833319200805\n"
     ]
    }
   ],
   "source": [
    "total_time_reduced = 0.0\n",
    "for _ in range(num_trial):\n",
    "    solver_reduced = build_osqp_model(Q_np, p_np, A_np, X_np[idx], G_remaining, h_remaining, lb_remaining, ub_remaining)\n",
    "    start_time = time.time()\n",
    "    results_reduced = solver_reduced.solve()\n",
    "    end_time = time.time()\n",
    "    total_time_reduced = end_time - start_time\n",
    "print(total_time_reduced / num_trial + inference_time)\n",
    "print(results_reduced.info.obj_val)"
   ]
  },
  {
   "cell_type": "code",
   "execution_count": 32,
   "metadata": {},
   "outputs": [
    {
     "name": "stdout",
     "output_type": "stream",
     "text": [
      "0.003991389274597168\n",
      "13375.773211036943\n"
     ]
    }
   ],
   "source": [
    "total_time_reduced_ws = 0.0\n",
    "for _ in range(num_trial):\n",
    "    solver_reduced_ws = build_osqp_model(Q_np, p_np, A_np, X_np[idx], G_remaining, h_remaining, lb_remaining, ub_remaining)\n",
    "    solver_reduced_ws.warm_start(x=Ystar)\n",
    "    start_time = time.time()\n",
    "    results_reduced_ws = solver_reduced_ws.solve()\n",
    "    end_time = time.time()\n",
    "    total_time_reduced_ws = end_time - start_time\n",
    "print(total_time_reduced_ws / num_trial + inference_time)\n",
    "print(results_reduced_ws.info.obj_val)"
   ]
  },
  {
   "cell_type": "code",
   "execution_count": 33,
   "metadata": {},
   "outputs": [
    {
     "data": {
      "text/plain": [
       "tensor(5.0846e-09)"
      ]
     },
     "execution_count": 33,
     "metadata": {},
     "output_type": "execute_result"
    }
   ],
   "source": [
    "x = results_reduced.x\n",
    "data.ineq_dist(X_np[idx], torch.tensor(x).unsqueeze(0)).max()"
   ]
  },
  {
   "cell_type": "markdown",
   "metadata": {},
   "source": [
    "# check"
   ]
  },
  {
   "cell_type": "code",
   "execution_count": 23,
   "metadata": {},
   "outputs": [
    {
     "name": "stdout",
     "output_type": "stream",
     "text": [
      "0\n"
     ]
    }
   ],
   "source": [
    "error = []\n",
    "for i in range(9900, 10000):\n",
    "    full_model = build_gurobi_model(Q_np, p_np, A_np, X_np[idx], G_np, h_np)\n",
    "    full_model.optimize()\n",
    "    optimal_x_full = np.array([v.x for v in full_model.getVars()])\n",
    "    active_ineq_target = np.where(np.abs(G_np@optimal_x_full - h_np) <= 1e-4)[0]\n",
    "    active_ineq_target.tolist()\n",
    "\n",
    "    Yhat = model(X[idx].unsqueeze(0))\n",
    "    Ystar = data.projection(X[idx].unsqueeze(0), Yhat)\n",
    "    Ystar = Ystar.detach().numpy().flatten()\n",
    "    ineq_sorted_index = np.argsort(-G_np@Ystar + h_np)\n",
    "    ineq_sorted = np.sort(-G_np@Ystar + h_np)\n",
    "    inactive_ineq_index = ineq_sorted_index[ineq_sorted > ineq_threshold]\n",
    "\n",
    "    error.append(len(set(inactive_ineq_index).intersection(set(active_ineq_target))))\n",
    "print(max(error))\n",
    "\n"
   ]
  },
  {
   "cell_type": "code",
   "execution_count": 24,
   "metadata": {},
   "outputs": [
    {
     "data": {
      "text/plain": [
       "[0,\n",
       " 0,\n",
       " 0,\n",
       " 0,\n",
       " 0,\n",
       " 0,\n",
       " 0,\n",
       " 0,\n",
       " 0,\n",
       " 0,\n",
       " 0,\n",
       " 0,\n",
       " 0,\n",
       " 0,\n",
       " 0,\n",
       " 0,\n",
       " 0,\n",
       " 0,\n",
       " 0,\n",
       " 0,\n",
       " 0,\n",
       " 0,\n",
       " 0,\n",
       " 0,\n",
       " 0,\n",
       " 0,\n",
       " 0,\n",
       " 0,\n",
       " 0,\n",
       " 0,\n",
       " 0,\n",
       " 0,\n",
       " 0,\n",
       " 0,\n",
       " 0,\n",
       " 0,\n",
       " 0,\n",
       " 0,\n",
       " 0,\n",
       " 0,\n",
       " 0,\n",
       " 0,\n",
       " 0,\n",
       " 0,\n",
       " 0,\n",
       " 0,\n",
       " 0,\n",
       " 0,\n",
       " 0,\n",
       " 0,\n",
       " 0,\n",
       " 0,\n",
       " 0,\n",
       " 0,\n",
       " 0,\n",
       " 0,\n",
       " 0,\n",
       " 0,\n",
       " 0,\n",
       " 0,\n",
       " 0,\n",
       " 0,\n",
       " 0,\n",
       " 0,\n",
       " 0,\n",
       " 0,\n",
       " 0,\n",
       " 0,\n",
       " 0,\n",
       " 0,\n",
       " 0,\n",
       " 0,\n",
       " 0,\n",
       " 0,\n",
       " 0,\n",
       " 0,\n",
       " 0,\n",
       " 0,\n",
       " 0,\n",
       " 0,\n",
       " 0,\n",
       " 0,\n",
       " 0,\n",
       " 0,\n",
       " 0,\n",
       " 0,\n",
       " 0,\n",
       " 0,\n",
       " 0,\n",
       " 0,\n",
       " 0,\n",
       " 0,\n",
       " 0,\n",
       " 0,\n",
       " 0,\n",
       " 0,\n",
       " 0,\n",
       " 0,\n",
       " 0,\n",
       " 0]"
      ]
     },
     "execution_count": 24,
     "metadata": {},
     "output_type": "execute_result"
    }
   ],
   "source": [
    "error"
   ]
  },
  {
   "cell_type": "code",
   "execution_count": null,
   "metadata": {},
   "outputs": [],
   "source": []
  }
 ],
 "metadata": {
  "kernelspec": {
   "display_name": "scopf",
   "language": "python",
   "name": "python3"
  },
  "language_info": {
   "codemirror_mode": {
    "name": "ipython",
    "version": 3
   },
   "file_extension": ".py",
   "mimetype": "text/x-python",
   "name": "python",
   "nbconvert_exporter": "python",
   "pygments_lexer": "ipython3",
   "version": "3.9.17"
  }
 },
 "nbformat": 4,
 "nbformat_minor": 2
}

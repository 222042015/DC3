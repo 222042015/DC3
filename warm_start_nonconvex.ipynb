{
 "cells": [
  {
   "cell_type": "code",
   "execution_count": 1,
   "metadata": {},
   "outputs": [],
   "source": [
    "import numpy as np\n",
    "import pickle\n",
    "import torch\n",
    "\n",
    "import sys\n",
    "import os\n",
    "sys.path.insert(1, os.path.join(sys.path[0], os.pardir, os.pardir))\n",
    "from utils import SimpleProblem\n",
    "\n",
    "import os\n",
    "os.environ['KMP_DUPLICATE_LIB_OK']='True'\n",
    "\n",
    "torch.set_default_dtype(torch.float64)\n",
    "\n",
    "import time\n",
    "import cyipopt as ipopt\n",
    "\n",
    "from utils import build_ipopt"
   ]
  },
  {
   "cell_type": "code",
   "execution_count": 2,
   "metadata": {},
   "outputs": [
    {
     "data": {
      "text/plain": [
       "NNSolver_eq_proj(\n",
       "  (net): Sequential(\n",
       "    (0): Linear(in_features=50, out_features=200, bias=True)\n",
       "    (1): BatchNorm1d(200, eps=1e-05, momentum=0.1, affine=True, track_running_stats=True)\n",
       "    (2): GELU(approximate='none')\n",
       "    (3): Dropout(p=0.2, inplace=False)\n",
       "    (4): Linear(in_features=200, out_features=200, bias=True)\n",
       "    (5): BatchNorm1d(200, eps=1e-05, momentum=0.1, affine=True, track_running_stats=True)\n",
       "    (6): GELU(approximate='none')\n",
       "    (7): Dropout(p=0.2, inplace=False)\n",
       "    (8): Linear(in_features=200, out_features=100, bias=True)\n",
       "  )\n",
       ")"
      ]
     },
     "execution_count": 2,
     "metadata": {},
     "output_type": "execute_result"
    }
   ],
   "source": [
    "from model_utils import NNSolver_eq_proj\n",
    "\n",
    "filepath = \"/home/jxxiong/A-xjx/DC3/datasets/nonconvex/random_nonconvex_dataset_var100_ineq50_eq50_ex10000\"\n",
    "with open(filepath, 'rb') as f:\n",
    "    data = pickle.load(f)\n",
    "\n",
    "arg_path = \"/home/jxxiong/A-xjx/DC3/results/NonconvexProblem-100-50-50-10000/method_eq_proj/2706e1212f81176f70decab0cefb4410cb753c77/1713357205-2286425/args.dict\"\n",
    "args = pickle.load(open(arg_path, 'rb'))\n",
    "\n",
    "model = NNSolver_eq_proj(data, args)\n",
    "\n",
    "model_path = \"/home/jxxiong/A-xjx/DC3/results/NonconvexProblem-100-50-50-10000/method_eq_proj/2706e1212f81176f70decab0cefb4410cb753c77/1713357205-2286425/solver_net.dict\"\n",
    "model.load_state_dict(torch.load(model_path))\n",
    "\n",
    "model.eval()\n",
    "# model.to('cuda')\n",
    "model.to('cpu')"
   ]
  },
  {
   "cell_type": "code",
   "execution_count": 3,
   "metadata": {},
   "outputs": [],
   "source": [
    "DEVICE = 'cpu'\n",
    "for attr in dir(data):\n",
    "    var = getattr(data, attr)\n",
    "    if not callable(var) and not attr.startswith(\"__\") and torch.is_tensor(var):\n",
    "        try:\n",
    "            setattr(data, attr, var.to(DEVICE))\n",
    "        except AttributeError:\n",
    "            pass"
   ]
  },
  {
   "cell_type": "code",
   "execution_count": 4,
   "metadata": {},
   "outputs": [],
   "source": [
    "A = data.A\n",
    "G = data.G\n",
    "h = data.h\n",
    "Q = data.Q\n",
    "p = data.p\n",
    "\n",
    "A_np = data.A_np\n",
    "G_np = data.G_np\n",
    "h_np = data.h_np\n",
    "Q_np = data.Q_np\n",
    "p_np = data.p_np\n",
    "\n",
    "X = data.X\n",
    "X_np = data.X_np\n",
    "\n",
    "num_var = A.shape[1]\n",
    "num_eq = A.shape[0]\n",
    "num_ineq = G.shape[0]"
   ]
  },
  {
   "cell_type": "code",
   "execution_count": 5,
   "metadata": {},
   "outputs": [],
   "source": [
    "def get_init(A, x):\n",
    "    y0 = np.linalg.pinv(A)@x\n",
    "    return y0"
   ]
  },
  {
   "cell_type": "code",
   "execution_count": 6,
   "metadata": {},
   "outputs": [],
   "source": [
    "idx = 9000"
   ]
  },
  {
   "cell_type": "code",
   "execution_count": 7,
   "metadata": {},
   "outputs": [
    {
     "name": "stdout",
     "output_type": "stream",
     "text": [
      "\n",
      "******************************************************************************\n",
      "This program contains Ipopt, a library for large-scale nonlinear optimization.\n",
      " Ipopt is released as open source code under the Eclipse Public License (EPL).\n",
      "         For more information visit https://github.com/coin-or/Ipopt\n",
      "******************************************************************************\n",
      "\n"
     ]
    },
    {
     "name": "stderr",
     "output_type": "stream",
     "text": [
      "/home/jxxiong/A-xjx/DC3/utils.py:769: FutureWarning: The class named 'problem' will soon be deprecated in CyIpopt. Please replace all uses and use 'Problem' going forward.\n",
      "  nlp = ipopt.problem(n=num_var,\n"
     ]
    },
    {
     "data": {
      "text/plain": [
       "[1, 3, 4, 12, 13, 18, 34, 37, 39, 40, 42, 45, 46]"
      ]
     },
     "execution_count": 7,
     "metadata": {},
     "output_type": "execute_result"
    }
   ],
   "source": [
    "full_model = build_ipopt(Q_np, p_np, A_np, X_np[idx], G_np, h_np)\n",
    "start_time = time.time()\n",
    "optimal_x_full, info_full = full_model.solve(get_init(A_np, X_np[idx]))\n",
    "end_time = time.time()\n",
    "time_full = end_time - start_time\n",
    "optimal_val_full = info_full['obj_val']\n",
    "active_ineq_target = np.where(np.abs(G_np@optimal_x_full - h_np) <= 1e-4)[0]\n",
    "active_ineq_target.tolist()"
   ]
  },
  {
   "cell_type": "code",
   "execution_count": 8,
   "metadata": {},
   "outputs": [
    {
     "name": "stdout",
     "output_type": "stream",
     "text": [
      "431 2.320185614849188\n"
     ]
    }
   ],
   "source": [
    "# calculate the parameter values\n",
    "\n",
    "opt_gap = 0.01\n",
    "t = num_ineq / opt_gap / abs(optimal_val_full)\n",
    "\n",
    "dual_threshold = 1e-3\n",
    "ineq_threshold = 1 / dual_threshold / int(t)\n",
    "\n",
    "print(int(t), ineq_threshold)"
   ]
  },
  {
   "cell_type": "markdown",
   "metadata": {},
   "source": [
    "# remove part of the inequality constraints"
   ]
  },
  {
   "cell_type": "code",
   "execution_count": 9,
   "metadata": {},
   "outputs": [],
   "source": [
    "# XX = X[idx].unsqueeze(0).to('cuda')\n",
    "# start_time = time.time()\n",
    "# Yhat = model(XX)\n",
    "# Ystar = data.projection(XX, Yhat)\n",
    "# end_time = time.time()\n",
    "\n",
    "# start_time - end_time\n"
   ]
  },
  {
   "cell_type": "code",
   "execution_count": 10,
   "metadata": {},
   "outputs": [
    {
     "name": "stdout",
     "output_type": "stream",
     "text": [
      "Inference time:  0.0012979507446289062\n",
      "[ 0.33618555  0.39220554  0.45107663  0.50017045  0.52421756  0.56971751\n",
      "  0.58069428  0.59901621  0.63224894  0.63798819  0.88612242  0.94228262\n",
      "  0.99003326  1.07726453  1.07857428  1.13645375  1.27553673  2.10891739\n",
      "  2.13518904  2.17800478  2.19373177  2.22177968  2.68412888  2.7667148\n",
      "  2.90988385  3.23770211  3.44838402  3.52140208  3.56906934  3.9138547\n",
      "  4.09076069  4.98843254  5.25249889  5.58059262  5.75191399  6.15332183\n",
      "  6.350956    6.47356779  7.48299012 10.37707413 10.37806946 10.57881741\n",
      " 10.91353806 11.25204565 11.93099774 12.54175085 12.70290288 13.26941813\n",
      " 14.7172558  14.97075727]\n",
      "[ 3 13 18 34 37 39  4  1 45 12 42  9 40 46 20 29 38 19  5 16 32 24 11 31\n",
      " 43 28  0  2 22 23  8 17 26 10 41 44 35 15 36  6 21 25 48 33  7 30 47 14\n",
      " 49 27]\n",
      "[11 31 43 28  0  2 22 23  8 17 26 10 41 44 35 15 36  6 21 25 48 33  7 30\n",
      " 47 14 49 27]\n"
     ]
    }
   ],
   "source": [
    "start_time = time.time()\n",
    "Yhat = model(X[idx].unsqueeze(0))\n",
    "Ystar = data.projection(X[idx].unsqueeze(0), Yhat)\n",
    "end_time = time.time()\n",
    "inference_time = end_time - start_time\n",
    "print(\"Inference time: \", inference_time)\n",
    "Ystar = Ystar.detach().numpy().flatten()\n",
    "ineq_sorted_index = np.argsort(-G_np@Ystar + h_np)\n",
    "ineq_sorted = np.sort(-G_np@Ystar + h_np)\n",
    "print(ineq_sorted)\n",
    "print(ineq_sorted_index)\n",
    "inactive_ineq_index = ineq_sorted_index[ineq_sorted > ineq_threshold]\n",
    "# inactive_ineq_index = ineq_sorted_index[ineq_sorted > 3.36]\n",
    "print(inactive_ineq_index)"
   ]
  },
  {
   "cell_type": "code",
   "execution_count": 11,
   "metadata": {},
   "outputs": [
    {
     "data": {
      "text/plain": [
       "set()"
      ]
     },
     "execution_count": 11,
     "metadata": {},
     "output_type": "execute_result"
    }
   ],
   "source": [
    "set(inactive_ineq_index).intersection(set(active_ineq_target))"
   ]
  },
  {
   "cell_type": "code",
   "execution_count": 12,
   "metadata": {},
   "outputs": [
    {
     "data": {
      "text/plain": [
       "(37,)"
      ]
     },
     "execution_count": 12,
     "metadata": {},
     "output_type": "execute_result"
    }
   ],
   "source": [
    "np.setdiff1d(np.arange(num_ineq), active_ineq_target).shape"
   ]
  },
  {
   "cell_type": "code",
   "execution_count": 13,
   "metadata": {},
   "outputs": [
    {
     "data": {
      "text/plain": [
       "array([ 1,  3,  4, 12, 13, 18, 34, 37, 39, 40, 42, 45, 46])"
      ]
     },
     "execution_count": 13,
     "metadata": {},
     "output_type": "execute_result"
    }
   ],
   "source": [
    "active_ineq_target"
   ]
  },
  {
   "cell_type": "code",
   "execution_count": 14,
   "metadata": {},
   "outputs": [
    {
     "name": "stdout",
     "output_type": "stream",
     "text": [
      "Value: full=-11.596384930012848, reduced=-11.596384939487834, diff=9.47498612902109e-09\n",
      "Time: full=0.042676448822021484, reduced=0.03588604927062988, diff=0.0067903995513916016\n"
     ]
    }
   ],
   "source": [
    "# remaining_ineq_index = np.setdiff1d(np.arange(num_ineq), inactive_ineq_index)\n",
    "# remaining_ineq_index = active_ineq_target[60:]\n",
    "remaining_ineq_index = np.array(active_ineq_target.tolist() + [0, 2, 11, 14, 15])\n",
    "\n",
    "\n",
    "G_remaining = G_np[remaining_ineq_index]\n",
    "h_remaining = h_np[remaining_ineq_index]\n",
    "model_reduced = build_ipopt(Q_np, p_np, A_np, X_np[idx], G_remaining, h_remaining)\n",
    "start_time = time.time()\n",
    "optimal_x_reduced, info_reduced = model_reduced.solve(get_init(A_np, X_np[idx]))\n",
    "end_time = time.time()\n",
    "optimal_val = info_reduced['obj_val']\n",
    "time_reduced = end_time - start_time\n",
    "# time_reduced = end_time - start_time + inference_time\n",
    "print(\"Value: full={}, reduced={}, diff={}\".format(optimal_val_full, optimal_val, optimal_val_full - optimal_val))\n",
    "print(\"Time: full={}, reduced={}, diff={}\".format(time_full, time_reduced, time_full - time_reduced))"
   ]
  },
  {
   "cell_type": "markdown",
   "metadata": {},
   "source": [
    "# osqp warm start"
   ]
  },
  {
   "cell_type": "code",
   "execution_count": 24,
   "metadata": {},
   "outputs": [
    {
     "name": "stdout",
     "output_type": "stream",
     "text": [
      "0.041019248962402347\n",
      "-11.596384930012848\n"
     ]
    }
   ],
   "source": [
    "num_trial = 10\n",
    "\n",
    "total_time = 0.0\n",
    "for _ in range(num_trial):\n",
    "    solver = build_ipopt(Q_np, p_np, A_np, X_np[idx], G_np, h_np)\n",
    "    # solver1.warm_start(x=Ystar)\n",
    "    start_time = time.time()\n",
    "    x, results = solver.solve(get_init(A_np, X_np[idx]))\n",
    "    end_time = time.time()\n",
    "    total_time += (end_time - start_time)\n",
    "print(total_time / num_trial)\n",
    "print(results['obj_val'])\n"
   ]
  },
  {
   "cell_type": "code",
   "execution_count": 25,
   "metadata": {},
   "outputs": [
    {
     "name": "stderr",
     "output_type": "stream",
     "text": [
      "/home/jxxiong/A-xjx/DC3/utils.py:769: FutureWarning: The class named 'problem' will soon be deprecated in CyIpopt. Please replace all uses and use 'Problem' going forward.\n",
      "  nlp = ipopt.problem(n=num_var,\n"
     ]
    },
    {
     "name": "stdout",
     "output_type": "stream",
     "text": [
      "0.03576536178588867\n",
      "-11.596384959973047\n"
     ]
    }
   ],
   "source": [
    "total_time_ws = 0.0\n",
    "for _ in range(num_trial):\n",
    "    solver_ws = build_ipopt(Q_np, p_np, A_np, X_np[idx], G_np, h_np)\n",
    "    start_time = time.time()\n",
    "    x_ws, result_ws = solver_ws.solve(Ystar)\n",
    "    end_time = time.time()\n",
    "    total_time_ws += (end_time - start_time)\n",
    "print(total_time_ws / num_trial + inference_time)\n",
    "print(result_ws['obj_val'])"
   ]
  },
  {
   "cell_type": "code",
   "execution_count": 26,
   "metadata": {},
   "outputs": [
    {
     "name": "stderr",
     "output_type": "stream",
     "text": [
      "/home/jxxiong/A-xjx/DC3/utils.py:769: FutureWarning: The class named 'problem' will soon be deprecated in CyIpopt. Please replace all uses and use 'Problem' going forward.\n",
      "  nlp = ipopt.problem(n=num_var,\n"
     ]
    },
    {
     "name": "stdout",
     "output_type": "stream",
     "text": [
      "0.0042236089706420895\n",
      "-11.596384939487834\n"
     ]
    }
   ],
   "source": [
    "total_time_reduced = 0.0\n",
    "for _ in range(num_trial):\n",
    "    solver_reduced = build_ipopt(Q_np, p_np, A_np, X_np[idx], G_remaining, h_remaining)\n",
    "    start_time = time.time()\n",
    "    x_reduced, results_reduced = solver_reduced.solve(get_init(A_np, X_np[idx]))\n",
    "    end_time = time.time()\n",
    "    total_time_reduced = end_time - start_time\n",
    "print(total_time_reduced / num_trial + inference_time)\n",
    "print(results_reduced['obj_val'])"
   ]
  },
  {
   "cell_type": "code",
   "execution_count": 20,
   "metadata": {},
   "outputs": [
    {
     "name": "stdout",
     "output_type": "stream",
     "text": [
      "0.001326131820678711\n",
      "-15.492729794298866\n",
      "2.8181076049804688e-05\n"
     ]
    }
   ],
   "source": [
    "total_time_reduced_ws = 0.0\n",
    "for _ in range(num_trial):\n",
    "    solver_reduced_ws = build_ipopt(Q_np, p_np, A_np, X_np[idx], G_remaining, h_remaining)\n",
    "    start_time = time.time()\n",
    "    x_reduced_ws, results_reduced_ws = solver_reduced_ws.solve(Ystar)\n",
    "    end_time = time.time()\n",
    "    total_time_reduced_ws = end_time - start_time\n",
    "print(total_time_reduced_ws / num_trial + inference_time)\n",
    "print(results_reduced_ws['obj_val'])\n",
    "print(total_time_reduced_ws / num_trial)"
   ]
  },
  {
   "cell_type": "markdown",
   "metadata": {},
   "source": [
    "# check"
   ]
  },
  {
   "cell_type": "code",
   "execution_count": null,
   "metadata": {},
   "outputs": [
    {
     "name": "stdout",
     "output_type": "stream",
     "text": [
      "0\n"
     ]
    }
   ],
   "source": [
    "error = []\n",
    "for i in range(9300, 10000):\n",
    "    full_model = build_gurobi_model(Q_np, p_np, A_np, X_np[idx], G_np, h_np)\n",
    "    full_model.optimize()\n",
    "    optimal_x_full = np.array([v.x for v in full_model.getVars()])\n",
    "    active_ineq_target = np.where(np.abs(G_np@optimal_x_full - h_np) <= 1e-4)[0]\n",
    "    active_ineq_target.tolist()\n",
    "\n",
    "    Yhat = model(X[idx].unsqueeze(0))\n",
    "    Ystar = data.projection(X[idx].unsqueeze(0), Yhat)\n",
    "    Ystar = Ystar.detach().numpy().flatten()\n",
    "    ineq_sorted_index = np.argsort(-G_np@Ystar + h_np)\n",
    "    ineq_sorted = np.sort(-G_np@Ystar + h_np)\n",
    "    inactive_ineq_index = ineq_sorted_index[ineq_sorted > 2]\n",
    "\n",
    "    error.append(len(set(inactive_ineq_index).intersection(set(active_ineq_target))))\n",
    "print(max(error))\n",
    "\n"
   ]
  },
  {
   "cell_type": "code",
   "execution_count": null,
   "metadata": {},
   "outputs": [
    {
     "name": "stdout",
     "output_type": "stream",
     "text": [
      "\n",
      "******************************************************************************\n",
      "This program contains Ipopt, a library for large-scale nonlinear optimization.\n",
      " Ipopt is released as open source code under the Eclipse Public License (EPL).\n",
      "         For more information visit https://github.com/coin-or/Ipopt\n",
      "******************************************************************************\n",
      "\n"
     ]
    },
    {
     "name": "stderr",
     "output_type": "stream",
     "text": [
      "/home/jxxiong/A-xjx/DC3/utils.py:688: FutureWarning: The class named 'problem' will soon be deprecated in CyIpopt. Please replace all uses and use 'Problem' going forward.\n",
      "  nlp = ipopt.problem(\n",
      "/home/jxxiong/.conda/envs/scopf/lib/python3.9/site-packages/cyipopt/utils.py:43: FutureWarning: The function named 'addOption' will soon be deprecated in CyIpopt. Please replace all uses and use 'add_option' going forward.\n",
      "  warnings.warn(msg, FutureWarning)\n"
     ]
    },
    {
     "data": {
      "text/plain": [
       "(array([[-0.55611482, -0.56368449, -0.64790394,  0.37884889, -0.19126514,\n",
       "         -0.1764256 ,  0.71853515, -0.4212393 , -0.6760313 , -0.27583975,\n",
       "         -0.45301068, -0.66199673, -0.47733795, -0.30222725, -1.00513773,\n",
       "          0.35989204, -1.40671222,  0.0209178 , -0.34485383, -0.68199178,\n",
       "          0.2479107 , -0.16290416,  0.54918279, -0.70889106,  0.28346117,\n",
       "         -0.31472916,  0.67713666, -0.96370784, -0.09016452, -0.46824194,\n",
       "         -0.67885591,  0.65289059, -0.55205763, -0.81256397,  0.35689147,\n",
       "         -1.57463091,  0.43449316, -0.3146935 ,  0.31734281, -0.09843636,\n",
       "         -0.04760909, -1.00478053, -0.13062429, -0.23469302, -0.49049767,\n",
       "         -0.2889595 ,  0.00300261, -0.75304159, -0.48184272, -0.34045444,\n",
       "         -0.12102274,  0.06690322, -0.4348534 , -0.34388626,  0.02230891,\n",
       "         -0.12307867,  0.69059265, -0.76568063,  0.22664308,  0.587296  ,\n",
       "         -0.5935183 , -0.17313994, -0.58612199, -0.89719827, -0.18061466,\n",
       "         -0.85654165, -0.75405419, -0.48742942, -0.34610607, -0.19612261,\n",
       "         -1.0038218 ,  0.19868401, -0.71456058, -0.06041363, -0.39787249,\n",
       "         -0.29620232,  0.06164715, -0.49763608, -0.2520428 ,  0.28963581,\n",
       "         -0.12220271, -0.96690437, -0.58579727, -0.23948143,  0.08820955,\n",
       "         -0.12687794, -0.18249263, -0.20877205, -0.2184024 ,  0.06774777,\n",
       "         -0.26836455, -0.36388889, -0.05512669, -0.61617332,  0.09175954,\n",
       "          0.07447384,  0.33491937, -0.05334238, -0.55697208, -0.41820188]]),\n",
       " 0.0729212760925293,\n",
       " 0.0729212760925293)"
      ]
     },
     "execution_count": 7,
     "metadata": {},
     "output_type": "execute_result"
    }
   ],
   "source": [
    "data.opt_solve(X[idx].unsqueeze(0))"
   ]
  },
  {
   "cell_type": "code",
   "execution_count": null,
   "metadata": {},
   "outputs": [],
   "source": []
  }
 ],
 "metadata": {
  "kernelspec": {
   "display_name": "scopf",
   "language": "python",
   "name": "python3"
  },
  "language_info": {
   "codemirror_mode": {
    "name": "ipython",
    "version": 3
   },
   "file_extension": ".py",
   "mimetype": "text/x-python",
   "name": "python",
   "nbconvert_exporter": "python",
   "pygments_lexer": "ipython3",
   "version": "3.9.19"
  }
 },
 "nbformat": 4,
 "nbformat_minor": 2
}

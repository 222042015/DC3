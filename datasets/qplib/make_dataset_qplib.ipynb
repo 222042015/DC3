{
 "cells": [
  {
   "cell_type": "code",
   "execution_count": 1,
   "metadata": {},
   "outputs": [],
   "source": [
    "'''\n",
    "generate dataset from qplib\n",
    "from Xi Gao\n",
    "'''\n",
    "\n",
    "import osqp\n",
    "import time\n",
    "import tqdm\n",
    "import random\n",
    "import pickle\n",
    "import numpy as np\n",
    "import gurobipy as gp\n",
    "\n",
    "from gurobipy import Model, GRB, QuadExpr, LinExpr\n",
    "from scipy.sparse import csc_matrix"
   ]
  },
  {
   "cell_type": "markdown",
   "metadata": {},
   "source": [
    "## Import Data"
   ]
  },
  {
   "cell_type": "code",
   "execution_count": 2,
   "metadata": {},
   "outputs": [
    {
     "name": "stdout",
     "output_type": "stream",
     "text": [
      "Read LP format model from file /home/jxxiong/A-xjx/DC3/datasets/qplib/QPLIB_8906.lp\n",
      "Reading time = 0.01 seconds\n",
      "obj: 838 rows, 5223 columns, 15558 nonzeros\n"
     ]
    }
   ],
   "source": [
    "# qp_path = ''\n",
    "m = gp.read('/home/jxxiong/A-xjx/DC3/datasets/qplib/QPLIB_8906.lp')\n",
    "n_samples = 10000\n",
    "perturb_rate = 0.3"
   ]
  },
  {
   "cell_type": "code",
   "execution_count": 3,
   "metadata": {},
   "outputs": [],
   "source": [
    "def get_constraints(m):\n",
    "    ini_ineq_matrix = []\n",
    "    ini_ineq_rhs = []\n",
    "    ini_eq_matrix = []\n",
    "    ini_eq_rhs = []\n",
    "    a_matrix = m.getA().toarray()\n",
    "\n",
    "    i = 0\n",
    "    for constr in m.getConstrs():\n",
    "        if constr.sense == '<':\n",
    "            ini_ineq_matrix.append(a_matrix[i,:])\n",
    "            ini_ineq_rhs.append(constr.RHS)\n",
    "            i += 1\n",
    "        elif constr.sense == '>':\n",
    "            ini_ineq_matrix.append(-a_matrix[i,:])\n",
    "            ini_ineq_rhs.append(-constr.RHS)\n",
    "            i += 1\n",
    "        elif constr.sense == '=':\n",
    "            ini_eq_matrix.append(a_matrix[i,:])\n",
    "            ini_eq_rhs.append(constr.RHS)\n",
    "            i += 1\n",
    "\n",
    "    ini_ineq_matrix = np.array(ini_ineq_matrix)\n",
    "    ini_ineq_rhs = np.array(ini_ineq_rhs)\n",
    "    ini_eq_matrix = np.array(ini_eq_matrix)\n",
    "    ini_eq_rhs = np.array(ini_eq_rhs)\n",
    "\n",
    "    return ini_ineq_matrix, ini_ineq_rhs, ini_eq_matrix, ini_eq_rhs\n",
    "\n",
    "def get_objective(m):\n",
    "    ini_q_matrix = m.getQ().toarray()\n",
    "    ini_p_vec = []\n",
    "    variables = m.getVars()\n",
    "    for var in variables:\n",
    "        ini_p_vec.append(var.obj)\n",
    "    ini_p_vec = np.array(ini_p_vec)\n",
    "\n",
    "    return ini_q_matrix, ini_p_vec\n",
    "\n",
    "def get_bound(m):\n",
    "    variables = m.getVars()\n",
    "    ini_lb = []\n",
    "    ini_ub = []\n",
    "    for var in variables:\n",
    "        ini_lb.append(var.lb)\n",
    "        ini_ub.append(var.ub)\n",
    "    ini_lb = np.array(ini_lb)\n",
    "    ini_ub = np.array(ini_ub)\n",
    "\n",
    "    return ini_lb, ini_ub"
   ]
  },
  {
   "cell_type": "code",
   "execution_count": 4,
   "metadata": {},
   "outputs": [],
   "source": [
    "def perturb_eq_rhs(ini_eq_rhs, num_samples, perturb_rate=perturb_rate):\n",
    "    eq_rhs_list = []\n",
    "    for _ in range(num_samples):\n",
    "        eq_rhs = ini_eq_rhs.copy()\n",
    "        nonzero_indices = np.nonzero(ini_eq_rhs)\n",
    "        nonzero_values = ini_eq_rhs[nonzero_indices]\n",
    "        perturbed_values = nonzero_values * (1 + np.random.uniform(-perturb_rate, perturb_rate, size=nonzero_values.shape))\n",
    "        eq_rhs[nonzero_indices] = perturbed_values\n",
    "        eq_rhs_list.append(eq_rhs)\n",
    "    return np.array(eq_rhs_list)"
   ]
  },
  {
   "cell_type": "code",
   "execution_count": 5,
   "metadata": {},
   "outputs": [],
   "source": [
    "def solve_gurobi(Q, p, A, x, G, h, lb, ub):\n",
    "    # Create a new Gurobi model\n",
    "    model = Model(\"qp\")\n",
    "\n",
    "    # Add variables to the model\n",
    "    n_vars = Q.shape[0]\n",
    "    vars = []\n",
    "    for i in range(n_vars):\n",
    "        vars.append(model.addVar(lb=lb[i], ub=ub[i], vtype=GRB.CONTINUOUS, name=f\"x_{i}\"))\n",
    "\n",
    "    # Set the objective function\n",
    "    obj = QuadExpr()\n",
    "    for i in range(n_vars):\n",
    "        for j in range(n_vars):\n",
    "            if Q[i, j] != 0:\n",
    "                obj.add(vars[i] * vars[j] * Q[i, j]* 0.5)\n",
    "\n",
    "    for i in range(n_vars):\n",
    "        if p[i] != 0:\n",
    "            obj.add(vars[i] * p[i])\n",
    "\n",
    "    model.setObjective(obj, GRB.MINIMIZE)\n",
    "\n",
    "    # Add equality constraints\n",
    "    for i in range(A.shape[0]):\n",
    "        expr = LinExpr()\n",
    "        for j in range(n_vars):\n",
    "            if A[i, j] != 0:\n",
    "                expr.add(vars[j] * A[i, j])\n",
    "        model.addConstr(expr == x[i])\n",
    "    \n",
    "    # Add inequality constraints\n",
    "    for i in range(G.shape[0]):\n",
    "        expr = LinExpr()\n",
    "        for j in range(n_vars):\n",
    "            if G[i, j] != 0:\n",
    "                expr.add(vars[j] * G[i, j])\n",
    "        model.addConstr(expr <= h[i])\n",
    "    \n",
    "    model.setParam('FeasibilityTol', 1e-4)\n",
    "    # Solve the model\n",
    "    model.optimize()\n",
    "    \n",
    "    # Retrieve the results\n",
    "    if model.status == GRB.OPTIMAL:\n",
    "        sol_gurobi = np.array([var.x for var in vars])\n",
    "        return sol_gurobi\n",
    "    else:\n",
    "        print(\"No optimal solution found.\")"
   ]
  },
  {
   "cell_type": "code",
   "execution_count": 6,
   "metadata": {},
   "outputs": [],
   "source": [
    "def solve_osqp(Q, p, A, x, G, h, lb, ub):\n",
    "    solver = osqp.OSQP()\n",
    "    my_A = np.vstack([A, G, np.diag(np.ones(Q.shape[0]))])\n",
    "    my_l = np.hstack([x, -np.ones(h.shape[0]) * np.inf, lb])\n",
    "    my_u = np.hstack([x, h, ub])\n",
    "    solver.setup(P=csc_matrix(Q), q=p, A=csc_matrix(my_A), l=my_l, u=my_u, verbose=True, eps_prim_inf=1e-10, eps_dual_inf=1e-10, eps_abs=1e-10, eps_rel=1e-10)\n",
    "    results_osqp = solver.solve()\n",
    "    sol_osqp = np.array(results_osqp.x)\n",
    "\n",
    "    return sol_osqp"
   ]
  },
  {
   "cell_type": "code",
   "execution_count": 7,
   "metadata": {},
   "outputs": [
    {
     "name": "stdout",
     "output_type": "stream",
     "text": [
      "number of variables: 5223, number of equality constraints: 732, number of inequality constraints: 106\n"
     ]
    }
   ],
   "source": [
    "G, h, A, x = get_constraints(m)\n",
    "Q, p = get_objective(m)\n",
    "Lb, Ub = get_bound(m)\n",
    "X = perturb_eq_rhs(x, n_samples)\n",
    "\n",
    "num_var = p.shape[0]\n",
    "num_eq = A.shape[0]\n",
    "num_ineq = G.shape[0]\n",
    "\n",
    "print(f\"number of variables: {num_var}, number of equality constraints: {num_eq}, number of inequality constraints: {num_ineq}\")"
   ]
  },
  {
   "cell_type": "code",
   "execution_count": 8,
   "metadata": {},
   "outputs": [
    {
     "name": "stdout",
     "output_type": "stream",
     "text": [
      "Set parameter FeasibilityTol to value 0.0001\n",
      "Gurobi Optimizer version 11.0.0 build v11.0.0rc2 (linux64 - \"Ubuntu 22.04.2 LTS\")\n",
      "\n",
      "CPU model: 12th Gen Intel(R) Core(TM) i9-12900K, instruction set [SSE2|AVX|AVX2]\n",
      "Thread count: 24 physical cores, 24 logical processors, using up to 24 threads\n",
      "\n",
      "Optimize a model with 838 rows, 5223 columns and 15558 nonzeros\n",
      "Model fingerprint: 0x154522f6\n",
      "Model has 56975 quadratic objective terms\n",
      "Coefficient statistics:\n",
      "  Matrix range     [6e-03, 2e+00]\n",
      "  Objective range  [7e+00, 6e+03]\n",
      "  QObjective range [5e-01, 2e+01]\n",
      "  Bounds range     [0e+00, 0e+00]\n",
      "  RHS range        [9e-03, 3e+01]\n",
      "Presolve removed 201 rows and 1048 columns\n",
      "Presolve time: 0.01s\n",
      "Presolved: 637 rows, 4175 columns, 10505 nonzeros\n",
      "Presolved model has 44855 quadratic objective terms\n",
      "Ordering time: 0.01s\n",
      "\n",
      "Barrier statistics:\n",
      " Free vars  : 1670\n",
      " AA' NZ     : 1.016e+05\n",
      " Factor NZ  : 1.524e+05 (roughly 5 MB of memory)\n",
      " Factor Ops : 1.262e+07 (less than 1 second per iteration)\n",
      " Threads    : 24\n",
      "\n",
      "                  Objective                Residual\n",
      "Iter       Primal          Dual         Primal    Dual     Compl     Time\n",
      "   0   1.89827818e+09 -1.13596741e+09  5.80e+04 1.19e+01  1.00e+06     0s\n",
      "   1   1.88573554e+09 -1.71484713e+09  2.51e+04 4.34e+02  4.68e+05     0s\n",
      "   2   2.58977047e+09 -2.71391406e+09  7.76e+03 1.41e+02  1.70e+05     0s\n",
      "   3   1.44614656e+09 -1.65643236e+09  3.60e+02 6.01e+00  1.08e+04     0s\n",
      "   4   5.25540365e+08 -6.77019664e+08  9.76e+01 1.60e+00  3.19e+03     0s\n",
      "   5   3.78682679e+08 -5.30961275e+08  6.29e+01 9.99e-01  2.34e+03     0s\n",
      "   6   1.06574429e+08 -2.15398289e+08  5.16e+00 4.67e-02  4.02e+02     0s\n",
      "   7   1.64982564e+07 -3.43063782e+07  1.35e-01 2.98e-05  4.81e+01     0s\n",
      "   8   4.98763341e+06 -5.09646608e+06  1.40e-07 2.98e-11  9.32e+00     0s\n",
      "   9   3.36124527e+06 -9.40598145e+05  1.70e-08 3.64e-12  3.98e+00     0s\n",
      "  10   2.68286137e+06  1.72104893e+06  3.13e-09 5.92e-13  8.89e-01     0s\n",
      "  11   2.55693074e+06  2.05913577e+06  1.48e-09 2.28e-13  4.60e-01     0s\n",
      "  12   2.46910276e+06  2.31541572e+06  2.80e-10 3.02e-14  1.42e-01     0s\n",
      "  13   2.41680543e+06  2.38088576e+06  4.81e-10 3.70e-13  3.32e-02     0s\n",
      "  14   2.40197698e+06  2.38868643e+06  6.23e-10 4.03e-13  1.23e-02     0s\n",
      "  15   2.39820720e+06  2.38955256e+06  1.59e-09 5.20e-13  8.00e-03     0s\n",
      "  16   2.39442622e+06  2.39161861e+06  1.15e-09 2.85e-13  2.60e-03     0s\n",
      "  17   2.39350519e+06  2.39195042e+06  6.58e-09 5.28e-13  1.44e-03     0s\n",
      "  18   2.39292208e+06  2.39214175e+06  3.28e-09 2.88e-13  7.21e-04     0s\n",
      "  19   2.39264484e+06  2.39223531e+06  6.88e-10 3.60e-13  3.79e-04     0s\n",
      "  20   2.39230706e+06  2.39229841e+06  3.82e-09 3.31e-13  7.99e-06     0s\n",
      "  21   2.39229999e+06  2.39229975e+06  5.04e-09 5.11e-13  2.25e-07     0s\n",
      "  22   2.39229978e+06  2.39229978e+06  6.29e-11 5.03e-13  3.50e-10     0s\n",
      "\n",
      "Barrier solved model in 22 iterations and 0.11 seconds (0.09 work units)\n",
      "Optimal objective 2.39229978e+06\n",
      "\n"
     ]
    }
   ],
   "source": [
    "Y = solve_gurobi(Q, p, A, X[0], G, h, Lb, Ub)"
   ]
  },
  {
   "cell_type": "markdown",
   "metadata": {},
   "source": [
    "## Output data\n",
    "\n",
    "In order to work with the varaible bounds, rename by dcopf"
   ]
  },
  {
   "cell_type": "code",
   "execution_count": 9,
   "metadata": {},
   "outputs": [],
   "source": [
    "nbus = 8906\n",
    "data = {'Q':Q, 'p':p, 'A':A, 'X':X, 'G':G, 'h':h, 'Lb':Lb, 'Ub':Ub, 'Y':[]}\n",
    "with open(f\"dcopf{nbus}_data\", 'wb') as f:\n",
    "    pickle.dump(data, f)"
   ]
  },
  {
   "cell_type": "code",
   "execution_count": null,
   "metadata": {},
   "outputs": [],
   "source": []
  }
 ],
 "metadata": {
  "kernelspec": {
   "display_name": "scopf",
   "language": "python",
   "name": "python3"
  },
  "language_info": {
   "codemirror_mode": {
    "name": "ipython",
    "version": 3
   },
   "file_extension": ".py",
   "mimetype": "text/x-python",
   "name": "python",
   "nbconvert_exporter": "python",
   "pygments_lexer": "ipython3",
   "version": "3.9.17"
  }
 },
 "nbformat": 4,
 "nbformat_minor": 2
}

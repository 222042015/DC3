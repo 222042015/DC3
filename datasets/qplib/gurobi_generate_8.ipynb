{
 "cells": [
  {
   "cell_type": "code",
   "execution_count": 2,
   "metadata": {},
   "outputs": [],
   "source": [
    "'''\n",
    "generate dataset from qplib\n",
    "from Xi Gao\n",
    "'''\n",
    "\n",
    "import osqp\n",
    "import time\n",
    "import tqdm\n",
    "import random\n",
    "import pickle\n",
    "import numpy as np\n",
    "import gurobipy as gp\n",
    "\n",
    "from gurobipy import Model, GRB, QuadExpr, LinExpr\n",
    "from scipy.sparse import csc_matrix"
   ]
  },
  {
   "cell_type": "markdown",
   "metadata": {},
   "source": [
    "## Import Data"
   ]
  },
  {
   "cell_type": "code",
   "execution_count": 34,
   "metadata": {},
   "outputs": [
    {
     "name": "stdout",
     "output_type": "stream",
     "text": [
      "Read LP format model from file /home/jxxiong/A-xjx/DC3/datasets/dcopf/dcopf_model.lp\n",
      "Reading time = 0.01 seconds\n",
      "obj: 936 rows, 484 columns, 2244 nonzeros\n"
     ]
    }
   ],
   "source": [
    "# qp_path = ''\n",
    "# m = gp.read('/home/jxxiong/A-xjx/DC3/datasets/dcopf/dcopf_model.lp')\n",
    "m = gp.read('/home/jxxiong/A-xjx/DC3/datasets/qplib/QPLIB_8906.lp')"
   ]
  },
  {
   "cell_type": "code",
   "execution_count": 35,
   "metadata": {},
   "outputs": [
    {
     "name": "stdout",
     "output_type": "stream",
     "text": [
      "The shape of quadratic matrix: (484, 484).\n",
      "The shape of coefficient vector: (484,).\n"
     ]
    }
   ],
   "source": [
    "#quadratic matrix\n",
    "ini_q_matrix = m.getQ().toarray()\n",
    "\n",
    "#linear vector\n",
    "ini_p_vec = []\n",
    "variables = m.getVars()\n",
    "for var in variables:\n",
    "    ini_p_vec.append(var.obj)\n",
    "ini_p_vec = np.array(ini_p_vec)\n",
    "\n",
    "print('The shape of quadratic matrix: {}.'.format(ini_q_matrix.shape))\n",
    "print('The shape of coefficient vector: {}.'.format(ini_p_vec.shape))"
   ]
  },
  {
   "cell_type": "code",
   "execution_count": 36,
   "metadata": {},
   "outputs": [
    {
     "name": "stdout",
     "output_type": "stream",
     "text": [
      "The shape of lower bound vector: (484,).\n",
      "The shape of upper bound vector: (484,).\n"
     ]
    }
   ],
   "source": [
    "ini_lb = []\n",
    "ini_ub = []\n",
    "for var in variables:\n",
    "    ini_lb.append(var.lb)\n",
    "    ini_ub.append(var.ub)\n",
    "ini_lb = np.array(ini_lb)\n",
    "ini_ub = np.array(ini_ub)\n",
    "print('The shape of lower bound vector: {}.'.format(ini_lb.shape))\n",
    "print('The shape of upper bound vector: {}.'.format(ini_ub.shape))"
   ]
  },
  {
   "cell_type": "code",
   "execution_count": 37,
   "metadata": {},
   "outputs": [
    {
     "name": "stdout",
     "output_type": "stream",
     "text": [
      "The shape of inequality coefficient matrix: (490, 484).\n",
      "The shape of inequality RHS vector: (490,).\n",
      "The shape of equality coefficient matrix: (446, 484).\n",
      "The shape of equality RHS vector: (446,).\n"
     ]
    }
   ],
   "source": [
    "#inequality and equality coefficient matrix\n",
    "ini_ineq_matrix = []\n",
    "ini_ineq_rhs = []\n",
    "ini_eq_matrix = []\n",
    "ini_eq_rhs = []\n",
    "a_matrix = m.getA().toarray()\n",
    "\n",
    "i = 0\n",
    "for constr in m.getConstrs():\n",
    "    if constr.sense == '<':\n",
    "        ini_ineq_matrix.append(a_matrix[i,:])\n",
    "        ini_ineq_rhs.append(constr.RHS)\n",
    "        i += 1\n",
    "    elif constr.sense == '>':\n",
    "        ini_ineq_matrix.append(-a_matrix[i,:])\n",
    "        ini_ineq_rhs.append(-constr.RHS)\n",
    "        i += 1\n",
    "    elif constr.sense == '=':\n",
    "        ini_eq_matrix.append(a_matrix[i,:])\n",
    "        ini_eq_rhs.append(constr.RHS)\n",
    "        i += 1\n",
    "\n",
    "ini_ineq_matrix = np.array(ini_ineq_matrix)\n",
    "ini_ineq_rhs = np.array(ini_ineq_rhs)\n",
    "ini_eq_matrix = np.array(ini_eq_matrix)\n",
    "ini_eq_rhs = np.array(ini_eq_rhs)\n",
    "\n",
    "print('The shape of inequality coefficient matrix: {}.'.format(ini_ineq_matrix.shape))\n",
    "print('The shape of inequality RHS vector: {}.'.format(ini_ineq_rhs.shape))\n",
    "print('The shape of equality coefficient matrix: {}.'.format(ini_eq_matrix.shape))\n",
    "print('The shape of equality RHS vector: {}.'.format(ini_eq_rhs.shape))"
   ]
  },
  {
   "cell_type": "code",
   "execution_count": 38,
   "metadata": {},
   "outputs": [
    {
     "name": "stdout",
     "output_type": "stream",
     "text": [
      "The number of variables: 484.\n",
      "The number of inequality constraints: 490.\n",
      "The number of equality constraints: 446.\n"
     ]
    }
   ],
   "source": [
    "num_var = ini_q_matrix.shape[0]\n",
    "num_ineq = ini_ineq_matrix.shape[0]\n",
    "num_eq = ini_eq_matrix.shape[0]\n",
    "\n",
    "print('The number of variables: {}.'.format(num_var))\n",
    "print('The number of inequality constraints: {}.'.format(num_ineq))\n",
    "print('The number of equality constraints: {}.'.format(num_eq))"
   ]
  },
  {
   "cell_type": "markdown",
   "metadata": {},
   "source": [
    "## Random Sample\n",
    "\n",
    "### Randomly sample the variables, ineq cons and eq cons to perturb"
   ]
  },
  {
   "cell_type": "code",
   "execution_count": 39,
   "metadata": {},
   "outputs": [],
   "source": [
    "# num_chosed_var = 1500\n",
    "# # num_chosed_ineq = 100\n",
    "# num_chosed_eq = 200\n",
    "\n",
    "# chosed_var = sorted(random.sample(range(0, num_var), num_chosed_var))\n",
    "# # chosed_ineq = sorted(random.sample(range(0, num_ineq), num_chosed_ineq))\n",
    "# chosed_eq = sorted(random.sample(range(0, num_eq), num_chosed_eq))"
   ]
  },
  {
   "cell_type": "code",
   "execution_count": 40,
   "metadata": {},
   "outputs": [],
   "source": [
    "num_chosed_var = num_var\n",
    "num_chosed_ineq = num_ineq\n",
    "num_chosed_eq = num_eq\n",
    "\n",
    "# chosed_eq = sorted(random.sample(range(0, num_eq), num_chosed_eq))"
   ]
  },
  {
   "cell_type": "code",
   "execution_count": 41,
   "metadata": {},
   "outputs": [],
   "source": [
    "q_matrix = ini_q_matrix.copy()\n",
    "p_vec = ini_p_vec.copy()\n",
    "ineq_matrix = ini_ineq_matrix.copy()\n",
    "\n",
    "ineq_rhs = ini_ineq_rhs.copy()\n",
    "\n",
    "eq_matrix = ini_eq_matrix.copy()\n",
    "eq_rhs = ini_eq_rhs.copy()\n",
    "nonzero_indices = np.nonzero(ini_eq_rhs)\n",
    "nonzero_values = ini_eq_rhs[nonzero_indices]\n",
    "perturbed_values = nonzero_values * (1 + np.random.uniform(-0.3, 0.3, size=nonzero_values.shape))\n",
    "eq_rhs[nonzero_indices] = perturbed_values\n",
    "# eq_rhs = eq_rhs[chosed_eq]"
   ]
  },
  {
   "cell_type": "code",
   "execution_count": 42,
   "metadata": {},
   "outputs": [],
   "source": [
    "def perturb_eq_rhs(ini_eq_rhs, num_samples):\n",
    "    eq_rhs_list = []\n",
    "    for _ in range(num_samples):\n",
    "        eq_rhs = ini_eq_rhs.copy()\n",
    "        nonzero_indices = np.nonzero(ini_eq_rhs)\n",
    "        nonzero_values = ini_eq_rhs[nonzero_indices]\n",
    "        perturbed_values = nonzero_values * (1 + np.random.uniform(-0.1, 0.1, size=nonzero_values.shape))\n",
    "        # eq_rhs += np.random.uniform(-0.3, 0.3, size=eq_rhs.shape)\n",
    "        eq_rhs[nonzero_indices] = perturbed_values\n",
    "        eq_rhs_list.append(eq_rhs)\n",
    "    return np.array(eq_rhs_list)"
   ]
  },
  {
   "cell_type": "code",
   "execution_count": 43,
   "metadata": {},
   "outputs": [],
   "source": [
    "def solve_gurobi(Q, p, A, x, G, h, lb, ub):\n",
    "    # Create a new Gurobi model\n",
    "    model = Model(\"qp\")\n",
    "\n",
    "    # Add variables to the model\n",
    "    n_vars = Q.shape[0]\n",
    "    vars = []\n",
    "    for i in range(n_vars):\n",
    "        vars.append(model.addVar(lb=lb[i], ub=ub[i], vtype=GRB.CONTINUOUS, name=f\"x_{i}\"))\n",
    "        # vars.append(model.addVar(vtype=GRB.CONTINUOUS, name=f\"x_{i}\"))\n",
    "\n",
    "\n",
    "    # Set the objective function\n",
    "    obj = QuadExpr()\n",
    "    for i in range(n_vars):\n",
    "        for j in range(n_vars):\n",
    "            if Q[i, j] != 0:\n",
    "                obj.add(vars[i] * vars[j] * Q[i, j]* 0.5)\n",
    "\n",
    "    for i in range(n_vars):\n",
    "        if p[i] != 0:\n",
    "            obj.add(vars[i] * p[i])\n",
    "\n",
    "    model.setObjective(obj, GRB.MINIMIZE)\n",
    "\n",
    "    # Add equality constraints\n",
    "    for i in range(A.shape[0]):\n",
    "        expr = LinExpr()\n",
    "        for j in range(n_vars):\n",
    "            if A[i, j] != 0:\n",
    "                expr.add(vars[j] * A[i, j])\n",
    "        model.addConstr(expr == x[i])\n",
    "    \n",
    "    # Add inequality constraints\n",
    "    for i in range(G.shape[0]):\n",
    "        expr = LinExpr()\n",
    "        for j in range(n_vars):\n",
    "            if G[i, j] != 0:\n",
    "                expr.add(vars[j] * G[i, j])\n",
    "        model.addConstr(expr <= h[i])\n",
    "    \n",
    "    model.setParam('FeasibilityTol', 1e-4)\n",
    "    # Solve the model\n",
    "    model.optimize()\n",
    "    \n",
    "    # Retrieve the results\n",
    "    if model.status == GRB.OPTIMAL:\n",
    "        sol_gurobi = np.array([var.x for var in vars])\n",
    "        return sol_gurobi\n",
    "    else:\n",
    "        print(\"No optimal solution found.\")"
   ]
  },
  {
   "cell_type": "code",
   "execution_count": 44,
   "metadata": {},
   "outputs": [],
   "source": [
    "def solve_osqp(Q, p, A, x, G, h, lb, ub):\n",
    "    solver = osqp.OSQP()\n",
    "    my_A = np.vstack([A, G, np.diag(np.ones(Q.shape[0]))])\n",
    "    my_l = np.hstack([x, -np.ones(h.shape[0]) * np.inf, lb])\n",
    "    my_u = np.hstack([x, h, ub])\n",
    "    solver.setup(P=csc_matrix(Q), q=p, A=csc_matrix(my_A), l=my_l, u=my_u, verbose=True, eps_prim_inf=1e-10, eps_dual_inf=1e-10, eps_abs=1e-10, eps_rel=1e-10)\n",
    "    results_osqp = solver.solve()\n",
    "    sol_osqp = np.array(results_osqp.x)\n",
    "\n",
    "    return sol_osqp"
   ]
  },
  {
   "cell_type": "code",
   "execution_count": 20,
   "metadata": {},
   "outputs": [],
   "source": [
    "from dcopf_utils import DcopfProblem\n",
    "filepath = \"/home/jxxiong/A-xjx/DC3/datasets/dcopf/dcopf_data\"\n",
    "with open(filepath, 'rb') as f:\n",
    "    dataset = pickle.load(f)\n",
    "data = DcopfProblem(dataset)"
   ]
  },
  {
   "cell_type": "code",
   "execution_count": 27,
   "metadata": {},
   "outputs": [],
   "source": [
    "Q, p, A, G, h = data.Q_np, data.p_np, data.A_np, data.G_np, data.h_np\n",
    "x = data.X[0].detach().cpu().numpy()\n",
    "lb = data.Lb.detach().cpu().numpy()\n",
    "ub = data.Ub.detach().cpu().numpy()"
   ]
  },
  {
   "cell_type": "code",
   "execution_count": 30,
   "metadata": {},
   "outputs": [
    {
     "name": "stdout",
     "output_type": "stream",
     "text": [
      "-----------------------------------------------------------------\n",
      "           OSQP v0.6.3  -  Operator Splitting QP Solver\n",
      "              (c) Bartolomeo Stellato,  Goran Banjac\n",
      "        University of Oxford  -  Stanford University 2021\n",
      "-----------------------------------------------------------------\n",
      "problem:  variables n = 484, constraints m = 1420\n",
      "          nnz(P) + nnz(A) = 2759\n",
      "settings: linear system solver = qdldl,\n",
      "          eps_abs = 1.0e-10, eps_rel = 1.0e-10,\n",
      "          eps_prim_inf = 1.0e-10, eps_dual_inf = 1.0e-10,\n",
      "          rho = 1.00e-01 (adaptive),\n",
      "          sigma = 1.00e-06, alpha = 1.60, max_iter = 4000\n",
      "          check_termination: on (interval 25),\n",
      "          scaling: on, scaled_termination: off\n",
      "          warm start: on, polish: off, time_limit: off\n",
      "\n",
      "iter   objective    pri res    dua res    rho        time\n",
      "   1  -1.9096e+04   1.70e+00   1.70e+05   1.00e-01   9.79e-04s\n",
      " 200   1.3259e+04   3.60e-03   8.34e+00   1.00e-01   7.42e-03s\n",
      " 400   1.3119e+04   2.15e-04   1.03e-01   1.00e-01   1.16e-02s\n",
      " 600   1.3127e+04   1.02e-05   1.12e-02   1.00e-01   1.46e-02s\n",
      " 800   1.3127e+04   3.70e-07   1.23e-03   1.00e-01   1.74e-02s\n",
      "1000   1.3127e+04   7.90e-09   8.07e-05   1.00e-01   2.03e-02s\n",
      "1200   1.3127e+04   2.03e-10   4.11e-06   1.00e-01   2.31e-02s\n"
     ]
    },
    {
     "data": {
      "text/plain": [
       "array([-1.06108156e-305,  2.72000001e-002,  2.31700000e-001,\n",
       "        8.38000001e-002,  1.33920000e+000,  3.90200000e-001,\n",
       "        8.38000001e-002,  1.36000001e-002,  1.50000001e-002,\n",
       "        1.62000001e-002,  5.25000001e-002,  2.82000001e-002,\n",
       "        3.36098888e+000,  8.38000001e-002,  2.82000001e-002,\n",
       "        8.38000001e-002,  2.31700000e-001,  1.20000001e-002,\n",
       "        1.36000001e-002,  1.33920000e+000,  2.31700000e-001,\n",
       "        1.41000001e-002,  7.98000001e-002,  2.31700000e-001,\n",
       "        1.36000001e-002,  8.38000001e-002,  5.40000001e-002,\n",
       "        7.20000009e-003,  1.36000001e-002,  3.90200000e-001,\n",
       "        8.38000001e-002,  3.90200000e-001,  9.60000007e-003,\n",
       "       -1.01207745e-001, -1.02154297e-001, -1.38562699e-001,\n",
       "       -1.38524539e-001, -1.71725711e-001, -1.83375244e-001,\n",
       "       -1.98391162e-001, -1.98024060e-001, -9.62797168e-002,\n",
       "       -1.07929288e-001, -1.57683575e-001, -1.34537416e-001,\n",
       "       -3.07458797e-002, -2.63048343e-002, -1.01634433e-001,\n",
       "       -1.01634433e-001, -7.61298645e-002, -8.64833646e-002,\n",
       "       -1.04926105e-001, -7.72230687e-002, -3.33678444e-002,\n",
       "       -6.19300621e-002, -1.38439440e-001, -1.35145576e-001,\n",
       "       -1.95627690e-001, -2.02755587e-001, -7.37655963e-002,\n",
       "       -4.27657925e-002, -8.08180952e-002, -1.29588554e-001,\n",
       "       -1.14268248e-001, -1.23365026e-001, -1.30576985e-001,\n",
       "       -1.33316011e-001, -4.57039672e-002, -5.86328104e-002,\n",
       "       -1.32771887e-001, -1.31618918e-001, -1.34786233e-001,\n",
       "       -1.36105504e-001, -5.62810940e-002, -8.97267355e-002,\n",
       "       -5.84983992e-002, -4.27950430e-002, -1.25385165e-001,\n",
       "       -9.68887135e-002, -8.20512257e-002, -1.41315675e-001,\n",
       "        4.95365658e-002, -3.42975643e-002, -1.95165488e-001,\n",
       "       -2.79364226e-002,  5.99355805e-002, -1.83444263e-001,\n",
       "        3.38111580e-002, -6.03180053e-002, -1.08543237e-001,\n",
       "       -1.47536824e-001, -1.59798549e-001, -1.01634433e-001,\n",
       "       -1.99055448e-001, -8.23228983e-002, -8.76600672e-002,\n",
       "       -5.29858550e-002, -6.92295951e-002, -8.49121398e-002,\n",
       "       -1.17597428e-001, -1.88303181e-001, -1.90515223e-001,\n",
       "       -1.35145576e-001, -1.06273237e-001, -1.06273237e-001,\n",
       "       -1.18052461e-001, -1.19288096e-001, -9.98141786e-002,\n",
       "       -1.31568236e-001, -1.42128864e-001, -8.43344383e-002,\n",
       "       -1.31105219e-001, -1.17347911e-001, -5.12440720e-002,\n",
       "       -1.78272758e-001, -2.51009970e-002, -1.19648631e-001,\n",
       "       -1.19955418e-001, -9.87038247e-002, -1.27531960e-001,\n",
       "       -1.23664150e-001, -1.33043317e-001, -1.96611732e-001,\n",
       "       -1.41628350e-001, -1.19392522e-001, -9.21998618e-002,\n",
       "       -1.08959725e-001, -8.23228983e-002, -1.15993335e-001,\n",
       "       -1.10137150e-001, -1.75245149e-001, -1.75192131e-001,\n",
       "       -1.01339131e-001, -8.58301880e-002, -8.43707762e-002,\n",
       "       -1.21188137e-001, -8.02290204e-002,  6.69041275e-002,\n",
       "       -8.99574504e-002, -7.59123521e-002, -8.93957996e-002,\n",
       "       -1.25092676e-001, -9.43271821e-002, -1.03979490e-001,\n",
       "       -1.38614805e-001, -9.55624387e-002, -1.46853915e-001,\n",
       "       -1.69488775e-001, -1.28064935e-001, -1.41114153e-001,\n",
       "       -1.29309901e-001, -1.22984600e-001, -8.74815957e-002,\n",
       "       -1.26717785e-001, -1.88891637e-001, -1.09581378e-001,\n",
       "        3.42513007e-002, -1.37609660e-001, -1.41670696e-001,\n",
       "       -1.38510671e-001, -1.63491802e-001, -4.84187244e-002,\n",
       "       -1.88207269e-001, -1.41659910e-001, -1.24844558e-001,\n",
       "       -1.16250539e-001, -3.92709584e-002, -1.35145576e-001,\n",
       "       -1.41894046e-001, -1.35145576e-001, -1.12564472e-001,\n",
       "       -1.27490820e-001, -1.33818421e-001, -5.01491693e-002,\n",
       "       -9.43853505e-002, -9.71190244e-002, -9.44055937e-002,\n",
       "       -1.28208805e-001, -1.09928340e-001, -1.22488816e-001,\n",
       "       -1.41649342e-001, -1.35168873e-001, -1.38967804e-001,\n",
       "       -1.82957601e-001, -1.98391162e-001, -1.27500019e-001,\n",
       "       -3.63480784e-002, -1.34273756e-001, -4.14025336e-002,\n",
       "       -4.28857475e-002, -1.32702004e-001, -1.14160291e-001,\n",
       "       -1.63079198e-001, -1.62335837e-001, -2.81052568e-002,\n",
       "       -1.82585163e-001, -1.34036582e-001, -1.25163261e-001,\n",
       "       -5.63170856e-002, -1.27940055e-001, -1.32454971e-001,\n",
       "       -4.71684300e-002, -1.17011800e-001, -1.31630848e-001,\n",
       "       -5.33159974e-002, -5.14401486e-002, -1.14873230e-001,\n",
       "       -1.24553187e-001, -1.28520855e-001, -6.85691686e-002,\n",
       "       -5.69501559e-002, -4.74757246e-002, -9.28989400e-002,\n",
       "       -7.56777934e-002, -1.41790845e-001, -3.24220460e-002,\n",
       "       -1.18745458e-001, -2.43429358e-002, -1.82371098e-001,\n",
       "       -8.23228983e-002, -1.04102591e-001, -9.85857136e-002,\n",
       "       -1.07207119e-001, -6.48449279e-002, -2.94086560e-017,\n",
       "       -1.37715010e-001, -1.65539525e-001, -9.46157518e-002,\n",
       "       -1.26808914e-001, -1.35145576e-001, -1.31722779e-001,\n",
       "       -8.61511006e-002, -1.35145576e-001,  4.87183498e-002,\n",
       "       -6.43465260e-002, -1.97492700e-001,  3.90622594e-001,\n",
       "        3.52089064e-001,  1.41000001e-002,  8.38000001e-002,\n",
       "        1.33500000e+000,  1.33500000e+000, -8.52582544e-001,\n",
       "        1.40000000e-002,  3.06371879e-002, -5.27054643e-001,\n",
       "        9.24921371e-002, -1.84815524e-001, -1.10264392e-001,\n",
       "       -1.18841679e-001, -2.23480166e-002, -8.99175209e-002,\n",
       "        3.27780293e-013,  7.98000001e-002,  1.25805990e-001,\n",
       "        3.45293509e-001,  1.15511845e-001, -3.30145612e-003,\n",
       "        3.49970270e-013,  3.49970542e-013,  1.20000001e-002,\n",
       "        7.20000009e-003, -1.17004094e-001, -1.30907724e-001,\n",
       "       -1.14258799e-002,  9.43028136e-002,  9.34707568e-003,\n",
       "       -2.72020949e-001,  3.94733860e-002, -8.90340173e-002,\n",
       "        8.38000001e-002, -3.24290906e-001,  2.47694007e-001,\n",
       "       -2.38171122e-001,  1.86156900e-001,  3.90200000e-001,\n",
       "       -7.71301284e-002,  1.21146076e-001,  8.38000001e-002,\n",
       "        3.99488688e-002, -1.34524261e-001,  8.38000001e-002,\n",
       "       -2.58765366e-001, -8.36615042e-002,  8.38000001e-002,\n",
       "        8.38000001e-002, -3.25540136e-001, -1.19002588e-001,\n",
       "        2.55255898e-001, -9.89528673e-002,  4.24250057e-002,\n",
       "       -1.12749768e-002,  3.90200000e-001,  7.11644815e-001,\n",
       "       -7.11644815e-001,  1.16538229e-001,  4.19707094e-002,\n",
       "       -3.03734734e-001, -1.68573122e-001,  6.44683202e-002,\n",
       "        3.33488659e-013,  3.33488378e-013, -1.83225686e-001,\n",
       "        1.93623942e-001,  4.26201951e-002, -1.39932530e-001,\n",
       "        2.56339195e-002,  1.33920000e+000,  1.59812866e-001,\n",
       "       -2.38443456e-001, -5.97517731e-002, -2.60966055e-001,\n",
       "       -1.93004392e-001, -5.47753079e-002, -3.03947038e-001,\n",
       "       -1.30857263e-001,  1.00051118e-001,  2.31700000e-001,\n",
       "        2.82000001e-002, -1.05429767e+000, -1.17639661e+000,\n",
       "        4.30475542e-001, -4.68664996e-001, -7.52169118e-001,\n",
       "        1.33920000e+000,  1.97651480e-003, -8.82929808e-002,\n",
       "       -2.03710188e-001,  1.04431715e-001,  3.96434884e-001,\n",
       "       -1.46439659e-001,  1.56488757e-001,  2.31700000e-001,\n",
       "       -2.80252511e-002, -1.21569244e-002,  2.72942066e-002,\n",
       "       -6.20090117e-002, -2.16687960e-002, -2.57364849e-001,\n",
       "        3.56774239e-001,  3.27782100e-013,  3.98047003e-001,\n",
       "       -3.43393755e-001, -2.55124489e-001, -8.82692663e-002,\n",
       "       -7.17295798e-001, -1.38802383e-001,  2.37329646e-001,\n",
       "       -9.10806775e-001,  1.40000000e-002,  1.07407685e-001,\n",
       "       -3.62389278e-001, -9.50545725e-002, -1.75485256e-001,\n",
       "        2.67264166e-001, -1.00064423e-001, -1.11329857e-002,\n",
       "       -7.54733317e-002, -3.25576089e-001, -2.60064611e-002,\n",
       "        1.36041335e-001,  2.87774138e-013, -2.60123324e-001,\n",
       "        1.83402905e-002, -3.84218670e-002,  2.80204900e-001,\n",
       "       -2.80710120e-001, -3.54674487e-001,  2.76904319e-002,\n",
       "       -1.11444661e-001, -2.22344531e-001, -2.43140564e-001,\n",
       "       -2.17363620e-001, -5.10331268e-001, -5.21606245e-001,\n",
       "       -6.40334983e-002, -3.97107671e-002,  8.81600562e-003,\n",
       "        5.40000001e-002,  1.85806843e-003, -2.70303998e-002,\n",
       "       -7.90879946e-003,  9.24000000e-001,  9.24000000e-001,\n",
       "       -3.07590510e-001, -4.33469268e-001, -6.63271539e-003,\n",
       "       -1.84720824e-001,  1.44365395e-001, -4.84401967e-002,\n",
       "       -5.06263676e-003, -5.78706491e-001,  1.66825390e-001,\n",
       "        3.17488952e-001,  3.63224840e-001, -5.78429284e-001,\n",
       "       -2.15204444e-001, -9.26875083e-002,  1.80073856e-001,\n",
       "       -5.16823014e-002,  4.37495354e-001, -9.28534814e-002,\n",
       "        2.46442434e-003,  1.54800000e+000,  1.54800000e+000,\n",
       "        3.19466097e-001, -1.22556047e-002, -4.02457879e-002,\n",
       "        2.52423190e-001,  3.27781686e-013,  1.50000001e-002,\n",
       "        9.60000007e-003,  6.10560431e-001,  3.57161728e-002,\n",
       "       -5.56694534e-002,  1.36000001e-002,  3.50718785e-001,\n",
       "        2.72000001e-002,  1.36000001e-002,  1.36000001e-002,\n",
       "        1.36000001e-002, -1.15568682e-001, -5.49037950e-001,\n",
       "        2.86593680e-001,  1.25210767e-001,  3.05888766e-001,\n",
       "        5.25000001e-002,  3.27780803e-013,  2.31700000e-001,\n",
       "        2.63492366e-001,  3.67551380e-001,  8.65000000e-001,\n",
       "       -1.55823957e-002, -2.79778886e-002,  6.76000000e-001,\n",
       "        6.76000000e-001, -4.67646967e-001, -9.79777203e-001,\n",
       "        2.00150197e-001, -1.70922590e-002, -1.88278120e-001,\n",
       "       -2.31611476e-001,  3.90200000e-001,  1.61074486e-001,\n",
       "       -3.67856218e-001, -1.58419011e+000, -3.87035029e-001,\n",
       "        3.93004892e-001, -1.05926403e+000,  2.12623959e+000,\n",
       "        3.36098888e+000, -2.82409168e-002,  3.63824895e-013,\n",
       "        7.44512138e-002, -2.72303525e-001, -6.65424038e-001,\n",
       "       -4.99653497e-001,  5.86772311e-001, -1.28774092e+000,\n",
       "       -2.51726358e-001,  7.38702974e-001, -1.61531539e-001,\n",
       "       -3.59069600e-001, -4.99653497e-001,  1.62000001e-002,\n",
       "        1.18845131e-001, -3.53981458e-001,  8.36398783e-002,\n",
       "        1.22474086e-002, -5.59159887e-001, -1.01627894e+000,\n",
       "        2.86003113e-001, -3.42759836e-001,  6.70120932e-002,\n",
       "       -8.96339994e-002, -2.58350568e-001,  2.82000001e-002,\n",
       "        6.65424038e-001, -5.02037107e-002,  3.27785795e-013,\n",
       "       -1.22474086e-002,  7.20388923e-001,  2.31700000e-001,\n",
       "        8.65000000e-001])"
      ]
     },
     "execution_count": 30,
     "metadata": {},
     "output_type": "execute_result"
    },
    {
     "name": "stdout",
     "output_type": "stream",
     "text": [
      "1375   1.3127e+04   8.99e-11   5.30e-08   1.00e-01   2.55e-02s\n",
      "\n",
      "status:               solved\n",
      "number of iterations: 1375\n",
      "optimal objective:    13126.5495\n",
      "run time:             2.56e-02s\n",
      "optimal rho estimate: 2.35e-01\n",
      "\n"
     ]
    }
   ],
   "source": [
    "solve_osqp(Q, p, A, x, G, h, lb, ub)"
   ]
  },
  {
   "cell_type": "code",
   "execution_count": 47,
   "metadata": {},
   "outputs": [
    {
     "name": "stdout",
     "output_type": "stream",
     "text": [
      "Set parameter FeasibilityTol to value 0.0001\n",
      "Gurobi Optimizer version 11.0.0 build v11.0.0rc2 (linux64 - \"Ubuntu 22.04.2 LTS\")\n",
      "\n",
      "CPU model: 12th Gen Intel(R) Core(TM) i9-12900K, instruction set [SSE2|AVX|AVX2]\n",
      "Thread count: 24 physical cores, 24 logical processors, using up to 24 threads\n",
      "\n",
      "Optimize a model with 936 rows, 484 columns and 2244 nonzeros\n",
      "Model fingerprint: 0xccf9b554\n",
      "Model has 31 quadratic objective terms\n",
      "Coefficient statistics:\n",
      "  Matrix range     [4e-01, 3e+02]\n",
      "  Objective range  [1e+00, 2e+03]\n",
      "  QObjective range [4e+01, 4e+01]\n",
      "  Bounds range     [7e-03, 7e+00]\n",
      "  RHS range        [3e-03, 9e-01]\n",
      "Presolve removed 771 rows and 338 columns\n",
      "Presolve time: 0.00s\n",
      "Presolved: 165 rows, 196 columns, 721 nonzeros\n",
      "Presolved model has 31 quadratic objective terms\n",
      "Ordering time: 0.00s\n",
      "\n",
      "Barrier statistics:\n",
      " AA' NZ     : 1.538e+03\n",
      " Factor NZ  : 4.102e+03\n",
      " Factor Ops : 1.144e+05 (less than 1 second per iteration)\n",
      " Threads    : 1\n",
      "\n",
      "                  Objective                Residual\n",
      "Iter       Primal          Dual         Primal    Dual     Compl     Time\n",
      "   0   2.60561688e+09 -2.77417097e+09  7.50e+03 9.98e+02  9.96e+05     0s\n",
      "   1   2.50523114e+08 -4.96874723e+08  2.27e+03 3.02e+02  3.14e+05     0s\n",
      "   2   1.81106263e+06 -3.31238526e+08  8.50e+01 1.13e+01  1.53e+04     0s\n",
      "   3   5.48719516e+04 -2.90932557e+08  2.60e+00 3.46e-01  1.92e+03     0s\n",
      "   4   1.83260152e+04 -8.63600698e+07  3.16e-01 4.20e-02  4.79e+02     0s\n",
      "   5   1.46374312e+04 -3.21778936e+06  1.11e-03 1.47e-04  1.69e+01     0s\n",
      "   6   1.46124535e+04  3.70402891e+03  2.49e-06 3.31e-07  5.68e-02     0s\n",
      "   7   1.38480043e+04  9.92690265e+03  5.72e-07 7.62e-08  2.04e-02     0s\n",
      "   8   1.33369865e+04  1.28865016e+04  1.30e-08 1.73e-09  2.35e-03     0s\n",
      "   9   1.32827159e+04  1.32817653e+04  2.40e-11 3.20e-12  4.95e-06     0s\n",
      "  10   1.32826157e+04  1.32826148e+04  3.43e-14 1.76e-15  4.96e-09     0s\n",
      "  11   1.32826156e+04  1.32826156e+04  1.99e-14 2.05e-15  4.96e-12     0s\n",
      "\n",
      "Barrier solved model in 11 iterations and 0.01 seconds (0.00 work units)\n",
      "Optimal objective 1.32826156e+04\n",
      "\n"
     ]
    }
   ],
   "source": [
    "Y = solve_gurobi(ini_q_matrix, ini_p_vec, ini_eq_matrix, ini_eq_rhs, ini_ineq_matrix, ini_ineq_rhs, ini_lb, ini_ub)"
   ]
  },
  {
   "cell_type": "code",
   "execution_count": 46,
   "metadata": {},
   "outputs": [
    {
     "name": "stdout",
     "output_type": "stream",
     "text": [
      "-----------------------------------------------------------------\n",
      "           OSQP v0.6.3  -  Operator Splitting QP Solver\n",
      "              (c) Bartolomeo Stellato,  Goran Banjac\n",
      "        University of Oxford  -  Stanford University 2021\n",
      "-----------------------------------------------------------------\n",
      "problem:  variables n = 484, constraints m = 1420\n",
      "          nnz(P) + nnz(A) = 2759\n",
      "settings: linear system solver = qdldl,\n",
      "          eps_abs = 1.0e-10, eps_rel = 1.0e-10,\n",
      "          eps_prim_inf = 1.0e-10, eps_dual_inf = 1.0e-10,\n",
      "          rho = 1.00e-01 (adaptive),\n",
      "          sigma = 1.00e-06, alpha = 1.60, max_iter = 4000\n",
      "          check_termination: on (interval 25),\n",
      "          scaling: on, scaled_termination: off\n",
      "          warm start: on, polish: off, time_limit: off\n",
      "\n",
      "iter   objective    pri res    dua res    rho        time\n",
      "   1  -2.1588e+04   1.76e+00   1.43e+05   1.00e-01   7.70e-04s\n",
      " 200   1.3271e+04   3.10e-04   3.74e+00   1.00e-01   5.38e-03s\n",
      " 400   1.3283e+04   7.59e-06   3.98e-02   1.00e-01   9.80e-03s\n",
      " 600   1.3283e+04   1.48e-07   4.08e-03   9.47e-01   1.27e-02s\n",
      " 800   1.3283e+04   2.15e-08   4.58e-05   1.04e-01   1.56e-02s\n",
      "1000   1.3283e+04   3.02e-10   2.81e-07   1.04e-01   1.84e-02s\n",
      "1075   1.3283e+04   1.45e-11   1.99e-07   1.04e-01   1.94e-02s\n",
      "\n",
      "status:               solved\n",
      "number of iterations: 1075\n",
      "optimal objective:    13282.6156\n",
      "run time:             1.95e-02s\n",
      "optimal rho estimate: 5.00e-02\n",
      "\n"
     ]
    }
   ],
   "source": [
    "_ = solve_osqp(ini_q_matrix, ini_p_vec, ini_eq_matrix, ini_eq_rhs, ini_ineq_matrix, ini_ineq_rhs, ini_lb, ini_ub)"
   ]
  },
  {
   "cell_type": "markdown",
   "metadata": {},
   "source": [
    "# Gurobi v.s. OSQP"
   ]
  },
  {
   "cell_type": "markdown",
   "metadata": {},
   "source": [
    "## Random generate data"
   ]
  },
  {
   "cell_type": "code",
   "execution_count": 19,
   "metadata": {},
   "outputs": [],
   "source": []
  },
  {
   "cell_type": "code",
   "execution_count": 55,
   "metadata": {},
   "outputs": [],
   "source": [
    "num_var = 200\n",
    "num_ineq = 100\n",
    "num_eq = 100\n",
    "\n",
    "num_chosed_var = 200\n",
    "num_chosed_ineq = 100\n",
    "num_chosed_eq = 100\n",
    "\n",
    "model = gp.Model()\n",
    "q_matrix = np.diag(np.random.random(num_var))\n",
    "p_vec = np.random.random(num_var)\n",
    "eq_matrix = np.random.normal(loc=0, scale=1., size=(num_eq, num_var))\n",
    "eq_rhs = np.random.uniform(-1, 1, size=(num_eq))\n",
    "ineq_matrix = np.random.normal(loc=0, scale=1., size=(num_ineq, num_var))\n",
    "ineq_rhs = np.sum(np.abs(ineq_matrix@np.linalg.pinv(eq_matrix)), axis=1)"
   ]
  },
  {
   "cell_type": "markdown",
   "metadata": {},
   "source": [
    "## osqp"
   ]
  },
  {
   "cell_type": "code",
   "execution_count": 56,
   "metadata": {},
   "outputs": [
    {
     "name": "stdout",
     "output_type": "stream",
     "text": [
      "-----------------------------------------------------------------\n",
      "           OSQP v0.6.3  -  Operator Splitting QP Solver\n",
      "              (c) Bartolomeo Stellato,  Goran Banjac\n",
      "        University of Oxford  -  Stanford University 2021\n",
      "-----------------------------------------------------------------\n",
      "problem:  variables n = 200, constraints m = 200\n",
      "          nnz(P) + nnz(A) = 40200\n",
      "settings: linear system solver = qdldl,\n",
      "          eps_abs = 1.0e-10, eps_rel = 1.0e-10,\n",
      "          eps_prim_inf = 1.0e-10, eps_dual_inf = 1.0e-10,\n",
      "          rho = 1.00e-01 (adaptive),\n",
      "          sigma = 1.00e-06, alpha = 1.60, max_iter = 4000\n",
      "          check_termination: on (interval 25),\n",
      "          scaling: on, scaled_termination: off\n",
      "          warm start: on, polish: off, time_limit: off\n",
      "\n",
      "iter   objective    pri res    dua res    rho        time\n",
      "   1  -2.1100e+01   1.59e+00   3.44e+02   1.00e-01   1.49e-02s\n",
      " 150  -3.2332e+01   1.21e-09   2.88e-12   7.83e-03   3.82e-02s\n",
      "\n",
      "status:               solved\n",
      "number of iterations: 150\n",
      "optimal objective:    -32.3324\n",
      "run time:             3.82e-02s\n",
      "optimal rho estimate: 2.91e-02\n",
      "\n"
     ]
    }
   ],
   "source": [
    "Q = q_matrix\n",
    "p = p_vec\n",
    "Xi = eq_rhs #X[0]\n",
    "A = eq_matrix\n",
    "G = ineq_matrix\n",
    "h = ineq_rhs\n",
    "\n",
    "solver = osqp.OSQP()\n",
    "my_A = np.vstack([A, G])\n",
    "my_l = np.hstack([Xi, -np.ones(h.shape[0]) * np.inf])\n",
    "my_u = np.hstack([Xi, h])\n",
    "solver.setup(P=csc_matrix(Q), q=p, A=csc_matrix(my_A), l=my_l, u=my_u, verbose=True, eps_prim_inf=1e-10, eps_dual_inf=1e-10, eps_abs=1e-10, eps_rel=1e-10)\n",
    "results_osqp = solver.solve()\n",
    "sol_osqp = np.array(results_osqp.x)"
   ]
  },
  {
   "cell_type": "markdown",
   "metadata": {},
   "source": [
    "## Gurobi"
   ]
  },
  {
   "cell_type": "code",
   "execution_count": 59,
   "metadata": {},
   "outputs": [
    {
     "name": "stdout",
     "output_type": "stream",
     "text": [
      "Set parameter FeasibilityTol to value 0.0001\n",
      "Gurobi Optimizer version 11.0.0 build v11.0.0rc2 (linux64 - \"Ubuntu 22.04.2 LTS\")\n",
      "\n",
      "CPU model: 12th Gen Intel(R) Core(TM) i9-12900K, instruction set [SSE2|AVX|AVX2]\n",
      "Thread count: 24 physical cores, 24 logical processors, using up to 24 threads\n",
      "\n",
      "Optimize a model with 200 rows, 200 columns and 40000 nonzeros\n",
      "Model fingerprint: 0x19bdb544\n",
      "Model has 200 quadratic objective terms\n",
      "Coefficient statistics:\n",
      "  Matrix range     [3e-05, 4e+00]\n",
      "  Objective range  [5e-03, 1e+00]\n",
      "  QObjective range [5e-03, 1e+00]\n",
      "  Bounds range     [0e+00, 0e+00]\n",
      "  RHS range        [5e-03, 1e+01]\n"
     ]
    },
    {
     "name": "stdout",
     "output_type": "stream",
     "text": [
      "Presolve time: 0.01s\n",
      "Presolved: 200 rows, 200 columns, 40000 nonzeros\n",
      "Presolved model has 200 quadratic objective terms\n",
      "Ordering time: 0.00s\n",
      "\n",
      "Barrier statistics:\n",
      " Free vars  : 200\n",
      " AA' NZ     : 1.990e+04\n",
      " Factor NZ  : 2.010e+04\n",
      " Factor Ops : 2.687e+06 (less than 1 second per iteration)\n",
      " Threads    : 24\n",
      "\n",
      "                  Objective                Residual\n",
      "Iter       Primal          Dual         Primal    Dual     Compl     Time\n",
      "   0  -1.88997315e-01 -5.62820695e-02  4.72e-16 3.39e+00  1.00e+06     0s\n",
      "   1   4.61711078e+06 -4.64117283e+06  1.12e+02 2.92e+01  1.93e+05     0s\n",
      "   2   1.38901967e+06 -1.40217605e+06  3.42e-12 3.83e-07  2.79e+04     0s\n",
      "   3   2.01947267e+05 -2.06983126e+05  3.02e-12 1.25e-12  4.09e+03     0s\n",
      "   4   2.89870671e+04 -3.09155310e+04  7.68e-13 3.72e-13  5.99e+02     0s\n",
      "   5   4.01315417e+03 -4.75336747e+03  3.00e-13 1.62e-13  8.77e+01     0s\n",
      "   6   4.93405893e+02 -7.81371583e+02  1.37e-13 1.08e-13  1.27e+01     0s\n",
      "   7   2.83461339e+01 -1.49562544e+02  6.19e-14 2.03e-14  1.78e+00     0s\n",
      "   8  -2.51781504e+01 -4.60041121e+01  2.14e-14 4.11e-15  2.08e-01     0s\n",
      "   9  -3.15149971e+01 -3.40851159e+01  3.32e-15 3.50e-15  2.57e-02     0s\n",
      "  10  -3.22697600e+01 -3.24544045e+01  2.39e-15 3.05e-15  1.85e-03     0s\n",
      "  11  -3.23292872e+01 -3.23377028e+01  1.72e-15 3.22e-15  8.42e-05     0s\n",
      "  12  -3.23322131e+01 -3.23324910e+01  3.11e-15 3.77e-15  2.78e-06     0s\n",
      "  13  -3.23323461e+01 -3.23323608e+01  1.73e-15 2.19e-15  1.47e-07     0s\n",
      "  14  -3.23323545e+01 -3.23323562e+01  1.39e-15 2.86e-15  1.77e-08     0s\n",
      "  15  -3.23323556e+01 -3.23323558e+01  9.85e-16 3.47e-15  1.71e-09     0s\n",
      "\n",
      "Barrier solved model in 15 iterations and 0.05 seconds (0.04 work units)\n",
      "Optimal objective -3.23323556e+01\n",
      "\n"
     ]
    }
   ],
   "source": [
    "# Create a new Gurobi model\n",
    "model = Model(\"qp\")\n",
    "\n",
    "# Add variables to the model\n",
    "n_vars = Q.shape[0]\n",
    "vars = []\n",
    "for i in range(n_vars):\n",
    "    vars.append(model.addVar(lb=-GRB.INFINITY, ub=GRB.INFINITY, vtype=GRB.CONTINUOUS, name=f\"x_{i}\"))\n",
    "\n",
    "# Set the objective function\n",
    "obj = QuadExpr()\n",
    "for i in range(n_vars):\n",
    "    for j in range(n_vars):\n",
    "        if Q[i, j] != 0:\n",
    "            obj.add(vars[i] * vars[j] * Q[i, j]* 0.5)\n",
    "\n",
    "for i in range(n_vars):\n",
    "    if p[i] != 0:\n",
    "        obj.add(vars[i] * p[i])\n",
    "\n",
    "model.setObjective(obj, GRB.MINIMIZE)\n",
    "\n",
    "# Add equality constraints\n",
    "for i in range(A.shape[0]):\n",
    "    expr = LinExpr()\n",
    "    for j in range(n_vars):\n",
    "        if A[i, j] != 0:\n",
    "            expr.add(vars[j] * A[i, j])\n",
    "    model.addConstr(expr == Xi[i])\n",
    "\n",
    "# Add inequality constraints\n",
    "for i in range(G.shape[0]):\n",
    "    expr = LinExpr()\n",
    "    for j in range(n_vars):\n",
    "        if G[i, j] != 0:\n",
    "            expr.add(vars[j] * G[i, j])\n",
    "    model.addConstr(expr <= h[i])\n",
    "\n",
    "model.setParam('FeasibilityTol', 1e-4)\n",
    "# Solve the model\n",
    "model.optimize()\n",
    "\n",
    "# Retrieve the results\n",
    "if model.status == GRB.OPTIMAL:\n",
    "    sol_gurobi = np.array([var.x for var in vars])\n",
    "    # print(\"Optimal solution:\", sol_gurobi)\n",
    "else:\n",
    "    print(\"No optimal solution found.\")\n"
   ]
  },
  {
   "cell_type": "code",
   "execution_count": null,
   "metadata": {},
   "outputs": [],
   "source": [
    "def val(Q, p, A, x, G, h, y):\n",
    "    obj = 0.5 * y.T @ Q @ y + p @ y\n",
    "    eq = np.linalg.norm(A @ y - x)\n",
    "    ineq = np.linalg.norm(np.maximum(G @ y - h, 0))\n",
    "    return obj, eq, ineq"
   ]
  },
  {
   "cell_type": "code",
   "execution_count": null,
   "metadata": {},
   "outputs": [
    {
     "data": {
      "text/plain": [
       "(-40.53424343951364, 4.153896145489478e-14, 0.0)"
      ]
     },
     "execution_count": 44,
     "metadata": {},
     "output_type": "execute_result"
    }
   ],
   "source": [
    "val(Q, p, A, Xi, G, h, sol_gurobi)"
   ]
  },
  {
   "cell_type": "code",
   "execution_count": null,
   "metadata": {},
   "outputs": [
    {
     "data": {
      "text/plain": [
       "(-40.53424347067941, 3.308438273888836e-12, 3.5389125674729555e-10)"
      ]
     },
     "execution_count": 45,
     "metadata": {},
     "output_type": "execute_result"
    }
   ],
   "source": [
    "val(Q, p, A, Xi, G, h, sol_osqp)"
   ]
  },
  {
   "cell_type": "code",
   "execution_count": null,
   "metadata": {},
   "outputs": [],
   "source": []
  }
 ],
 "metadata": {
  "kernelspec": {
   "display_name": "scopf",
   "language": "python",
   "name": "python3"
  },
  "language_info": {
   "codemirror_mode": {
    "name": "ipython",
    "version": 3
   },
   "file_extension": ".py",
   "mimetype": "text/x-python",
   "name": "python",
   "nbconvert_exporter": "python",
   "pygments_lexer": "ipython3",
   "version": "3.9.17"
  }
 },
 "nbformat": 4,
 "nbformat_minor": 2
}

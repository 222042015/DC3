{
 "cells": [
  {
   "cell_type": "code",
   "execution_count": 73,
   "metadata": {},
   "outputs": [],
   "source": [
    "'''\n",
    "generate dataset from qplib\n",
    "from Xi Gao\n",
    "'''\n",
    "\n",
    "import osqp\n",
    "import time\n",
    "import tqdm\n",
    "import random\n",
    "import pickle\n",
    "import numpy as np\n",
    "import gurobipy as gp\n",
    "\n",
    "from gurobipy import Model, GRB, QuadExpr, LinExpr\n",
    "from scipy.sparse import csc_matrix"
   ]
  },
  {
   "cell_type": "markdown",
   "metadata": {},
   "source": [
    "## Import Data"
   ]
  },
  {
   "cell_type": "code",
   "execution_count": 74,
   "metadata": {},
   "outputs": [
    {
     "name": "stdout",
     "output_type": "stream",
     "text": [
      "Read MPS format model from file /home/jxxiong/A-xjx/DC3/datasets/dcopf/dcopf3970_model.mps\n",
      "Reading time = 0.03 seconds\n",
      ": 22036 rows, 10994 columns, 56437 nonzeros\n"
     ]
    }
   ],
   "source": [
    "# qp_path = ''\n",
    "# m = gp.read('/home/jxxiong/A-xjx/DC3/datasets/dcopf/dcopf_model.lp')\n",
    "m = gp.read('/home/jxxiong/A-xjx/DC3/datasets/dcopf/dcopf3970_model.mps')"
   ]
  },
  {
   "cell_type": "code",
   "execution_count": 75,
   "metadata": {},
   "outputs": [
    {
     "name": "stdout",
     "output_type": "stream",
     "text": [
      "The shape of quadratic matrix: (10994, 10994).\n",
      "The shape of coefficient vector: (10994,).\n"
     ]
    }
   ],
   "source": [
    "#quadratic matrix\n",
    "ini_q_matrix = m.getQ().toarray()\n",
    "\n",
    "#linear vector\n",
    "ini_p_vec = []\n",
    "variables = m.getVars()\n",
    "for var in variables:\n",
    "    ini_p_vec.append(var.obj)\n",
    "ini_p_vec = np.array(ini_p_vec)\n",
    "\n",
    "print('The shape of quadratic matrix: {}.'.format(ini_q_matrix.shape))\n",
    "print('The shape of coefficient vector: {}.'.format(ini_p_vec.shape))"
   ]
  },
  {
   "cell_type": "code",
   "execution_count": 77,
   "metadata": {},
   "outputs": [
    {
     "data": {
      "text/plain": [
       "<gurobi.QuadExpr: -10445.850000000004 + 0.0413 0_pg[56] + 0.2 0_pg[35] + 1857.9999999999998 0_pg[60] + 0.2865 0_pg[220] + 0.6494 0_pg[308] + 7931.999999999999 0_pg[67] + 0.2865 0_pg[215] + 0.6494 0_pg[319] + 976.0999999999999 0_pg[73] + 2116.0 0_pg[251] + 1846.0 0_pg[115] + 7837.0 0_pg[112] + 1848.9999999999998 0_pg[185] + 0.9804 0_pg[348] + 1.01 0_pg[365] + 2122.0 0_pg[333] + 5169.0 0_pg[86] + 2002.0 0_pg[168] + 1898.9999999999998 0_pg[364] + 2002.0 0_pg[263] + 996.9 0_pg[207] + 9053.0 0_pg[242] + 6653.0 0_pg[183] + 0.25 0_pg[376] + 0.2865 0_pg[224] + 3079.0 0_pg[177] + 5317.0 0_pg[12] + 1045.0 0_pg[75] + 1655.0 0_pg[23] + 5511.0 0_pg[111] + 2213.0 0_pg[264] + 1988.0 0_pg[41] + 1331.0 0_pg[68] + 10090.0 0_pg[82] + 8100.0 0_pg[130] + 1188.0 0_pg[125] + 2806.0 0_pg[77] + 0.4 0_pg[172] + 1236.0 0_pg[71] + 2440.0 0_pg[339] + 1950.0 0_pg[66] + 6456.999999999999 0_pg[103] + 4384.0 0_pg[280] + 1745.0 0_pg[59] + 2310.0 0_pg[208] + 2486.0 0_pg[336] + 2728.0 0_pg[26] + 0.9804 0_pg[358] + 1.01 0_pg[366] + 0.2865 0_pg[211] + 2054.0 0_pg[343] + 1373.0 0_pg[127] + 1607.9999999999998 0_pg[116] + 2068.0 0_pg[100] + 0.2865 0_pg[230] + 2057.0 0_pg[279] + 2313.0 0_pg[79] + 1544.0 0_pg[195] + 1.01 0_pg[374] + 1814.9999999999998 0_pg[141] + 1675.0 0_pg[278] + 1167.0 0_pg[135] + 0.2865 0_pg[222] + 1348.0 0_pg[138] + 0.641 0_pg[276] + 1200.0 0_pg[46] + 3236.0 0_pg[107] + 2272.0 0_pg[295] + 4440.0 0_pg[57] + 4342.0 0_pg[381] + 4193.0 0_pg[247] + 1611.0 0_pg[152] + 2043.0 0_pg[170] + 1443.0 0_pg[129] + 0.017499999999999998 0_pg[250] + 0.2865 0_pg[238] + 7959.999999999999 0_pg[78] + 1467.0 0_pg[133] + 4478.0 0_pg[258] + 1339.0 0_pg[72] + 1939.0 0_pg[184] + 1679.0 0_pg[252] + 7602.0 0_pg[1] + 1216.0 0_pg[137] + 1797.0 0_pg[154] + 7581.999999999999 0_pg[22] + 0.6494 0_pg[313] + 0.2865 0_pg[237] + 1157.0 0_pg[206] + 4340.0 0_pg[288] + 0.641 0_pg[270] + 0.9804 0_pg[354] + 2815.0 0_pg[299] + 0.2 0_pg[33] + 1962.0 0_pg[345] + 1576.0 0_pg[40] + 8002.0 0_pg[113] + 0.2865 0_pg[231] + 9813.0 0_pg[245] + 8587.0 0_pg[254] + 0.3195 0_pg[283] + 0.6494 0_pg[309] + 2121.0 0_pg[165] + 1910.0000000000002 0_pg[142] + 1804.0 0_pg[5] + 3819.0 0_pg[55] + 1545.0 0_pg[114] + 0.641 0_pg[265] + 0.6494 0_pg[325] + 1283.0 0_pg[136] + 1813.0 0_pg[117] + 2792.0 0_pg[45] + 1668.0 0_pg[145] + 0.3195 0_pg[282] + 0.641 0_pg[275] + 2184.0 0_pg[342] + 2559.0 0_pg[337] + 1641.0 0_pg[363] + 0.25 0_pg[378] + 0.9804 0_pg[351] + 2703.0 0_pg[158] + 0.2865 0_pg[218] + 0.4 0_pg[176] + 2809.0 0_pg[28] + 2342.0 0_pg[148] + 5178.0 0_pg[92] + 1797.0 0_pg[36] + 1788.0 0_pg[118] + 2511.0 0_pg[162] + 5255.0 0_pg[84] + 1885.0000000000002 0_pg[7] + 1174.0 0_pg[203] + 1696.0 0_pg[25] + 1586.0 0_pg[95] + 1412.0 0_pg[292] + 0.9804 0_pg[353] + 0.2865 0_pg[232] + 1901.0000000000002 0_pg[93] + 2626.0 0_pg[296] + 2514.0 0_pg[304] + 1716.0 0_pg[18] + 8123.999999999999 0_pg[240] + 9340.0 0_pg[147] + 2554.0 0_pg[157] + 6564.0 0_pg[16] + 1.01 0_pg[370] + 2327.0 0_pg[341] + 0.038900000000000004 0_pg[287] + 0.9804 0_pg[349] + 4217.0 0_pg[19] + 3203.0 0_pg[44] + 1.01 0_pg[368] + 0.2865 0_pg[217] + 0.641 0_pg[266] + 2656.0 0_pg[146] + 0.2 0_pg[31] + 989.1999999999999 0_pg[74] + 1607.9999999999998 0_pg[61] + 0.2 0_pg[29] + 0.25 0_pg[380] + 0.2865 0_pg[212] + 2802.0 0_pg[303] + 0.2865 0_pg[228] + 2055.0 0_pg[159] + 5464.0 0_pg[193] + 0.2865 0_pg[226] + 2249.0 0_pg[101] + 0.9804 0_pg[360] + 0.2865 0_pg[223] + 5982.0 0_pg[105] + 0.3195 0_pg[285] + 2231.0 0_pg[17] + 0.641 0_pg[271] + 2614.0 0_pg[335] + 2159.0 0_pg[166] + 6363.0 0_pg[89] + 0.2865 0_pg[214] + 1668.0 0_pg[198] + 1905.0 0_pg[80] + 2238.0 0_pg[331] + 3813.0000000000005 0_pg[51] + 0.641 0_pg[274] + 3635.0 0_pg[246] + 1680.9999999999998 0_pg[143] + 3456.0 0_pg[48] + 1694.0000000000002 0_pg[15] + 1695.0 0_pg[97] + 1159.0 0_pg[330] + 0.3195 0_pg[284] + 1393.0 0_pg[134] + 1872.0 0_pg[110] + 3215.9999999999995 0_pg[30] + 0.2865 0_pg[234] + 1853.0 0_pg[6] + 0.2865 0_pg[219] + 1.01 0_pg[367] + 0.641 0_pg[272] + 5611.0 0_pg[182] + 1675.0 0_pg[253] + 1744.0000000000002 0_pg[153] + 2237.0 0_pg[186] + 2355.0 0_pg[164] + 0.29410000000000003 0_pg[64] + 0.641 0_pg[267] + 5254.0 0_pg[90] + 1304.0 0_pg[139] + 0.9804 0_pg[359] + 2210.0 0_pg[4] + 5633.0 0_pg[13] + 5650.0 0_pg[104] + 0.6494 0_pg[316] + 2237.0 0_pg[328] + 2023.0 0_pg[179] + 4482.0 0_pg[52] + 1.01 0_pg[369] + 0.9804 0_pg[356] + 7675.0 0_pg[302] + 1523.0 0_pg[43] + 5861.0 0_pg[300] + 0.4 0_pg[171] + 1305.0 0_pg[69] + 5101.0 0_pg[11] + 5986.0 0_pg[85] + 1638.0 0_pg[119] + 1802.0 0_pg[39] + 0.2865 0_pg[216] + 1419.0 0_pg[126] + 3107.0 0_pg[108] + 1107.0 0_pg[382] + 2439.0 0_pg[156] + 3710.0 0_pg[2] + 2628.0 0_pg[27] + 0.8333 0_pg[10] + 4799.0 0_pg[261] + 0.6494 0_pg[307] + 2061.0 0_pg[124] + 1546.0 0_pg[144] + 0.641 0_pg[273] + 9654.0 0_pg[257] + 0.9804 0_pg[352] + 6210.0 0_pg[200] + 0.6494 0_pg[312] + 6149.0 0_pg[20] + 8162.0 0_pg[81] + 9034.0 0_pg[290] + 2209.0 0_pg[340] + 2067.0 0_pg[187] + 0.2865 0_pg[213] + 2349.0 0_pg[329] + 1789.9999999999998 0_pg[9] + 0.9804 0_pg[346] + 2196.0 0_pg[344] + 4882.0 0_pg[189] + 0.2865 0_pg[227] + 2180.0 0_pg[294] + 2858.0 0_pg[109] + 2128.0 0_pg[161] + 4621.0 0_pg[249] + 3456.0 0_pg[383] + 1.01 0_pg[372] + 10190.0 0_pg[241] + 2426.0 0_pg[88] + 0.2865 0_pg[209] + 0.2865 0_pg[236] + 3739.0 0_pg[120] + 0.6494 0_pg[323] + 4004.9999999999995 0_pg[260] + 2215.0 0_pg[297] + 1875.0 0_pg[24] + 1590.0 0_pg[8] + 1540.0 0_pg[37] + 6324.0 0_pg[83] + 3565.9999999999995 0_pg[190] + 3482.0 0_pg[201] + 4977.0 0_pg[99] + 3665.0 0_pg[121] + 0.6494 0_pg[311] + 0.3195 0_pg[281] + 0.2174 0_pg[14] + 0.6494 0_pg[314] + 0.9804 0_pg[357] + 2252.0 0_pg[334] + 0.4 0_pg[174] + 0.6494 0_pg[322] + 0.641 0_pg[269] + 0.6494 0_pg[315] + 1853.0 0_pg[123] + 0.6494 0_pg[305] + 0.641 0_pg[268] + 0.2 0_pg[32] + 8988.0 0_pg[197] + 0.2865 0_pg[233] + 2066.0 0_pg[196] + 4608.0 0_pg[262] + 0.6494 0_pg[320] + 0.6494 0_pg[324] + 0.2865 0_pg[210] + 1797.0 0_pg[151] + 0.2865 0_pg[239] + 4237.0 0_pg[54] + 0.29410000000000003 0_pg[63] + 1830.0 0_pg[191] + 6269.0 0_pg[91] + 8214.0 0_pg[244] + 2248.0 0_pg[327] + 0.29410000000000003 0_pg[62] + 2298.0 0_pg[205] + 1747.0 0_pg[150] + 3402.0000000000005 0_pg[122] + 4347.0 0_pg[58] + 1520.0 0_pg[199] + 0.4 0_pg[173] + 10120.0 0_pg[256] + 4592.0 0_pg[188] + 0.641 0_pg[277] + 6067.0 0_pg[361] + 4383.0 0_pg[98] + 0.9804 0_pg[355] + 0.2865 0_pg[235] + 1168.0 0_pg[204] + 0.25 0_pg[377] + 0.6494 0_pg[321] + 0.6494 0_pg[310] + 1.01 0_pg[371] + 2610.0 0_pg[76] + 0.2 0_pg[34] + 0.6494 0_pg[318] + 9144.0 0_pg[243] + 4273.0 0_pg[50] + 5759.0 0_pg[194] + 1814.9999999999998 0_pg[167] + 2258.0 0_pg[87] + 0.6494 0_pg[317] + 4044.0 0_pg[248] + 6071.0 0_pg[140] + 0.013 0_pg[202] + 7737.0 0_pg[301] + 1363.0 0_pg[132] + 1950.0 0_pg[42] + 1939.9999999999998 0_pg[169] + 4398.0 0_pg[180] + 8105.0 0_pg[255] + 2372.0 0_pg[160] + 4381.0 0_pg[289] + 4180.0 0_pg[49] + 1380.0 0_pg[291] + 3100.0 0_pg[106] + 1905.0 0_pg[94] + 0.2865 0_pg[225] + 6141.0 0_pg[102] + 0.9804 0_pg[347] + 3647.0 0_pg[259] + 0.9804 0_pg[350] + 0.25 0_pg[379] + 2257.0 0_pg[332] + 7029.000000000001 0_pg[21] + 0.25 0_pg[375] + 1287.0 0_pg[70] + 2647.0 0_pg[38] + 2661.0 0_pg[163] + 0.2865 0_pg[229] + 1385.0 0_pg[128] + 1355.0 0_pg[131] + 2095.0 0_pg[192] + 4467.0 0_pg[326] + 0.2865 0_pg[221] + 1.01 0_pg[373] + 3908.0 0_pg[53] + 1948.9999999999998 0_pg[362] + 2069.0 0_pg[47] + 0.4 0_pg[175] + 0.3195 0_pg[286] + 2487.0 0_pg[338] + 0.41669999999999996 0_pg[3] + 1943.0 0_pg[178] + 1614.0 0_pg[96] + 0.6494 0_pg[306] + 2562.0 0_pg[149] + 5496.0 0_pg[181] + 2537.0 0_pg[155] + 6202.0 0_pg[65] + 1182.0 0_pg[293] + 2709.0 0_pg[298] + [ 600.0 0_pg[67] ^ 2 + 302.3 0_pg[73] ^ 2 + 108.80000000000001 0_pg[112] ^ 2 + 309.9 0_pg[207] ^ 2 + 323.49999999999994 0_pg[75] ^ 2 + 346.6 0_pg[68] ^ 2 + 112.5 0_pg[130] ^ 2 + 309.5 0_pg[125] ^ 2 + 322.0 0_pg[71] ^ 2 + 251.2 0_pg[66] ^ 2 + 122.5 0_pg[208] ^ 2 + 357.70000000000005 0_pg[127] ^ 2 + 305.3 0_pg[135] ^ 2 + 351.3 0_pg[138] ^ 2 + 372.20000000000005 0_pg[46] ^ 2 + 8278.0 0_pg[152] ^ 2 + 375.8 0_pg[129] ^ 2 + 110.50000000000001 0_pg[78] ^ 2 + 382.40000000000003 0_pg[133] ^ 2 + 348.9 0_pg[72] ^ 2 + 105.6 0_pg[1] ^ 2 + 316.90000000000003 0_pg[137] ^ 2 + 9232.0 0_pg[154] ^ 2 + 359.59999999999997 0_pg[206] ^ 2 + 111.1 0_pg[113] ^ 2 + 119.3 0_pg[254] ^ 2 + 335.8 0_pg[136] ^ 2 + 290.90000000000003 0_pg[148] ^ 2 + 363.0 0_pg[203] ^ 2 + 366.9 0_pg[292] ^ 2 + 322.5 0_pg[304] ^ 2 + 129.70000000000002 0_pg[147] ^ 2 + 306.09999999999997 0_pg[74] ^ 2 + 498.8 0_pg[48] ^ 2 + 359.90000000000003 0_pg[330] ^ 2 + 363.1 0_pg[134] ^ 2 + 8959.0 0_pg[153] ^ 2 + 341.2 0_pg[139] ^ 2 + 339.7 0_pg[69] ^ 2 + 369.70000000000005 0_pg[126] ^ 2 + 6430.0 0_pg[382] ^ 2 + 630.6 0_pg[2] ^ 2 + 6009.0 0_pg[124] ^ 2 + 113.3 0_pg[81] ^ 2 + 125.4 0_pg[290] ^ 2 + 124.7 0_pg[329] ^ 2 + 115.60000000000001 0_pg[294] ^ 2 + 1617.0 0_pg[383] ^ 2 + 606.5 0_pg[190] ^ 2 + 500.40000000000003 0_pg[201] ^ 2 + 5403.0 0_pg[123] ^ 2 + 9233.0 0_pg[151] ^ 2 + 121.7 0_pg[205] ^ 2 + 271.40000000000003 0_pg[150] ^ 2 + 361.1 0_pg[204] ^ 2 + 113.39999999999999 0_pg[76] ^ 2 + 355.1 0_pg[132] ^ 2 + 612.1999999999999 0_pg[255] ^ 2 + 358.6 0_pg[291] ^ 2 + 524.5 0_pg[259] ^ 2 + 335.09999999999997 0_pg[70] ^ 2 + 360.8 0_pg[128] ^ 2 + 353.0 0_pg[131] ^ 2 + 318.2 0_pg[149] ^ 2 + 308.8 0_pg[293] ^ 2 ]>"
      ]
     },
     "execution_count": 77,
     "metadata": {},
     "output_type": "execute_result"
    }
   ],
   "source": [
    "m.getObjective()"
   ]
  },
  {
   "cell_type": "code",
   "execution_count": 78,
   "metadata": {},
   "outputs": [
    {
     "name": "stdout",
     "output_type": "stream",
     "text": [
      "The shape of lower bound vector: (10994,).\n",
      "The shape of upper bound vector: (10994,).\n"
     ]
    }
   ],
   "source": [
    "ini_lb = []\n",
    "ini_ub = []\n",
    "for var in variables:\n",
    "    ini_lb.append(var.lb)\n",
    "    ini_ub.append(var.ub)\n",
    "ini_lb = np.array(ini_lb)\n",
    "ini_ub = np.array(ini_ub)\n",
    "print('The shape of lower bound vector: {}.'.format(ini_lb.shape))\n",
    "print('The shape of upper bound vector: {}.'.format(ini_ub.shape))"
   ]
  },
  {
   "cell_type": "code",
   "execution_count": 79,
   "metadata": {},
   "outputs": [
    {
     "name": "stdout",
     "output_type": "stream",
     "text": [
      "The shape of inequality coefficient matrix: (11424, 10994).\n",
      "The shape of inequality RHS vector: (11424,).\n",
      "The shape of equality coefficient matrix: (10612, 10994).\n",
      "The shape of equality RHS vector: (10612,).\n"
     ]
    }
   ],
   "source": [
    "#inequality and equality coefficient matrix\n",
    "ini_ineq_matrix = []\n",
    "ini_ineq_rhs = []\n",
    "ini_eq_matrix = []\n",
    "ini_eq_rhs = []\n",
    "a_matrix = m.getA().toarray()\n",
    "\n",
    "for i, constr in enumerate(m.getConstrs()):\n",
    "    if constr.sense == '<':\n",
    "        ini_ineq_matrix.append(a_matrix[i,:])\n",
    "        ini_ineq_rhs.append(constr.RHS)\n",
    "    elif constr.sense == '>':\n",
    "        ini_ineq_matrix.append(-a_matrix[i,:])\n",
    "        ini_ineq_rhs.append(-constr.RHS)\n",
    "    elif constr.sense == '=':\n",
    "        ini_eq_matrix.append(a_matrix[i,:])\n",
    "        ini_eq_rhs.append(constr.RHS)\n",
    "\n",
    "ini_ineq_matrix = np.array(ini_ineq_matrix)\n",
    "ini_ineq_rhs = np.array(ini_ineq_rhs)\n",
    "ini_eq_matrix = np.array(ini_eq_matrix)\n",
    "ini_eq_rhs = np.array(ini_eq_rhs)\n",
    "\n",
    "print('The shape of inequality coefficient matrix: {}.'.format(ini_ineq_matrix.shape))\n",
    "print('The shape of inequality RHS vector: {}.'.format(ini_ineq_rhs.shape))\n",
    "print('The shape of equality coefficient matrix: {}.'.format(ini_eq_matrix.shape))\n",
    "print('The shape of equality RHS vector: {}.'.format(ini_eq_rhs.shape))"
   ]
  },
  {
   "cell_type": "code",
   "execution_count": 80,
   "metadata": {},
   "outputs": [
    {
     "name": "stdout",
     "output_type": "stream",
     "text": [
      "The number of variables: 10994.\n",
      "The number of inequality constraints: 11424.\n",
      "The number of equality constraints: 10612.\n"
     ]
    }
   ],
   "source": [
    "num_var = ini_q_matrix.shape[0]\n",
    "num_ineq = ini_ineq_matrix.shape[0]\n",
    "num_eq = ini_eq_matrix.shape[0]\n",
    "\n",
    "print('The number of variables: {}.'.format(num_var))\n",
    "print('The number of inequality constraints: {}.'.format(num_ineq))\n",
    "print('The number of equality constraints: {}.'.format(num_eq))"
   ]
  },
  {
   "cell_type": "markdown",
   "metadata": {},
   "source": [
    "## Random Sample\n",
    "\n",
    "### Randomly sample the variables, ineq cons and eq cons to perturb"
   ]
  },
  {
   "cell_type": "code",
   "execution_count": 81,
   "metadata": {},
   "outputs": [],
   "source": [
    "# num_chosed_var = 1500\n",
    "# # num_chosed_ineq = 100\n",
    "# num_chosed_eq = 200\n",
    "\n",
    "# chosed_var = sorted(random.sample(range(0, num_var), num_chosed_var))\n",
    "# # chosed_ineq = sorted(random.sample(range(0, num_ineq), num_chosed_ineq))\n",
    "# chosed_eq = sorted(random.sample(range(0, num_eq), num_chosed_eq))"
   ]
  },
  {
   "cell_type": "code",
   "execution_count": 82,
   "metadata": {},
   "outputs": [],
   "source": [
    "num_chosed_var = num_var\n",
    "num_chosed_ineq = num_ineq\n",
    "num_chosed_eq = num_eq\n",
    "\n",
    "# chosed_eq = sorted(random.sample(range(0, num_eq), num_chosed_eq))"
   ]
  },
  {
   "cell_type": "code",
   "execution_count": 83,
   "metadata": {},
   "outputs": [],
   "source": [
    "q_matrix = ini_q_matrix.copy()\n",
    "p_vec = ini_p_vec.copy()\n",
    "ineq_matrix = ini_ineq_matrix.copy()\n",
    "\n",
    "ineq_rhs = ini_ineq_rhs.copy()\n",
    "\n",
    "eq_matrix = ini_eq_matrix.copy()\n",
    "eq_rhs = ini_eq_rhs.copy()\n",
    "nonzero_indices = np.nonzero(ini_eq_rhs)\n",
    "nonzero_values = ini_eq_rhs[nonzero_indices]\n",
    "perturbed_values = nonzero_values * (1 + np.random.uniform(-0.3, 0.3, size=nonzero_values.shape))\n",
    "eq_rhs[nonzero_indices] = perturbed_values\n",
    "# eq_rhs = eq_rhs[chosed_eq]"
   ]
  },
  {
   "cell_type": "code",
   "execution_count": 84,
   "metadata": {},
   "outputs": [],
   "source": [
    "def perturb_eq_rhs(ini_eq_rhs, num_samples):\n",
    "    eq_rhs_list = []\n",
    "    for _ in range(num_samples):\n",
    "        eq_rhs = ini_eq_rhs.copy()\n",
    "        nonzero_indices = np.nonzero(ini_eq_rhs)\n",
    "        nonzero_values = ini_eq_rhs[nonzero_indices]\n",
    "        perturbed_values = nonzero_values * (1 + np.random.uniform(-0.1, 0.1, size=nonzero_values.shape))\n",
    "        # eq_rhs += np.random.uniform(-0.3, 0.3, size=eq_rhs.shape)\n",
    "        eq_rhs[nonzero_indices] = perturbed_values\n",
    "        eq_rhs_list.append(eq_rhs)\n",
    "    return np.array(eq_rhs_list)"
   ]
  },
  {
   "cell_type": "code",
   "execution_count": 86,
   "metadata": {},
   "outputs": [],
   "source": [
    "def solve_gurobi(Q, p, A, x, G, h, lb, ub):\n",
    "    # Create a new Gurobi model\n",
    "    model = Model(\"qp\")\n",
    "\n",
    "    # Add variables to the model\n",
    "    n_vars = Q.shape[0]\n",
    "    vars = []\n",
    "    for i in range(n_vars):\n",
    "        vars.append(model.addVar(lb=lb[i], ub=ub[i], vtype=GRB.CONTINUOUS, name=f\"x_{i}\"))\n",
    "\n",
    "    # Set the objective function\n",
    "    obj = QuadExpr()\n",
    "    for i in range(n_vars):\n",
    "        for j in range(n_vars):\n",
    "            if Q[i, j] != 0:\n",
    "                obj.add(vars[i] * vars[j] * Q[i, j])\n",
    "\n",
    "    for i in range(n_vars):\n",
    "        if p[i] != 0:\n",
    "            obj.add(vars[i] * p[i])\n",
    "    \n",
    "    obj.addConstant(-10445.850000000004)\n",
    "\n",
    "    model.setObjective(obj, GRB.MINIMIZE)\n",
    "\n",
    "    # Add equality constraints\n",
    "    for i in range(A.shape[0]):\n",
    "        expr = LinExpr()\n",
    "        for j in range(n_vars):\n",
    "            if A[i, j] != 0:\n",
    "                expr.add(vars[j] * A[i, j])\n",
    "        model.addConstr(expr == x[i])\n",
    "    \n",
    "    # Add inequality constraints\n",
    "    for i in range(G.shape[0]):\n",
    "        expr = LinExpr()\n",
    "        for j in range(n_vars):\n",
    "            if G[i, j] != 0:\n",
    "                expr.add(vars[j] * G[i, j])\n",
    "        model.addConstr(expr <= h[i])\n",
    "    \n",
    "    model.setParam('FeasibilityTol', 1e-4)\n",
    "    # Solve the model\n",
    "    model.optimize()\n",
    "    \n",
    "    # Retrieve the results\n",
    "    if model.status == GRB.OPTIMAL:\n",
    "        sol_gurobi = np.array([var.x for var in vars])\n",
    "        return sol_gurobi, model\n",
    "    else:\n",
    "        print(\"No optimal solution found.\")"
   ]
  },
  {
   "cell_type": "code",
   "execution_count": 87,
   "metadata": {},
   "outputs": [],
   "source": [
    "def solve_osqp(Q, p, A, x, G, h, lb, ub):\n",
    "    solver = osqp.OSQP()\n",
    "    my_A = np.vstack([A, G, np.diag(np.ones(Q.shape[0]))])\n",
    "    my_l = np.hstack([x, -np.ones(h.shape[0]) * np.inf, lb])\n",
    "    my_u = np.hstack([x, h, ub])\n",
    "    solver.setup(P=csc_matrix(Q), q=p, A=csc_matrix(my_A), l=my_l, u=my_u, verbose=True, eps_prim_inf=1e-10, eps_dual_inf=1e-10, eps_abs=1e-10, eps_rel=1e-10)\n",
    "    results_osqp = solver.solve()\n",
    "    sol_osqp = np.array(results_osqp.x)\n",
    "\n",
    "    return sol_osqp"
   ]
  },
  {
   "cell_type": "code",
   "execution_count": 88,
   "metadata": {},
   "outputs": [
    {
     "name": "stdout",
     "output_type": "stream",
     "text": [
      "Set parameter FeasibilityTol to value 0.0001\n",
      "Gurobi Optimizer version 11.0.0 build v11.0.0rc2 (linux64 - \"Ubuntu 22.04.2 LTS\")\n",
      "\n",
      "CPU model: 12th Gen Intel(R) Core(TM) i9-12900K, instruction set [SSE2|AVX|AVX2]\n",
      "Thread count: 24 physical cores, 24 logical processors, using up to 24 threads\n",
      "\n",
      "Optimize a model with 22036 rows, 10994 columns and 56437 nonzeros\n",
      "Model fingerprint: 0x30535858\n",
      "Model has 65 quadratic objective terms\n",
      "Coefficient statistics:\n",
      "  Matrix range     [1e+00, 4e+03]\n",
      "  Objective range  [1e-02, 1e+04]\n",
      "  QObjective range [2e+02, 2e+04]\n",
      "  Bounds range     [1e-03, 2e+01]\n",
      "  RHS range        [1e-04, 9e-01]\n",
      "Presolve removed 14755 rows and 5889 columns\n",
      "Presolve time: 0.05s\n",
      "Presolved: 7281 rows, 7555 columns, 32434 nonzeros\n",
      "Presolved model has 65 quadratic objective terms\n",
      "Ordering time: 0.01s\n",
      "\n",
      "Barrier statistics:\n",
      " Free vars  : 91\n",
      " AA' NZ     : 8.327e+04\n",
      " Factor NZ  : 4.359e+05 (roughly 10 MB of memory)\n",
      " Factor Ops : 4.039e+07 (less than 1 second per iteration)\n",
      " Threads    : 24\n",
      "\n",
      "                  Objective                Residual\n",
      "Iter       Primal          Dual         Primal    Dual     Compl     Time\n",
      "   0   6.77004987e+09 -1.61517534e+10  8.50e+03 1.00e+03  1.03e+06     0s\n",
      "   1   1.00553584e+09 -1.59789320e+10  2.70e+03 3.18e+02  3.53e+05     0s\n",
      "   2   5.08577695e+07 -1.19048738e+10  2.87e+02 3.37e+01  4.04e+04     0s\n",
      "   3   3.89932443e+07 -1.04845464e+10  2.25e+02 2.64e+01  3.19e+04     0s\n",
      "   4   2.95384828e+07 -9.87244149e+09  1.73e+02 2.04e+01  2.69e+04     0s\n",
      "   5   1.12810122e+07 -7.13445971e+09  6.57e+01 7.73e+00  1.15e+04     0s\n",
      "   6   1.88600002e+06 -4.08275498e+09  5.63e+00 6.63e-01  1.90e+03     0s\n",
      "   7   1.31550783e+06 -2.21744220e+09  1.63e+00 1.92e-01  7.74e+02     0s\n",
      "   8   1.25529144e+06 -9.95733095e+08  2.15e-01 2.53e-02  2.95e+02     0s\n",
      "   9   1.23873984e+06 -2.04971596e+08  2.55e-02 3.01e-03  5.91e+01     0s\n",
      "  10   1.17209234e+06 -4.85615911e+07  5.40e-03 6.35e-04  1.42e+01     0s\n",
      "  11   1.04345635e+06 -1.14939415e+07  6.28e-05 7.39e-06  3.57e+00     0s\n",
      "  12   9.95341085e+05 -3.16809448e+06  1.39e-05 3.09e-06  1.19e+00     0s\n",
      "  13   9.53817173e+05 -8.34255601e+05  1.86e-09 3.21e-06  5.09e-01     0s\n",
      "  14   9.39522221e+05  4.74780070e+05  3.80e-10 6.55e-07  1.32e-01     0s\n",
      "  15   9.33973272e+05  8.93365398e+05  2.60e-11 4.48e-08  1.16e-02     0s\n",
      "  16   9.33416390e+05  9.29987096e+05  1.65e-12 2.84e-09  9.77e-04     0s\n",
      "  17   9.33365346e+05  9.32881147e+05  1.82e-12 2.39e-10  1.38e-04     0s\n",
      "  18   9.33356516e+05  9.33354997e+05  3.43e-11 1.15e-11  4.33e-07     0s\n",
      "  19   9.33356455e+05  9.33356452e+05  1.26e-09 1.38e-11  6.81e-10     0s\n",
      "\n",
      "Barrier solved model in 19 iterations and 0.18 seconds (0.15 work units)\n",
      "Optimal objective 9.33356455e+05\n",
      "\n"
     ]
    }
   ],
   "source": [
    "Y, model_gurobi = solve_gurobi(ini_q_matrix, ini_p_vec, ini_eq_matrix, ini_eq_rhs, ini_ineq_matrix, ini_ineq_rhs, ini_lb, ini_ub)"
   ]
  },
  {
   "cell_type": "code",
   "execution_count": 43,
   "metadata": {},
   "outputs": [
    {
     "data": {
      "text/plain": [
       "True"
      ]
     },
     "execution_count": 43,
     "metadata": {},
     "output_type": "execute_result"
    }
   ],
   "source": [
    "np.all(m.getQ().toarray() == model_gurobi.getQ().toarray())"
   ]
  },
  {
   "cell_type": "code",
   "execution_count": 41,
   "metadata": {},
   "outputs": [
    {
     "data": {
      "text/plain": [
       "array([[20.,  0.,  0., ...,  0.,  0.,  0.],\n",
       "       [ 0., 20.,  0., ...,  0.,  0.,  0.],\n",
       "       [ 0.,  0., 20., ...,  0.,  0.,  0.],\n",
       "       ...,\n",
       "       [ 0.,  0.,  0., ...,  0.,  0.,  0.],\n",
       "       [ 0.,  0.,  0., ...,  0.,  0.,  0.],\n",
       "       [ 0.,  0.,  0., ...,  0.,  0.,  0.]])"
      ]
     },
     "execution_count": 41,
     "metadata": {},
     "output_type": "execute_result"
    }
   ],
   "source": []
  },
  {
   "cell_type": "code",
   "execution_count": 89,
   "metadata": {},
   "outputs": [
    {
     "name": "stdout",
     "output_type": "stream",
     "text": [
      "Gurobi Optimizer version 11.0.0 build v11.0.0rc2 (linux64 - \"Ubuntu 22.04.2 LTS\")\n",
      "\n",
      "CPU model: 12th Gen Intel(R) Core(TM) i9-12900K, instruction set [SSE2|AVX|AVX2]\n",
      "Thread count: 24 physical cores, 24 logical processors, using up to 24 threads\n",
      "\n",
      "Optimize a model with 22036 rows, 10994 columns and 56437 nonzeros\n",
      "Model fingerprint: 0x6a2f3db0\n",
      "Model has 65 quadratic objective terms\n",
      "Coefficient statistics:\n",
      "  Matrix range     [1e+00, 4e+03]\n",
      "  Objective range  [1e-02, 1e+04]\n",
      "  QObjective range [2e+02, 2e+04]\n",
      "  Bounds range     [1e-03, 2e+01]\n",
      "  RHS range        [1e-04, 9e-01]\n",
      "Presolve removed 14757 rows and 5889 columns\n",
      "Presolve time: 0.05s\n",
      "Presolved: 7279 rows, 7553 columns, 32427 nonzeros\n",
      "Presolved model has 65 quadratic objective terms\n",
      "Ordering time: 0.01s\n",
      "\n",
      "Barrier statistics:\n",
      " Free vars  : 266\n",
      " AA' NZ     : 8.322e+04\n",
      " Factor NZ  : 4.611e+05 (roughly 10 MB of memory)\n",
      " Factor Ops : 4.893e+07 (less than 1 second per iteration)\n",
      " Threads    : 24\n",
      "\n",
      "                  Objective                Residual\n",
      "Iter       Primal          Dual         Primal    Dual     Compl     Time\n",
      "   0   6.67811718e+09 -2.45941023e+10  8.50e+03 1.00e+03  1.03e+06     0s\n",
      "   1   6.79722677e+08 -1.42645662e+10  2.13e+03 2.51e+02  2.73e+05     0s\n",
      "   2   3.20819620e+08 -1.20025537e+10  1.27e+03 1.50e+02  1.65e+05     0s\n",
      "   3   3.21726215e+07 -1.09248139e+10  1.90e+02 2.24e+01  3.49e+04     0s\n",
      "   4   2.95058294e+06 -5.13585457e+09  1.29e+01 1.52e+00  3.45e+03     0s\n",
      "   5   1.41190871e+06 -2.90507569e+09  2.45e+00 2.88e-01  1.12e+03     0s\n",
      "   6   1.27054497e+06 -1.81215217e+09  9.74e-01 1.15e-01  6.02e+02     0s\n",
      "   7   1.23893101e+06 -3.39091565e+08  1.16e-01 1.36e-02  1.00e+02     0s\n",
      "   8   1.21220273e+06 -4.41246263e+07  1.38e-02 1.62e-03  1.31e+01     0s\n",
      "   9   1.05745909e+06 -2.16896846e+07  1.89e-03 2.22e-04  6.57e+00     0s\n",
      "  10   1.01447167e+06 -5.71699866e+06  2.00e-04 2.35e-05  1.94e+00     0s\n",
      "  11   9.65910033e+05 -1.04485389e+06  4.30e-09 3.07e-06  5.80e-01     0s\n",
      "  12   9.41757354e+05  3.48459571e+05  1.49e-10 1.06e-07  1.71e-01     0s\n",
      "  13   9.35189270e+05  8.34184687e+05  2.29e-11 1.65e-08  2.92e-02     0s\n",
      "  14   9.33478170e+05  9.27263540e+05  1.04e-12 7.87e-10  1.79e-03     0s\n",
      "  15   9.33364293e+05  9.33003213e+05  6.47e-13 2.67e-11  1.04e-04     0s\n",
      "  16   9.33356538e+05  9.33354720e+05  1.44e-10 2.41e-11  5.25e-07     0s\n",
      "  17   9.33356456e+05  9.33356444e+05  2.46e-09 3.06e-11  3.29e-09     0s\n",
      "  18   9.33356454e+05  9.33356454e+05  5.58e-09 3.78e-12  3.55e-12     0s\n",
      "\n",
      "Barrier solved model in 18 iterations and 0.18 seconds (0.15 work units)\n",
      "Optimal objective 9.33356454e+05\n",
      "\n"
     ]
    }
   ],
   "source": [
    "m.optimize()"
   ]
  },
  {
   "cell_type": "code",
   "execution_count": 20,
   "metadata": {},
   "outputs": [],
   "source": [
    "# _ = solve_osqp(ini_q_matrix, ini_p_vec, ini_eq_matrix, ini_eq_rhs, ini_ineq_matrix, ini_ineq_rhs, ini_lb, ini_ub)"
   ]
  },
  {
   "cell_type": "markdown",
   "metadata": {},
   "source": [
    "# Gurobi v.s. OSQP"
   ]
  },
  {
   "cell_type": "markdown",
   "metadata": {},
   "source": [
    "## Random generate data"
   ]
  },
  {
   "cell_type": "code",
   "execution_count": 19,
   "metadata": {},
   "outputs": [],
   "source": []
  },
  {
   "cell_type": "code",
   "execution_count": 55,
   "metadata": {},
   "outputs": [],
   "source": [
    "num_var = 200\n",
    "num_ineq = 100\n",
    "num_eq = 100\n",
    "\n",
    "num_chosed_var = 200\n",
    "num_chosed_ineq = 100\n",
    "num_chosed_eq = 100\n",
    "\n",
    "model = gp.Model()\n",
    "q_matrix = np.diag(np.random.random(num_var))\n",
    "p_vec = np.random.random(num_var)\n",
    "eq_matrix = np.random.normal(loc=0, scale=1., size=(num_eq, num_var))\n",
    "eq_rhs = np.random.uniform(-1, 1, size=(num_eq))\n",
    "ineq_matrix = np.random.normal(loc=0, scale=1., size=(num_ineq, num_var))\n",
    "ineq_rhs = np.sum(np.abs(ineq_matrix@np.linalg.pinv(eq_matrix)), axis=1)"
   ]
  },
  {
   "cell_type": "markdown",
   "metadata": {},
   "source": [
    "## osqp"
   ]
  },
  {
   "cell_type": "code",
   "execution_count": 56,
   "metadata": {},
   "outputs": [
    {
     "name": "stdout",
     "output_type": "stream",
     "text": [
      "-----------------------------------------------------------------\n",
      "           OSQP v0.6.3  -  Operator Splitting QP Solver\n",
      "              (c) Bartolomeo Stellato,  Goran Banjac\n",
      "        University of Oxford  -  Stanford University 2021\n",
      "-----------------------------------------------------------------\n",
      "problem:  variables n = 200, constraints m = 200\n",
      "          nnz(P) + nnz(A) = 40200\n",
      "settings: linear system solver = qdldl,\n",
      "          eps_abs = 1.0e-10, eps_rel = 1.0e-10,\n",
      "          eps_prim_inf = 1.0e-10, eps_dual_inf = 1.0e-10,\n",
      "          rho = 1.00e-01 (adaptive),\n",
      "          sigma = 1.00e-06, alpha = 1.60, max_iter = 4000\n",
      "          check_termination: on (interval 25),\n",
      "          scaling: on, scaled_termination: off\n",
      "          warm start: on, polish: off, time_limit: off\n",
      "\n",
      "iter   objective    pri res    dua res    rho        time\n",
      "   1  -2.1100e+01   1.59e+00   3.44e+02   1.00e-01   1.49e-02s\n",
      " 150  -3.2332e+01   1.21e-09   2.88e-12   7.83e-03   3.82e-02s\n",
      "\n",
      "status:               solved\n",
      "number of iterations: 150\n",
      "optimal objective:    -32.3324\n",
      "run time:             3.82e-02s\n",
      "optimal rho estimate: 2.91e-02\n",
      "\n"
     ]
    }
   ],
   "source": [
    "Q = q_matrix\n",
    "p = p_vec\n",
    "Xi = eq_rhs #X[0]\n",
    "A = eq_matrix\n",
    "G = ineq_matrix\n",
    "h = ineq_rhs\n",
    "\n",
    "solver = osqp.OSQP()\n",
    "my_A = np.vstack([A, G])\n",
    "my_l = np.hstack([Xi, -np.ones(h.shape[0]) * np.inf])\n",
    "my_u = np.hstack([Xi, h])\n",
    "solver.setup(P=csc_matrix(Q), q=p, A=csc_matrix(my_A), l=my_l, u=my_u, verbose=True, eps_prim_inf=1e-10, eps_dual_inf=1e-10, eps_abs=1e-10, eps_rel=1e-10)\n",
    "results_osqp = solver.solve()\n",
    "sol_osqp = np.array(results_osqp.x)"
   ]
  },
  {
   "cell_type": "markdown",
   "metadata": {},
   "source": [
    "## Gurobi"
   ]
  },
  {
   "cell_type": "code",
   "execution_count": 59,
   "metadata": {},
   "outputs": [
    {
     "name": "stdout",
     "output_type": "stream",
     "text": [
      "Set parameter FeasibilityTol to value 0.0001\n",
      "Gurobi Optimizer version 11.0.0 build v11.0.0rc2 (linux64 - \"Ubuntu 22.04.2 LTS\")\n",
      "\n",
      "CPU model: 12th Gen Intel(R) Core(TM) i9-12900K, instruction set [SSE2|AVX|AVX2]\n",
      "Thread count: 24 physical cores, 24 logical processors, using up to 24 threads\n",
      "\n",
      "Optimize a model with 200 rows, 200 columns and 40000 nonzeros\n",
      "Model fingerprint: 0x19bdb544\n",
      "Model has 200 quadratic objective terms\n",
      "Coefficient statistics:\n",
      "  Matrix range     [3e-05, 4e+00]\n",
      "  Objective range  [5e-03, 1e+00]\n",
      "  QObjective range [5e-03, 1e+00]\n",
      "  Bounds range     [0e+00, 0e+00]\n",
      "  RHS range        [5e-03, 1e+01]\n"
     ]
    },
    {
     "name": "stdout",
     "output_type": "stream",
     "text": [
      "Presolve time: 0.01s\n",
      "Presolved: 200 rows, 200 columns, 40000 nonzeros\n",
      "Presolved model has 200 quadratic objective terms\n",
      "Ordering time: 0.00s\n",
      "\n",
      "Barrier statistics:\n",
      " Free vars  : 200\n",
      " AA' NZ     : 1.990e+04\n",
      " Factor NZ  : 2.010e+04\n",
      " Factor Ops : 2.687e+06 (less than 1 second per iteration)\n",
      " Threads    : 24\n",
      "\n",
      "                  Objective                Residual\n",
      "Iter       Primal          Dual         Primal    Dual     Compl     Time\n",
      "   0  -1.88997315e-01 -5.62820695e-02  4.72e-16 3.39e+00  1.00e+06     0s\n",
      "   1   4.61711078e+06 -4.64117283e+06  1.12e+02 2.92e+01  1.93e+05     0s\n",
      "   2   1.38901967e+06 -1.40217605e+06  3.42e-12 3.83e-07  2.79e+04     0s\n",
      "   3   2.01947267e+05 -2.06983126e+05  3.02e-12 1.25e-12  4.09e+03     0s\n",
      "   4   2.89870671e+04 -3.09155310e+04  7.68e-13 3.72e-13  5.99e+02     0s\n",
      "   5   4.01315417e+03 -4.75336747e+03  3.00e-13 1.62e-13  8.77e+01     0s\n",
      "   6   4.93405893e+02 -7.81371583e+02  1.37e-13 1.08e-13  1.27e+01     0s\n",
      "   7   2.83461339e+01 -1.49562544e+02  6.19e-14 2.03e-14  1.78e+00     0s\n",
      "   8  -2.51781504e+01 -4.60041121e+01  2.14e-14 4.11e-15  2.08e-01     0s\n",
      "   9  -3.15149971e+01 -3.40851159e+01  3.32e-15 3.50e-15  2.57e-02     0s\n",
      "  10  -3.22697600e+01 -3.24544045e+01  2.39e-15 3.05e-15  1.85e-03     0s\n",
      "  11  -3.23292872e+01 -3.23377028e+01  1.72e-15 3.22e-15  8.42e-05     0s\n",
      "  12  -3.23322131e+01 -3.23324910e+01  3.11e-15 3.77e-15  2.78e-06     0s\n",
      "  13  -3.23323461e+01 -3.23323608e+01  1.73e-15 2.19e-15  1.47e-07     0s\n",
      "  14  -3.23323545e+01 -3.23323562e+01  1.39e-15 2.86e-15  1.77e-08     0s\n",
      "  15  -3.23323556e+01 -3.23323558e+01  9.85e-16 3.47e-15  1.71e-09     0s\n",
      "\n",
      "Barrier solved model in 15 iterations and 0.05 seconds (0.04 work units)\n",
      "Optimal objective -3.23323556e+01\n",
      "\n"
     ]
    }
   ],
   "source": [
    "# Create a new Gurobi model\n",
    "model = Model(\"qp\")\n",
    "\n",
    "# Add variables to the model\n",
    "n_vars = Q.shape[0]\n",
    "vars = []\n",
    "for i in range(n_vars):\n",
    "    vars.append(model.addVar(lb=-GRB.INFINITY, ub=GRB.INFINITY, vtype=GRB.CONTINUOUS, name=f\"x_{i}\"))\n",
    "\n",
    "# Set the objective function\n",
    "obj = QuadExpr()\n",
    "for i in range(n_vars):\n",
    "    for j in range(n_vars):\n",
    "        if Q[i, j] != 0:\n",
    "            obj.add(vars[i] * vars[j] * Q[i, j]* 0.5)\n",
    "\n",
    "for i in range(n_vars):\n",
    "    if p[i] != 0:\n",
    "        obj.add(vars[i] * p[i])\n",
    "\n",
    "model.setObjective(obj, GRB.MINIMIZE)\n",
    "\n",
    "# Add equality constraints\n",
    "for i in range(A.shape[0]):\n",
    "    expr = LinExpr()\n",
    "    for j in range(n_vars):\n",
    "        if A[i, j] != 0:\n",
    "            expr.add(vars[j] * A[i, j])\n",
    "    model.addConstr(expr == Xi[i])\n",
    "\n",
    "# Add inequality constraints\n",
    "for i in range(G.shape[0]):\n",
    "    expr = LinExpr()\n",
    "    for j in range(n_vars):\n",
    "        if G[i, j] != 0:\n",
    "            expr.add(vars[j] * G[i, j])\n",
    "    model.addConstr(expr <= h[i])\n",
    "\n",
    "model.setParam('FeasibilityTol', 1e-4)\n",
    "# Solve the model\n",
    "model.optimize()\n",
    "\n",
    "# Retrieve the results\n",
    "if model.status == GRB.OPTIMAL:\n",
    "    sol_gurobi = np.array([var.x for var in vars])\n",
    "    # print(\"Optimal solution:\", sol_gurobi)\n",
    "else:\n",
    "    print(\"No optimal solution found.\")\n"
   ]
  },
  {
   "cell_type": "code",
   "execution_count": null,
   "metadata": {},
   "outputs": [],
   "source": [
    "def val(Q, p, A, x, G, h, y):\n",
    "    obj = 0.5 * y.T @ Q @ y + p @ y\n",
    "    eq = np.linalg.norm(A @ y - x)\n",
    "    ineq = np.linalg.norm(np.maximum(G @ y - h, 0))\n",
    "    return obj, eq, ineq"
   ]
  },
  {
   "cell_type": "code",
   "execution_count": null,
   "metadata": {},
   "outputs": [
    {
     "data": {
      "text/plain": [
       "(-40.53424343951364, 4.153896145489478e-14, 0.0)"
      ]
     },
     "execution_count": 44,
     "metadata": {},
     "output_type": "execute_result"
    }
   ],
   "source": [
    "val(Q, p, A, Xi, G, h, sol_gurobi)"
   ]
  },
  {
   "cell_type": "code",
   "execution_count": null,
   "metadata": {},
   "outputs": [
    {
     "data": {
      "text/plain": [
       "(-40.53424347067941, 3.308438273888836e-12, 3.5389125674729555e-10)"
      ]
     },
     "execution_count": 45,
     "metadata": {},
     "output_type": "execute_result"
    }
   ],
   "source": [
    "val(Q, p, A, Xi, G, h, sol_osqp)"
   ]
  },
  {
   "cell_type": "code",
   "execution_count": null,
   "metadata": {},
   "outputs": [],
   "source": []
  }
 ],
 "metadata": {
  "kernelspec": {
   "display_name": "scopf",
   "language": "python",
   "name": "python3"
  },
  "language_info": {
   "codemirror_mode": {
    "name": "ipython",
    "version": 3
   },
   "file_extension": ".py",
   "mimetype": "text/x-python",
   "name": "python",
   "nbconvert_exporter": "python",
   "pygments_lexer": "ipython3",
   "version": "3.9.17"
  }
 },
 "nbformat": 4,
 "nbformat_minor": 2
}

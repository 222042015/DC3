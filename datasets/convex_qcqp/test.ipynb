{
 "cells": [
  {
   "cell_type": "code",
   "execution_count": 13,
   "metadata": {},
   "outputs": [
    {
     "data": {
      "text/plain": [
       "'\\n        minimize_y 1/2 * y^T Q y + p^Ty\\n        s.t.       1/2 * y^T D y = x\\n                   1/2 * y^T H y + G^T y <= h\\n                   L<= x <=U\\n'"
      ]
     },
     "execution_count": 13,
     "metadata": {},
     "output_type": "execute_result"
    }
   ],
   "source": [
    "import numpy as np\n",
    "import pickle\n",
    "import torch\n",
    "import sys\n",
    "import os\n",
    "import cyipopt as ipopt\n",
    "import os\n",
    "import time\n",
    "'''\n",
    "        minimize_y 1/2 * y^T Q y + p^Ty\n",
    "        s.t.       1/2 * y^T D y = x\n",
    "                   1/2 * y^T H y + G^T y <= h\n",
    "                   L<= x <=U\n",
    "'''\n",
    "\n",
    "# num_var = 100\n",
    "# num_ineq = 50\n",
    "# num_eq = 30\n",
    "# num_examples = 100\n",
    "\n",
    "# np.random.seed(2023)\n",
    "# Q = np.diag(np.random.rand(num_var)*0.5)\n",
    "# p = np.random.uniform(-1, 1, num_var)\n",
    "# X = np.random.uniform(-0.1, 0.1, size=(num_examples, num_eq))\n",
    "# G = np.random.uniform(-1, 1, size=(num_ineq, num_var))\n",
    "# h = np.random.uniform(0, 0.1, size=(num_ineq))\n",
    "# H = np.random.uniform(-0.1, 0.1,  size=(num_ineq, num_var))\n",
    "# # randomly set some of the elements in H to its negative value\n",
    "# H = [np.diag(H[i]) for i in range(num_ineq)]\n",
    "# H = np.array(H)\n",
    "# L = np.ones((num_var)) * -5\n",
    "# U = np.ones((num_var)) * 5\n",
    "# A = np.random.uniform(-1, 1, size=(num_eq, num_var))\n",
    "\n",
    "# data = {'Q':Q,\n",
    "#         'p':p,\n",
    "#         'X':X,\n",
    "#         'G':G,\n",
    "#         'H':H,\n",
    "#         'h':h,\n",
    "#         'L':L,\n",
    "#         'U':U,\n",
    "#         'A':A,\n",
    "#         'Y':[]}"
   ]
  },
  {
   "cell_type": "code",
   "execution_count": 53,
   "metadata": {},
   "outputs": [],
   "source": [
    "import numpy as np\n",
    "import pickle\n",
    "import torch\n",
    "\n",
    "import sys\n",
    "import os\n",
    "sys.path.insert(1, os.path.join(sys.path[0], os.pardir, os.pardir))\n",
    "from utils import SimpleProblem\n",
    "\n",
    "import os\n",
    "os.environ['KMP_DUPLICATE_LIB_OK']='True'\n",
    "\n",
    "torch.set_default_dtype(torch.float64)\n",
    "\n",
    "import gurobipy as gp\n",
    "from gurobipy import Model, GRB, QuadExpr, LinExpr\n",
    "\n",
    "from utils import build_gurobi_model\n",
    "import time\n",
    "from qcqp_utils import QCQPProbem\n",
    "\n",
    "from model_utils import NNSolver_eq_proj\n",
    "\n",
    "filepath = \"/home/jxxiong/A-xjx/DC3/datasets/convex_qcqp/random_convex_qcqp_dataset_var100_ineq50_eq30_ex10000\"\n",
    "with open(filepath, 'rb') as f:\n",
    "    data = pickle.load(f)\n",
    "\n",
    "with open(filepath, 'rb') as f:\n",
    "    dataset = pickle.load(f)\n",
    "data = QCQPProbem(dataset)\n",
    "\n",
    "arg_path = \"/home/jxxiong/A-xjx/DC3/results/QCQPProblem-100-50-30-10000/method_eq_proj/ec03c25d47020fa8cefa940700db9572d3dd7925/1713679980-1177857/args.dict\"\n",
    "args = pickle.load(open(arg_path, 'rb'))\n",
    "\n",
    "model = NNSolver_eq_proj(data, args)\n",
    "\n",
    "model_path = \"/home/jxxiong/A-xjx/DC3/results/QCQPProblem-100-50-30-10000/method_eq_proj/ec03c25d47020fa8cefa940700db9572d3dd7925/1713679980-1177857/solver_net.dict\"\n",
    "model.load_state_dict(torch.load(model_path))\n",
    "\n",
    "model.eval()\n",
    "DEVICE = 'cpu'\n",
    "model.to(DEVICE)\n",
    "\n",
    "for attr in dir(data):\n",
    "    var = getattr(data, attr)\n",
    "    if not callable(var) and not attr.startswith(\"__\") and torch.is_tensor(var):\n",
    "        try:\n",
    "            setattr(data, attr, var.to(DEVICE))\n",
    "        except AttributeError:\n",
    "            pass\n",
    "data._device = DEVICE"
   ]
  },
  {
   "cell_type": "code",
   "execution_count": 54,
   "metadata": {},
   "outputs": [
    {
     "ename": "TypeError",
     "evalue": "can't convert cuda:0 device type tensor to numpy. Use Tensor.cpu() to copy the tensor to host memory first.",
     "output_type": "error",
     "traceback": [
      "\u001b[0;31m---------------------------------------------------------------------------\u001b[0m",
      "\u001b[0;31mTypeError\u001b[0m                                 Traceback (most recent call last)",
      "Cell \u001b[0;32mIn[54], line 13\u001b[0m\n\u001b[1;32m     11\u001b[0m Q_np \u001b[38;5;241m=\u001b[39m data\u001b[38;5;241m.\u001b[39mQ_np\n\u001b[1;32m     12\u001b[0m p_np \u001b[38;5;241m=\u001b[39m data\u001b[38;5;241m.\u001b[39mp_np\n\u001b[0;32m---> 13\u001b[0m X_np \u001b[38;5;241m=\u001b[39m \u001b[43mdata\u001b[49m\u001b[38;5;241;43m.\u001b[39;49m\u001b[43mX\u001b[49m\u001b[38;5;241;43m.\u001b[39;49m\u001b[43mdetach\u001b[49m\u001b[43m(\u001b[49m\u001b[43m)\u001b[49m\u001b[38;5;241;43m.\u001b[39;49m\u001b[43mnumpy\u001b[49m\u001b[43m(\u001b[49m\u001b[43m)\u001b[49m\n\u001b[1;32m     14\u001b[0m G_np \u001b[38;5;241m=\u001b[39m data\u001b[38;5;241m.\u001b[39mG_np\n\u001b[1;32m     15\u001b[0m H_np \u001b[38;5;241m=\u001b[39m data\u001b[38;5;241m.\u001b[39mH_np\n",
      "\u001b[0;31mTypeError\u001b[0m: can't convert cuda:0 device type tensor to numpy. Use Tensor.cpu() to copy the tensor to host memory first."
     ]
    }
   ],
   "source": [
    "Q = data.Q\n",
    "p = data.p\n",
    "X = data.X\n",
    "G = data.G\n",
    "H = data.H\n",
    "h = data.h\n",
    "L = data.L\n",
    "U = data.U\n",
    "A = data.A\n",
    "\n",
    "Q_np = data.Q_np\n",
    "p_np = data.p_np\n",
    "X_np = data.X.detach().numpy()\n",
    "G_np = data.G_np\n",
    "H_np = data.H_np\n",
    "h_np = data.h_np\n",
    "L_np = data.L_np\n",
    "U_np = data.U_np\n",
    "A_np = data.A_np\n",
    "\n",
    "num_var = A.shape[1]\n",
    "num_eq = A.shape[0]\n",
    "num_ineq = G.shape[0]\n",
    "num_examples = X.shape[0]\n",
    "\n",
    "idx = 9000"
   ]
  },
  {
   "cell_type": "code",
   "execution_count": 55,
   "metadata": {},
   "outputs": [],
   "source": [
    "# def qcqp_ipopt(H, G, h):\n",
    "    \n",
    "#     def ineq_constraint(y):\n",
    "#         return 0.5 * (y @ H @ y) + G@y - h\n",
    "    \n",
    "#     def ineq_jacobian(y):\n",
    "#         return H@y + G\n",
    "    \n",
    "#     ineq_constraint_dict = {'type': 'ineq',\n",
    "#                             'fun': ineq_constraint,\n",
    "#                             'jac': ineq_jacobian}\n",
    "\n",
    "#     return ineq_constraint_dict\n",
    "\n",
    "\n",
    "# def eq_ipopt(A, x):\n",
    "#     def eq_constraint(y):\n",
    "#         return A@y - x\n",
    "    \n",
    "#     def eq_jacobian(y):\n",
    "#         return A\n",
    "\n",
    "#     eq_constraint_dict = {'type': 'eq',\n",
    "#                             'fun': eq_constraint,\n",
    "#                             'jac': eq_jacobian}\n",
    "#     return eq_constraint_dict\n",
    "\n",
    "# Y = []\n",
    "# for n in range(num_examples):\n",
    "#     Xi = X[n]\n",
    "#     y0 = np.array([0.05]*num_var)\n",
    "#     bounds = [(L[i], U[i]) for i in range(num_var)]\n",
    "#     eq_constraints = []\n",
    "#     ineq_constraints = []\n",
    "#     eq_constraints.append(eq_ipopt(A, Xi))\n",
    "    \n",
    "#     for i in range(num_ineq):\n",
    "#         Ht = H[i]\n",
    "#         Gt = G[i]\n",
    "#         ht = h[i]\n",
    "#         ineq_con = qcqp_ipopt(Ht, Gt, ht)\n",
    "#         ineq_constraints.append(ineq_con)\n",
    "    \n",
    "#     def objective(y):\n",
    "#         return 0.5 * (y @ Q @ y) + p@y\n",
    "\n",
    "#     def grad(y):\n",
    "#         return Q@y + p\n",
    "#     start_time = time.time()\n",
    "#     result = ipopt.minimize_ipopt(objective, y0, jac=grad, bounds=bounds, constraints=ineq_constraints+eq_constraints)\n",
    "#     print('status:', result.success)\n",
    "#     print(time.time() - start_time)\n",
    "#     # if result.success:\n",
    "#     #     Y.append(result.x)\n",
    "#     #     print(n)"
   ]
  },
  {
   "cell_type": "code",
   "execution_count": 56,
   "metadata": {},
   "outputs": [],
   "source": [
    "# result"
   ]
  },
  {
   "cell_type": "code",
   "execution_count": 57,
   "metadata": {},
   "outputs": [],
   "source": [
    "# y = result.x"
   ]
  },
  {
   "cell_type": "code",
   "execution_count": 58,
   "metadata": {},
   "outputs": [],
   "source": [
    "# res = []\n",
    "# for i in range(num_ineq):\n",
    "#     Ht = H[i]\n",
    "#     Gt = G[i]\n",
    "#     ht = h[i]\n",
    "#     res.append(0.5 * y @ Ht @ y + Gt@y -ht)\n",
    "# res"
   ]
  },
  {
   "cell_type": "code",
   "execution_count": 59,
   "metadata": {},
   "outputs": [],
   "source": [
    "# import numpy as np\n",
    "# from cyipopt import minimize_ipopt\n",
    "\n",
    "# # Define the matrices and vectors for demonstration purposes\n",
    "# n = 3  # Dimension of y\n",
    "# Q = np.array([[1, 0, 0], [0, 2, 0], [0, 0, 3]])\n",
    "# H1 = np.array([[2, 0, 0], [0, 1, 0], [0, 0, 1]])\n",
    "# H2 = np.array([[1, 0, 0], [0, 1, 0], [0, 0, 2]])\n",
    "# p = np.array([1, 1, 1])\n",
    "# g1 = np.array([-1, -2, -3])\n",
    "# g2 = np.array([2, 1, -1])\n",
    "# h1 = 1\n",
    "# h2 = 0.5\n",
    "\n",
    "# # Objective function and its gradient\n",
    "# def objective(y):\n",
    "#     return y.T @ Q @ y + p.T @ y\n",
    "\n",
    "# def objective_grad(y):\n",
    "#     return 2 * Q @ y + p\n",
    "\n",
    "# # Constraint functions and Jacobians\n",
    "# def constraint1(y):\n",
    "#     return np.array([y.T @ H1 @ y + g1.T @ y - h1])\n",
    "\n",
    "# def constraint1_jac(y):\n",
    "#     return np.array([2 * H1 @ y + g1]).reshape(1, -1)\n",
    "\n",
    "# def constraint2(y):\n",
    "#     return np.array([y.T @ H2 @ y + g2.T @ y - h2])\n",
    "\n",
    "# def constraint2_jac(y):\n",
    "#     return np.array([2 * H2 @ y + g2]).reshape(1, -1)\n",
    "\n",
    "# # Define constraints in a tuple format compatible with CyIpopt\n",
    "# constraints = [{'type': 'ineq',\n",
    "#                 'fun': constraint1,\n",
    "#                 'jac': constraint1_jac},\n",
    "#                {'type': 'ineq',\n",
    "#                 'fun': constraint2,\n",
    "#                 'jac': constraint2_jac}]\n",
    "\n",
    "# # Initial guess\n",
    "# y0 = np.array([0.1, 0.1, 0.1])\n",
    "\n",
    "# # Solve the problem\n",
    "# result = minimize_ipopt(objective, y0, jac=objective_grad, constraints=constraints, options={'tol': 1e-6, 'acceptable_tol': 1e-5, 'max_iter': 1000, 'disp': True})\n",
    "\n",
    "# print(\"Solution:\", result.x)\n",
    "# print(\"Objective at solution:\", result.fun)\n"
   ]
  },
  {
   "cell_type": "code",
   "execution_count": 60,
   "metadata": {},
   "outputs": [],
   "source": [
    "# y = result.x\n",
    "# y.T @ H1 @ y + g1.T @ y - h1"
   ]
  },
  {
   "cell_type": "code",
   "execution_count": 61,
   "metadata": {},
   "outputs": [],
   "source": [
    "# result.info['g']"
   ]
  },
  {
   "cell_type": "code",
   "execution_count": 62,
   "metadata": {},
   "outputs": [],
   "source": [
    "class nonconvex_ipopt(object):\n",
    "    def __init__(self, Q, p, A, H, G):\n",
    "        self.Q = Q\n",
    "        self.p = p\n",
    "        self.A = A\n",
    "        self.H = H\n",
    "        self.G = G\n",
    "\n",
    "    def objective(self, y):\n",
    "        return 0.5*(y.T @ self.Q @ y) + self.p.T@y\n",
    "\n",
    "    def gradient(self, y):\n",
    "        return self.Q@y + self.p\n",
    "\n",
    "    def constraints(self, y):\n",
    "        constrs = [self.A@y]\n",
    "        for i in range(self.H.shape[0]):\n",
    "            constrs.append(0.5*(y.T@self.H[i]@y) + self.G[i].T@y)\n",
    "        return np.hstack(constrs)\n",
    "\n",
    "    def jacobian(self, y):\n",
    "        jac = [self.A.flatten()]\n",
    "        for i in range(self.H.shape[0]):\n",
    "            jac.append((self.H[i]@y + self.G[i]).flatten())\n",
    "        return np.concatenate(jac)\n",
    "\n",
    "def build_ipopt(Q, p, A, Xi, H, G, h, lb=None, ub=None, y0=None, solver_type='ipopt', tol=1e-8):\n",
    "    # if y0 is None:\n",
    "    #     y0 = np.linalg.pinv(A)@Xi  # feasible initial point\n",
    "    num_var = A.shape[1]\n",
    "    # upper and lower bounds on variables\n",
    "    if lb is None:\n",
    "        lb = -np.infty * np.ones(num_var)\n",
    "    if ub is None:\n",
    "        ub = np.infty * np.ones(num_var)\n",
    "\n",
    "    # upper and lower bounds on constraints\n",
    "    cl = np.hstack([Xi, -np.inf * np.ones(G.shape[0])])\n",
    "    cu = np.hstack([Xi, h])\n",
    "\n",
    "    nlp = ipopt.problem(n=num_var,\n",
    "                        m=len(cl),\n",
    "                        problem_obj=nonconvex_ipopt(Q, p, A, H, G),\n",
    "                        lb=lb,\n",
    "                        ub=ub,\n",
    "                        cl=cl,\n",
    "                        cu=cu)\n",
    "\n",
    "    nlp.add_option('tol', tol)\n",
    "    nlp.add_option('print_level', 0) # 3)\n",
    "\n",
    "    # start_time = time.time()\n",
    "    # y, info = nlp.solve(y0)\n",
    "    # end_time = time.time()\n",
    "    return nlp"
   ]
  },
  {
   "cell_type": "code",
   "execution_count": 63,
   "metadata": {},
   "outputs": [
    {
     "name": "stderr",
     "output_type": "stream",
     "text": [
      "/tmp/ipykernel_3160379/560160664.py:41: FutureWarning: The class named 'problem' will soon be deprecated in CyIpopt. Please replace all uses and use 'Problem' going forward.\n",
      "  nlp = ipopt.problem(n=num_var,\n"
     ]
    }
   ],
   "source": [
    "nlp = build_ipopt(Q_np, p_np, A_np, X_np[idx], H_np, G_np, h_np, L_np, U_np, y0 = np.array([0.05]*num_var))"
   ]
  },
  {
   "cell_type": "code",
   "execution_count": 64,
   "metadata": {},
   "outputs": [
    {
     "name": "stdout",
     "output_type": "stream",
     "text": [
      "0.0862724781036377\n"
     ]
    }
   ],
   "source": [
    "start_time = time.time()\n",
    "y, info = nlp.solve(np.array([0.05]*num_var))\n",
    "print(time.time() - start_time)"
   ]
  },
  {
   "cell_type": "code",
   "execution_count": 65,
   "metadata": {},
   "outputs": [
    {
     "data": {
      "text/plain": [
       "{'x': array([-3.36131055e+00,  3.67792238e-01,  9.87953030e-01, -2.45765613e+00,\n",
       "        -3.80188991e-01,  3.01940863e+00, -6.86498460e-01, -4.19053667e-01,\n",
       "        -1.74249465e+00, -1.27290879e+00,  6.22008068e-01, -1.62076736e-01,\n",
       "        -3.29603765e-01,  3.26903699e-02,  1.20462596e+00, -5.00000005e+00,\n",
       "         5.48106576e-01, -1.40127467e+00,  4.71232234e+00,  7.05604966e-01,\n",
       "        -5.35574953e-01,  1.73337298e+00,  2.98514860e+00,  2.86370758e-01,\n",
       "        -5.00000005e+00, -3.16241167e+00,  2.16876497e+00, -4.02751108e+00,\n",
       "         3.25951377e+00, -6.74445226e-01, -2.45219233e-02,  7.33418467e-01,\n",
       "         1.13033550e+00,  1.98029759e+00, -2.95847985e+00, -1.01089736e+00,\n",
       "         1.90671017e+00,  3.08109378e+00, -9.74830216e-01,  8.14520842e-01,\n",
       "        -1.59903703e+00, -7.56995750e-01,  4.67227946e-01,  1.62171606e+00,\n",
       "         5.00000005e+00,  1.60731213e+00, -6.37380234e-01, -2.39101269e+00,\n",
       "         1.85225270e+00, -4.28265480e+00,  2.83870120e+00,  1.06419273e+00,\n",
       "        -2.19933880e-01,  1.17840143e+00, -2.86795508e+00,  1.94209769e+00,\n",
       "        -1.88860301e+00, -1.24612235e+00, -1.15759260e+00,  4.38585642e-01,\n",
       "        -1.38615030e+00, -1.90937391e+00, -4.22583614e+00,  1.34983830e-01,\n",
       "         1.50831151e+00, -1.78581833e+00,  1.26054842e+00,  1.58283620e+00,\n",
       "        -6.13279869e-01,  1.81861691e+00, -1.77555886e+00,  1.11736228e+00,\n",
       "         3.14801796e+00,  3.69362967e+00,  1.14015127e+00,  1.37190378e+00,\n",
       "         1.71864831e+00, -4.81427602e-04,  7.53180853e-01, -3.52181733e+00,\n",
       "         1.36678272e+00, -2.43877469e-01, -1.03472867e+00,  1.06869837e+00,\n",
       "        -2.65419179e+00, -4.76068322e+00, -2.36317051e+00,  4.19399531e+00,\n",
       "        -2.10941482e+00, -1.32323618e+00,  2.86843906e+00,  1.52202546e+00,\n",
       "        -1.51037800e+00, -7.89151375e-01, -1.10811363e+00, -1.91803473e+00,\n",
       "         7.14677072e-03, -2.44709998e+00, -8.41896910e-01, -1.48957237e+00]),\n",
       " 'g': array([ 3.39364585e-02,  8.54795596e-02,  4.19520676e-02, -3.98216943e-02,\n",
       "         1.29141694e-02,  3.76948595e-02,  1.16491645e-02, -1.08699250e-02,\n",
       "         3.66006845e-02,  8.74416631e-02, -3.17458460e-02,  3.37726451e-02,\n",
       "         8.28775973e-02, -7.56019626e-03, -4.65141884e-02, -6.55213681e-02,\n",
       "        -7.67935692e-02,  3.91399221e-02, -7.90842213e-02,  2.83864570e-02,\n",
       "         5.03106069e-02,  7.59737629e-02,  5.84057725e-02, -5.70029834e-02,\n",
       "         2.88690890e-02, -1.07238716e-02,  9.80688819e-02,  3.73015191e-02,\n",
       "         2.06817302e-02, -7.28415263e-02, -4.97120843e+00, -3.93020916e+00,\n",
       "         5.92493940e-02,  9.31297409e-02, -2.44939937e+01, -1.14241315e+00,\n",
       "         9.21265845e-02, -1.51560511e+01, -1.13814385e+01, -1.40167477e+01,\n",
       "         6.33413077e-02,  9.81075847e-02, -1.66041242e+01, -1.16305014e+01,\n",
       "         2.49085320e-02,  1.25980545e-04,  3.97350899e-02, -6.45984784e+00,\n",
       "         5.94775031e-02,  3.93916667e-02, -7.86668352e+00,  6.24403505e-02,\n",
       "        -1.11441391e+01,  7.46296416e-02,  5.13222730e-02,  7.55101036e-03,\n",
       "         6.19430974e-02,  4.78019608e-02,  7.03544780e-02,  1.44964793e-02,\n",
       "        -1.52054550e+01,  3.57269390e-02, -1.49877144e+01, -1.43768877e+00,\n",
       "        -2.56471617e+00, -1.13490769e+01,  4.38296392e-02,  3.72424981e-02,\n",
       "        -9.10419277e+00, -2.33931609e+01,  6.00845016e-02, -1.33298603e+01,\n",
       "         2.94470089e-02,  8.53131949e-02,  7.14099836e-02, -2.92428306e+00,\n",
       "        -1.65164733e+01, -5.29523510e+00, -1.98931060e+00, -2.01151812e+01]),\n",
       " 'obj_val': -39.8476382080661,\n",
       " 'mult_g': array([-4.80552692e-02,  4.03795435e-02,  2.56783349e-02, -2.12164987e-01,\n",
       "        -2.49406743e-01, -1.42842349e-01,  6.09708995e-02, -1.47972182e-01,\n",
       "         3.41707261e-02,  2.42415199e-01,  3.95202148e-02, -1.50809153e-01,\n",
       "        -2.36704929e-01, -1.75675157e-01, -2.12223030e-01,  1.21032238e-01,\n",
       "        -1.34182267e-01, -3.08033973e-02, -1.62477673e-01,  7.95590121e-02,\n",
       "        -1.21120069e-01,  1.17299558e-02, -1.13920846e-01, -3.41756286e-01,\n",
       "        -1.03579335e-02,  4.41467898e-02, -1.08503031e-01, -5.62884431e-02,\n",
       "         2.45689977e-01, -1.76264396e-01, -2.56766860e-09, -6.68561316e-10,\n",
       "         1.10926585e-01,  1.64588642e-01, -6.76827371e-10, -6.03668003e-10,\n",
       "         2.53348215e-01,  1.94493006e-09,  1.81833011e-09,  1.45524837e-09,\n",
       "         1.34195360e-01,  1.73482741e-01,  1.36124993e-09,  9.82928966e-10,\n",
       "         6.30563316e-02,  1.39750170e-01,  9.85238908e-02, -1.66830618e-09,\n",
       "         3.01207807e-01,  1.05159723e-01, -2.93207546e-09,  5.89177572e-02,\n",
       "         8.05999712e-10,  1.21418812e-02,  2.83569222e-01,  2.04607140e-01,\n",
       "         1.30763364e-01,  7.22385050e-02,  1.05054012e-01,  1.47769879e-02,\n",
       "        -2.46077978e-10,  1.81369928e-01,  4.14421750e-10, -9.53295246e-11,\n",
       "         7.07950874e-10,  2.28453985e-09,  8.18723038e-02,  1.72676521e-01,\n",
       "         2.71277805e-09, -3.02046522e-09,  1.92484177e-01,  1.53353241e-09,\n",
       "         8.06863463e-04,  2.36322554e-01,  2.97008737e-01,  5.87682965e-10,\n",
       "         1.51592529e-10,  4.95095561e-10, -5.07993814e-10, -4.05710349e-09]),\n",
       " 'mult_x_L': array([6.10243734e-12, 1.86296329e-12, 1.67001977e-12, 3.93337814e-12,\n",
       "        2.16459069e-12, 1.24697473e-12, 2.31830215e-12, 2.18295504e-12,\n",
       "        3.06983374e-12, 2.68305746e-12, 1.77872386e-12, 2.06700259e-12,\n",
       "        2.14114593e-12, 1.98700877e-12, 1.61170069e-12, 1.55780118e-01,\n",
       "        1.80241669e-12, 2.77876163e-12, 1.02961986e-12, 1.75266251e-12,\n",
       "        2.23993007e-12, 1.48513976e-12, 1.25232484e-12, 1.89165694e-12,\n",
       "        7.15049466e-01, 5.44191513e-12, 1.39494041e-12, 1.02828929e-11,\n",
       "        1.21072502e-12, 2.31184216e-12, 2.00985709e-12, 1.74416013e-12,\n",
       "        1.63123208e-12, 1.43260367e-12, 4.89831058e-12, 2.50682943e-12,\n",
       "        1.44786732e-12, 1.23745624e-12, 2.48436722e-12, 1.71983216e-12,\n",
       "        2.94034364e-12, 2.35682061e-12, 1.82908048e-12, 1.51018253e-12,\n",
       "        9.99999990e-13, 1.51347473e-12, 2.29220065e-12, 3.83290473e-12,\n",
       "        1.45937407e-12, 1.39402888e-11, 1.27572154e-12, 1.64902409e-12,\n",
       "        2.09202125e-12, 1.61854163e-12, 4.69033258e-12, 1.44048678e-12,\n",
       "        3.21399033e-12, 2.66391204e-12, 2.60253503e-12, 1.83871333e-12,\n",
       "        2.76713220e-12, 3.23559031e-12, 1.29171612e-11, 1.94742578e-12,\n",
       "        1.53649682e-12, 3.11121177e-12, 1.59730414e-12, 1.51910204e-12,\n",
       "        2.27960745e-12, 1.46657307e-12, 3.10131257e-12, 1.63469147e-12,\n",
       "        1.22729233e-12, 1.15026753e-12, 1.62862436e-12, 1.56938966e-12,\n",
       "        1.48839461e-12, 2.00019257e-12, 1.73816888e-12, 6.76506352e-12,\n",
       "        1.57065199e-12, 2.10255304e-12, 2.52189549e-12, 1.64779979e-12,\n",
       "        4.26292300e-12, 4.17856105e-11, 3.79243324e-12, 1.08766642e-12,\n",
       "        3.45950706e-12, 2.71978304e-12, 1.27090009e-12, 1.53326600e-12,\n",
       "        2.86563985e-12, 2.37481818e-12, 2.56944806e-12, 3.24468284e-12,\n",
       "        1.99714535e-12, 3.91711377e-12, 2.40494275e-12, 2.84865575e-12]),\n",
       " 'mult_x_U': array([1.19598475e-12, 2.15879779e-12, 2.49249322e-12, 1.34090387e-12,\n",
       "        1.85867075e-12, 5.04899694e-12, 1.75855141e-12, 1.84534063e-12,\n",
       "        1.48313057e-12, 1.59415676e-12, 2.28415220e-12, 1.93720481e-12,\n",
       "        1.87631208e-12, 2.01316218e-12, 2.63478639e-12, 9.99999990e-13,\n",
       "        2.24623524e-12, 1.56218885e-12, 3.47611217e-11, 2.32861667e-12,\n",
       "        1.80649707e-12, 3.06126159e-12, 4.96314506e-12, 2.12150752e-12,\n",
       "        9.99999990e-13, 1.22512810e-12, 3.53202744e-12, 1.10772503e-12,\n",
       "        5.74552072e-12, 1.76228680e-12, 1.99023908e-12, 2.34379674e-12,\n",
       "        2.58420332e-12, 3.31158454e-12, 1.25652136e-12, 1.66364510e-12,\n",
       "        3.23280404e-12, 5.21130196e-12, 1.67368771e-12, 2.38921268e-12,\n",
       "        1.51537260e-12, 1.73701707e-12, 2.20615548e-12, 2.96008270e-12,\n",
       "        2.74608736e-01, 2.94751543e-12, 1.77387359e-12, 1.35299456e-12,\n",
       "        3.17687504e-12, 1.07727802e-12, 4.62684741e-12, 2.54077478e-12,\n",
       "        1.91573306e-12, 2.61670599e-12, 1.27097827e-12, 3.27021560e-12,\n",
       "        1.45167313e-12, 1.60099328e-12, 1.62401129e-12, 2.19230245e-12,\n",
       "        1.56588859e-12, 1.44730913e-12, 1.08391259e-12, 2.05549161e-12,\n",
       "        2.86394387e-12, 1.47366160e-12, 2.67418889e-12, 2.92640342e-12,\n",
       "        1.78148964e-12, 3.14328692e-12, 1.47589301e-12, 2.57556862e-12,\n",
       "        5.39962027e-12, 7.65479693e-12, 2.59077507e-12, 2.75626644e-12,\n",
       "        3.04752455e-12, 1.99980743e-12, 2.35470349e-12, 1.17345861e-12,\n",
       "        2.75238145e-12, 1.90698581e-12, 1.65707532e-12, 2.54368675e-12,\n",
       "        1.30647366e-12, 1.02451844e-12, 1.35811060e-12, 1.24068750e-11,\n",
       "        1.40658552e-12, 1.58146867e-12, 4.69139754e-12, 2.87523665e-12,\n",
       "        1.53600911e-12, 1.72736888e-12, 1.63716665e-12, 1.44549721e-12,\n",
       "        2.00286278e-12, 1.34280458e-12, 1.71177275e-12, 1.54093357e-12]),\n",
       " 'status': 0,\n",
       " 'status_msg': b'Algorithm terminated successfully at a locally optimal point, satisfying the convergence tolerances (can be specified by options).'}"
      ]
     },
     "execution_count": 65,
     "metadata": {},
     "output_type": "execute_result"
    }
   ],
   "source": [
    "info"
   ]
  },
  {
   "cell_type": "code",
   "execution_count": 66,
   "metadata": {},
   "outputs": [
    {
     "data": {
      "text/plain": [
       "-39.8476382080661"
      ]
     },
     "execution_count": 66,
     "metadata": {},
     "output_type": "execute_result"
    }
   ],
   "source": [
    "info['obj_val']"
   ]
  },
  {
   "cell_type": "code",
   "execution_count": 67,
   "metadata": {},
   "outputs": [
    {
     "name": "stdout",
     "output_type": "stream",
     "text": [
      "9.966808572903219e-09\n"
     ]
    },
    {
     "data": {
      "text/plain": [
       "array([ 2,  3,  6, 10, 11, 14, 15, 16, 18, 19, 21, 23, 24, 25, 26, 27, 28,\n",
       "       29, 31, 36, 37, 40, 42, 43, 44])"
      ]
     },
     "execution_count": 67,
     "metadata": {},
     "output_type": "execute_result"
    }
   ],
   "source": [
    "res = []\n",
    "for i in range(num_ineq):\n",
    "    res.append(0.5 * y.T @ H_np[i] @ y + G_np[i].T @ y - h_np[i])\n",
    "res = np.array(res)\n",
    "print(res.max())\n",
    "active_ineq = np.where(np.abs(res) < 1e-4)[0]\n",
    "active_ineq"
   ]
  },
  {
   "cell_type": "code",
   "execution_count": 68,
   "metadata": {},
   "outputs": [
    {
     "name": "stdout",
     "output_type": "stream",
     "text": [
      "0.05505108833312988\n"
     ]
    },
    {
     "name": "stderr",
     "output_type": "stream",
     "text": [
      "/tmp/ipykernel_3160379/560160664.py:41: FutureWarning: The class named 'problem' will soon be deprecated in CyIpopt. Please replace all uses and use 'Problem' going forward.\n",
      "  nlp = ipopt.problem(n=num_var,\n"
     ]
    },
    {
     "data": {
      "text/plain": [
       "-39.84763820806611"
      ]
     },
     "execution_count": 68,
     "metadata": {},
     "output_type": "execute_result"
    }
   ],
   "source": [
    "G_remaining = G_np[active_ineq]\n",
    "H_remaining = H_np[active_ineq]\n",
    "h_remaining = h_np[active_ineq]\n",
    "\n",
    "nlp_r = build_ipopt(Q_np, p_np, A_np, X_np[idx], H_remaining, G_remaining, h_remaining, L_np, U_np, y0 = np.array([0.5]*num_var))\n",
    "start_time = time.time()\n",
    "# y_r, info_r = nlp_r.solve(np.array([0.5]*num_var))\n",
    "y_r, info_r = nlp_r.solve(y)\n",
    "print(time.time() - start_time)\n",
    "info_r['obj_val']"
   ]
  },
  {
   "cell_type": "code",
   "execution_count": 69,
   "metadata": {},
   "outputs": [
    {
     "name": "stdout",
     "output_type": "stream",
     "text": [
      "[15 24]\n",
      "[44]\n"
     ]
    }
   ],
   "source": [
    "L_r = -np.infty * np.ones(num_var)\n",
    "U_r = np.infty * np.ones(num_var)\n",
    "active_L = np.where(np.abs(L_np - y) < 1e-4)[0]\n",
    "active_U = np.where(np.abs(U_np - y) < 1e-4)[0]\n",
    "L_r[active_L] = L_np[active_L]\n",
    "U_r[active_U] = U_np[active_U]\n",
    "print(active_L)\n",
    "print(active_U)"
   ]
  },
  {
   "cell_type": "code",
   "execution_count": 70,
   "metadata": {},
   "outputs": [
    {
     "name": "stdout",
     "output_type": "stream",
     "text": [
      "0.0449979305267334\n"
     ]
    },
    {
     "name": "stderr",
     "output_type": "stream",
     "text": [
      "/tmp/ipykernel_3160379/560160664.py:41: FutureWarning: The class named 'problem' will soon be deprecated in CyIpopt. Please replace all uses and use 'Problem' going forward.\n",
      "  nlp = ipopt.problem(n=num_var,\n"
     ]
    },
    {
     "data": {
      "text/plain": [
       "-39.82636601613135"
      ]
     },
     "execution_count": 70,
     "metadata": {},
     "output_type": "execute_result"
    }
   ],
   "source": [
    "nlp_r = build_ipopt(Q_np, p_np, A_np, X_np[0], H_remaining, G_remaining, h_remaining, L_r, U_r, y0 = np.array([0.5]*num_var))\n",
    "start_time = time.time()\n",
    "# y_r, info_r = nlp_r.solve(np.array([0.5]*num_var))\n",
    "y_r, info_r = nlp_r.solve(y)\n",
    "print(time.time() - start_time)\n",
    "info_r['obj_val']"
   ]
  },
  {
   "cell_type": "code",
   "execution_count": 78,
   "metadata": {},
   "outputs": [
    {
     "name": "stdout",
     "output_type": "stream",
     "text": [
      "Inference time:  0.00042366981506347656\n"
     ]
    },
    {
     "name": "stderr",
     "output_type": "stream",
     "text": [
      "/tmp/ipykernel_3160379/339485510.py:1: UserWarning: To copy construct from a tensor, it is recommended to use sourceTensor.clone().detach() or sourceTensor.clone().detach().requires_grad_(True), rather than torch.tensor(sourceTensor).\n",
      "  x_input = torch.tensor(data.X[idx]).unsqueeze(0)\n"
     ]
    }
   ],
   "source": [
    "x_input = torch.tensor(data.X[idx]).unsqueeze(0)\n",
    "start_time = time.time()\n",
    "Yhat = model(x_input)\n",
    "Ystar = data.projection(x_input, Yhat)\n",
    "end_time = time.time()\n",
    "inference_time = end_time - start_time\n",
    "print(\"Inference time: \", inference_time)\n",
    "# Ystar = Ystar.detach().numpy().flatten()\n",
    "# ineq_sorted_index = np.argsort(-G_np@Ystar + h_np)\n",
    "# ineq_sorted = np.sort(-G_np@Ystar + h_np)\n",
    "# print(ineq_sorted)\n",
    "# print(ineq_sorted_index)\n",
    "# inactive_ineq_index = ineq_sorted_index[ineq_sorted > 333]\n",
    "# print(inactive_ineq_index)"
   ]
  },
  {
   "cell_type": "code",
   "execution_count": 79,
   "metadata": {},
   "outputs": [
    {
     "name": "stderr",
     "output_type": "stream",
     "text": [
      "/tmp/ipykernel_3160379/552142522.py:4: UserWarning: The use of `x.T` on tensors of dimension other than 2 to reverse their shape is deprecated and it will throw an error in a future release. Consider `x.mT` to transpose batches of matrices or `x.permute(*torch.arange(x.ndim - 1, -1, -1))` to reverse the dimensions of a tensor. (Triggered internally at /opt/conda/conda-bld/pytorch_1682343997789/work/aten/src/ATen/native/TensorShape.cpp:3571.)\n",
      "  res.append((0.5 * y.T @ data.H[i] @ y + data.G[i].T @ y - data.h[i]).detach().numpy())\n"
     ]
    },
    {
     "ename": "TypeError",
     "evalue": "can't convert cuda:0 device type tensor to numpy. Use Tensor.cpu() to copy the tensor to host memory first.",
     "output_type": "error",
     "traceback": [
      "\u001b[0;31m---------------------------------------------------------------------------\u001b[0m",
      "\u001b[0;31mTypeError\u001b[0m                                 Traceback (most recent call last)",
      "Cell \u001b[0;32mIn[79], line 4\u001b[0m\n\u001b[1;32m      2\u001b[0m res \u001b[38;5;241m=\u001b[39m []\n\u001b[1;32m      3\u001b[0m \u001b[38;5;28;01mfor\u001b[39;00m i \u001b[38;5;129;01min\u001b[39;00m \u001b[38;5;28mrange\u001b[39m(num_ineq):\n\u001b[0;32m----> 4\u001b[0m     res\u001b[38;5;241m.\u001b[39mappend(\u001b[43m(\u001b[49m\u001b[38;5;241;43m0.5\u001b[39;49m\u001b[43m \u001b[49m\u001b[38;5;241;43m*\u001b[39;49m\u001b[43m \u001b[49m\u001b[43my\u001b[49m\u001b[38;5;241;43m.\u001b[39;49m\u001b[43mT\u001b[49m\u001b[43m \u001b[49m\u001b[38;5;241;43m@\u001b[39;49m\u001b[43m \u001b[49m\u001b[43mdata\u001b[49m\u001b[38;5;241;43m.\u001b[39;49m\u001b[43mH\u001b[49m\u001b[43m[\u001b[49m\u001b[43mi\u001b[49m\u001b[43m]\u001b[49m\u001b[43m \u001b[49m\u001b[38;5;241;43m@\u001b[39;49m\u001b[43m \u001b[49m\u001b[43my\u001b[49m\u001b[43m \u001b[49m\u001b[38;5;241;43m+\u001b[39;49m\u001b[43m \u001b[49m\u001b[43mdata\u001b[49m\u001b[38;5;241;43m.\u001b[39;49m\u001b[43mG\u001b[49m\u001b[43m[\u001b[49m\u001b[43mi\u001b[49m\u001b[43m]\u001b[49m\u001b[38;5;241;43m.\u001b[39;49m\u001b[43mT\u001b[49m\u001b[43m \u001b[49m\u001b[38;5;241;43m@\u001b[39;49m\u001b[43m \u001b[49m\u001b[43my\u001b[49m\u001b[43m \u001b[49m\u001b[38;5;241;43m-\u001b[39;49m\u001b[43m \u001b[49m\u001b[43mdata\u001b[49m\u001b[38;5;241;43m.\u001b[39;49m\u001b[43mh\u001b[49m\u001b[43m[\u001b[49m\u001b[43mi\u001b[49m\u001b[43m]\u001b[49m\u001b[43m)\u001b[49m\u001b[38;5;241;43m.\u001b[39;49m\u001b[43mdetach\u001b[49m\u001b[43m(\u001b[49m\u001b[43m)\u001b[49m\u001b[38;5;241;43m.\u001b[39;49m\u001b[43mnumpy\u001b[49m\u001b[43m(\u001b[49m\u001b[43m)\u001b[49m)\n\u001b[1;32m      5\u001b[0m res \u001b[38;5;241m=\u001b[39m np\u001b[38;5;241m.\u001b[39marray(res)\n\u001b[1;32m      6\u001b[0m res\n",
      "\u001b[0;31mTypeError\u001b[0m: can't convert cuda:0 device type tensor to numpy. Use Tensor.cpu() to copy the tensor to host memory first."
     ]
    }
   ],
   "source": [
    "y = Ystar.squeeze(0)\n",
    "res = []\n",
    "for i in range(num_ineq):\n",
    "    res.append((0.5 * y.T @ data.H[i] @ y + data.G[i].T @ y - data.h[i]).detach().numpy())\n",
    "res = np.array(res)\n",
    "res"
   ]
  },
  {
   "cell_type": "code",
   "execution_count": 22,
   "metadata": {},
   "outputs": [
    {
     "name": "stderr",
     "output_type": "stream",
     "text": [
      "/tmp/ipykernel_3078455/124799448.py:1: UserWarning: To copy construct from a tensor, it is recommended to use sourceTensor.clone().detach() or sourceTensor.clone().detach().requires_grad_(True), rather than torch.tensor(sourceTensor).\n",
      "  q = torch.matmul(torch.tensor(data.H), Ystar.T).permute(2, 0, 1)\n",
      "/tmp/ipykernel_3078455/124799448.py:3: UserWarning: To copy construct from a tensor, it is recommended to use sourceTensor.clone().detach() or sourceTensor.clone().detach().requires_grad_(True), rather than torch.tensor(sourceTensor).\n",
      "  res = 0.5 * q + torch.matmul(Ystar, torch.tensor(data.G).T) - torch.tensor(data.h)\n"
     ]
    },
    {
     "data": {
      "text/plain": [
       "tensor([[ -6.0679,  -4.1733,  -0.2182,  -0.1012, -23.3111,  -0.6816,  -0.0509,\n",
       "         -14.9890, -10.1695, -13.6509,  -0.1196,  -0.0728, -15.2542, -11.0072,\n",
       "          -0.6862,  -0.1827,  -0.0970,  -6.1271,  -0.0838,  -0.2114,  -7.0946,\n",
       "          -0.4256, -10.4887,  -1.0358,  -0.1518,  -0.0925,  -0.0693,  -0.2060,\n",
       "          -0.2180,  -0.2592, -14.5927,  -0.1097, -13.4422,  -1.9290,  -1.7700,\n",
       "         -11.4653,  -0.2895,  -0.1309,  -9.8097, -22.2818,  -0.0933, -12.9845,\n",
       "          -1.9990,  -0.1097,  -0.1107,  -3.7809, -16.6783,  -4.2474,  -1.9142,\n",
       "         -19.5440]], grad_fn=<SubBackward0>)"
      ]
     },
     "execution_count": 22,
     "metadata": {},
     "output_type": "execute_result"
    }
   ],
   "source": [
    "q = torch.matmul(torch.tensor(data.H), Ystar.T).permute(2, 0, 1)\n",
    "q = (q * Ystar.view(Ystar.shape[0], 1, -1)).sum(-1)\n",
    "res = 0.5 * q + torch.matmul(Ystar, torch.tensor(data.G).T) - torch.tensor(data.h)\n",
    "res"
   ]
  },
  {
   "cell_type": "code",
   "execution_count": 26,
   "metadata": {},
   "outputs": [
    {
     "data": {
      "text/plain": [
       "array([ 0,  1,  4,  7,  8,  9, 12, 13, 17, 20, 22, 30, 32, 35, 38, 39, 41,\n",
       "       45, 46, 47, 49])"
      ]
     },
     "execution_count": 26,
     "metadata": {},
     "output_type": "execute_result"
    }
   ],
   "source": [
    "inactive_ineq = torch.where(res[0] < -3)[0].numpy()\n",
    "inactive_ineq"
   ]
  },
  {
   "cell_type": "code",
   "execution_count": 34,
   "metadata": {},
   "outputs": [
    {
     "name": "stdout",
     "output_type": "stream",
     "text": [
      "0.07234883308410645\n",
      "total time:  0.07410669326782227\n"
     ]
    },
    {
     "name": "stderr",
     "output_type": "stream",
     "text": [
      "/tmp/ipykernel_3078455/560160664.py:41: FutureWarning: The class named 'problem' will soon be deprecated in CyIpopt. Please replace all uses and use 'Problem' going forward.\n",
      "  nlp = ipopt.problem(n=num_var,\n"
     ]
    },
    {
     "data": {
      "text/plain": [
       "-39.8476382080661"
      ]
     },
     "execution_count": 34,
     "metadata": {},
     "output_type": "execute_result"
    }
   ],
   "source": [
    "remianing_ineq = torch.where(res[0] >= -3)[0].numpy()\n",
    "G_remaining = G_np[remianing_ineq]\n",
    "H_remaining = H_np[remianing_ineq]\n",
    "h_remaining = h_np[remianing_ineq]\n",
    "\n",
    "nlp_r = build_ipopt(Q_np, p_np, A_np, X_np[idx], H_remaining, G_remaining, h_remaining, L_np, U_np, y0 = np.array([0.5]*num_var))\n",
    "start_time = time.time()\n",
    "y_r, info_r = nlp_r.solve(np.array([0.05]*num_var))\n",
    "# y_r, info_r = nlp_r.solve(y.detach().numpy())\n",
    "print(time.time() - start_time)\n",
    "print(\"total time: \", time.time() - start_time + inference_time)\n",
    "info_r['obj_val']\n"
   ]
  },
  {
   "cell_type": "code",
   "execution_count": 39,
   "metadata": {},
   "outputs": [
    {
     "name": "stdout",
     "output_type": "stream",
     "text": [
      "9.966799691119022e-09\n",
      "4.998601443872985e-08\n",
      "4.9963584380918746e-08\n"
     ]
    }
   ],
   "source": [
    "y = y_r\n",
    "res = []\n",
    "for i in range(num_ineq):\n",
    "    res.append(0.5 * y.T @ H_np[i] @ y + G_np[i].T @ y - h_np[i])\n",
    "res = np.array(res)\n",
    "print(res.max())\n",
    "print((L_np - y).max())\n",
    "print((y - U_np).max())"
   ]
  },
  {
   "cell_type": "code",
   "execution_count": 35,
   "metadata": {},
   "outputs": [
    {
     "data": {
      "text/plain": [
       "set()"
      ]
     },
     "execution_count": 35,
     "metadata": {},
     "output_type": "execute_result"
    }
   ],
   "source": [
    "set(inactive_ineq).intersection(set(active_ineq))"
   ]
  },
  {
   "cell_type": "code",
   "execution_count": null,
   "metadata": {},
   "outputs": [],
   "source": []
  }
 ],
 "metadata": {
  "kernelspec": {
   "display_name": "scopf",
   "language": "python",
   "name": "python3"
  },
  "language_info": {
   "codemirror_mode": {
    "name": "ipython",
    "version": 3
   },
   "file_extension": ".py",
   "mimetype": "text/x-python",
   "name": "python",
   "nbconvert_exporter": "python",
   "pygments_lexer": "ipython3",
   "version": "3.9.17"
  }
 },
 "nbformat": 4,
 "nbformat_minor": 2
}

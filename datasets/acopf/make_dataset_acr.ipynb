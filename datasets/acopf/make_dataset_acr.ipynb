{
 "cells": [
  {
   "cell_type": "code",
   "execution_count": 1,
   "metadata": {},
   "outputs": [],
   "source": [
    "import julia \n",
    "from julia import Julia\n",
    "jl = Julia(compiled_modules=False)  # Initialize Julia interpreter\n",
    "Julia(runtime=\"/home/jxxiong/julia-1.9.2/bin/julia\")\n",
    "from julia import Base\n",
    "# Now you can call functions from Julia's Base module\n",
    "from julia import Main"
   ]
  },
  {
   "cell_type": "code",
   "execution_count": 1,
   "metadata": {},
   "outputs": [],
   "source": [
    "import numpy as np\n",
    "import gurobipy as gp\n",
    "\n",
    "from gurobipy import Model, GRB, QuadExpr, LinExpr\n",
    "from scipy.sparse import csc_matrix, csr_matrix\n",
    "import pickle"
   ]
  },
  {
   "cell_type": "code",
   "execution_count": 2,
   "metadata": {},
   "outputs": [],
   "source": [
    "# def get_constraints(m):\n",
    "#     ini_ineq_matrix = []\n",
    "#     ini_ineq_rhs = []\n",
    "#     ini_eq_matrix = []\n",
    "#     ini_eq_rhs = []\n",
    "#     a_matrix = m.getA().toarray()\n",
    "\n",
    "#     i = 0\n",
    "#     for constr in m.getConstrs():\n",
    "#         if constr.sense == '<':\n",
    "#             ini_ineq_matrix.append(a_matrix[i,:])\n",
    "#             ini_ineq_rhs.append(constr.RHS)\n",
    "#             i += 1\n",
    "#         elif constr.sense == '>':\n",
    "#             ini_ineq_matrix.append(-a_matrix[i,:])\n",
    "#             ini_ineq_rhs.append(-constr.RHS)\n",
    "#             i += 1\n",
    "#         elif constr.sense == '=':\n",
    "#             ini_eq_matrix.append(a_matrix[i,:])\n",
    "#             ini_eq_rhs.append(constr.RHS)\n",
    "#             i += 1\n",
    "\n",
    "#     ini_ineq_matrix = np.array(ini_ineq_matrix)\n",
    "#     ini_ineq_rhs = np.array(ini_ineq_rhs)\n",
    "#     ini_eq_matrix = np.array(ini_eq_matrix)\n",
    "#     ini_eq_rhs = np.array(ini_eq_rhs)\n",
    "\n",
    "#     return ini_ineq_matrix, ini_ineq_rhs, ini_eq_matrix, ini_eq_rhs\n",
    "\n",
    "# def get_objective(m):\n",
    "#     ini_q_matrix = m.getQ().toarray()\n",
    "#     ini_p_vec = []\n",
    "#     variables = m.getVars()\n",
    "#     for var in variables:\n",
    "#         ini_p_vec.append(var.obj)\n",
    "#     ini_p_vec = np.array(ini_p_vec)\n",
    "\n",
    "#     return ini_q_matrix, ini_p_vec\n",
    "\n",
    "# def get_bound(m):\n",
    "#     variables = m.getVars()\n",
    "#     ini_lb = []\n",
    "#     ini_ub = []\n",
    "#     for var in variables:\n",
    "#         ini_lb.append(var.lb)\n",
    "#         ini_ub.append(var.ub)\n",
    "#     ini_lb = np.array(ini_lb)\n",
    "#     ini_ub = np.array(ini_ub)\n",
    "\n",
    "#     return ini_lb, ini_ub\n",
    "\n",
    "# def perturb_eq_rhs(ini_eq_rhs, num_samples, perturb_rate=perturb_rate):\n",
    "#     eq_rhs_list = []\n",
    "#     for _ in range(num_samples):\n",
    "#         eq_rhs = ini_eq_rhs.copy()\n",
    "#         nonzero_indices = np.nonzero(ini_eq_rhs)\n",
    "#         nonzero_values = ini_eq_rhs[nonzero_indices]\n",
    "#         perturbed_values = nonzero_values * (1 + np.random.uniform(-perturb_rate, perturb_rate, size=nonzero_values.shape))\n",
    "#         eq_rhs[nonzero_indices] = perturbed_values\n",
    "#         eq_rhs_list.append(eq_rhs)\n",
    "#     return np.array(eq_rhs_list)"
   ]
  },
  {
   "cell_type": "code",
   "execution_count": 3,
   "metadata": {},
   "outputs": [
    {
     "name": "stdout",
     "output_type": "stream",
     "text": [
      "Read MPS format model from file /home/jxxiong/A-xjx/DC3/datasets/acopf/model_3.mps\n",
      "Reading time = 0.00 seconds\n",
      ": 7 rows, 24 columns, 19 nonzeros\n"
     ]
    },
    {
     "data": {
      "text/plain": [
       "{'0_vr[2]': 0,\n",
       " '0_vr[3]': 1,\n",
       " '0_vr[1]': 2,\n",
       " '0_vi[2]': 3,\n",
       " '0_vi[3]': 4,\n",
       " '0_vi[1]': 5,\n",
       " '0_pg[2]': 6,\n",
       " '0_pg[3]': 7,\n",
       " '0_pg[1]': 8,\n",
       " '0_qg[2]': 9,\n",
       " '0_qg[3]': 10,\n",
       " '0_qg[1]': 11,\n",
       " '0_p[(2,_3,_2)]': 12,\n",
       " '0_p[(3,_1,_2)]': 13,\n",
       " '0_p[(1,_1,_3)]': 14,\n",
       " '0_p[(2,_2,_3)]': 15,\n",
       " '0_p[(3,_2,_1)]': 16,\n",
       " '0_p[(1,_3,_1)]': 17,\n",
       " '0_q[(2,_3,_2)]': 18,\n",
       " '0_q[(3,_1,_2)]': 19,\n",
       " '0_q[(1,_1,_3)]': 20,\n",
       " '0_q[(2,_2,_3)]': 21,\n",
       " '0_q[(3,_2,_1)]': 22,\n",
       " '0_q[(1,_3,_1)]': 23}"
      ]
     },
     "execution_count": 3,
     "metadata": {},
     "output_type": "execute_result"
    }
   ],
   "source": [
    "m = gp.read('/home/jxxiong/A-xjx/DC3/datasets/acopf/model_3.mps')\n",
    "var_index = {v.VarName: i for i, v in enumerate(m.getVars())}\n",
    "var_index"
   ]
  },
  {
   "cell_type": "code",
   "execution_count": 4,
   "metadata": {},
   "outputs": [
    {
     "data": {
      "text/plain": [
       "((24, 24), (24,))"
      ]
     },
     "execution_count": 4,
     "metadata": {},
     "output_type": "execute_result"
    }
   ],
   "source": [
    "Q = m.getQ().toarray()\n",
    "p = []\n",
    "variables = m.getVars()\n",
    "for var in variables:\n",
    "    p.append(var.obj)\n",
    "p = np.array(p)\n",
    "Q.shape, p.shape"
   ]
  },
  {
   "cell_type": "code",
   "execution_count": 5,
   "metadata": {},
   "outputs": [
    {
     "name": "stdout",
     "output_type": "stream",
     "text": [
      "(24,) (24,)\n",
      "-90.0 0.0\n",
      "0.0 90.0\n"
     ]
    }
   ],
   "source": [
    "Lb = np.array([v.lb for v in m.getVars()])\n",
    "Ub = np.array([v.ub for v in m.getVars()])\n",
    "print(Lb.shape, Ub.shape)\n",
    "print(Lb.min(), Lb.max())\n",
    "print(Ub.min(), Ub.max())"
   ]
  },
  {
   "cell_type": "code",
   "execution_count": 6,
   "metadata": {},
   "outputs": [
    {
     "name": "stdout",
     "output_type": "stream",
     "text": [
      "(7, 24)\n",
      "24\n"
     ]
    }
   ],
   "source": [
    "a_matrix = m.getA().toarray()\n",
    "print(a_matrix.shape)\n",
    "\n",
    "num_var = len(m.getVars())\n",
    "print(num_var)"
   ]
  },
  {
   "cell_type": "code",
   "execution_count": 7,
   "metadata": {},
   "outputs": [
    {
     "name": "stdout",
     "output_type": "stream",
     "text": [
      "7 12 19\n",
      "0 18 18\n"
     ]
    }
   ],
   "source": [
    "eq_lin_constrs = [c for c in m.getConstrs() if c.sense == '='] \n",
    "eq_quad_constrs = [qc for qc in m.getQConstrs() if qc.qcsense == '=']\n",
    "ineq_lin_constrs = [c for c in m.getConstrs() if c.sense != '=']\n",
    "ineq_quad_constrs = [qc for qc in m.getQConstrs() if qc.qcsense != '=']\n",
    "print(len(eq_lin_constrs), len(eq_quad_constrs), len(eq_lin_constrs)+len(eq_quad_constrs))\n",
    "print(len(ineq_lin_constrs), len(ineq_quad_constrs), len(ineq_lin_constrs)+len(ineq_quad_constrs))"
   ]
  },
  {
   "cell_type": "markdown",
   "metadata": {},
   "source": [
    "## get the coefficients for equality linear constraints"
   ]
  },
  {
   "cell_type": "code",
   "execution_count": 8,
   "metadata": {},
   "outputs": [
    {
     "name": "stdout",
     "output_type": "stream",
     "text": [
      "(7, 24) (7,)\n"
     ]
    }
   ],
   "source": [
    "eq_lin_matrix = []\n",
    "eq_lin_rhs = []\n",
    "a_matrix = m.getA().toarray()\n",
    "for i, constr in enumerate(eq_lin_constrs):\n",
    "    if constr.sense == '=':\n",
    "        eq_lin_matrix.append(a_matrix[i,:])\n",
    "        eq_lin_rhs.append(constr.RHS)\n",
    "eq_lin_matrix = np.array(eq_lin_matrix)\n",
    "eq_lin_rhs = np.array(eq_lin_rhs)\n",
    "print(eq_lin_matrix.shape, eq_lin_rhs.shape)"
   ]
  },
  {
   "cell_type": "code",
   "execution_count": 9,
   "metadata": {},
   "outputs": [
    {
     "data": {
      "text/plain": [
       "array([ 0.  , -1.1 , -0.4 , -0.95, -0.5 , -1.1 , -0.4 ])"
      ]
     },
     "execution_count": 9,
     "metadata": {},
     "output_type": "execute_result"
    }
   ],
   "source": [
    "eq_lin_rhs"
   ]
  },
  {
   "cell_type": "markdown",
   "metadata": {},
   "source": [
    "## get the coefficients for equality quadratic constraints\n",
    "\n",
    "$y'Hy + g'y  \\leq h$"
   ]
  },
  {
   "cell_type": "code",
   "execution_count": 10,
   "metadata": {},
   "outputs": [
    {
     "name": "stdout",
     "output_type": "stream",
     "text": [
      "0_p[(2,_3,_2)] + [ 0.08879023307436183 0_vr[2] * 0_vr[3] + -2.6637069922308547 0_vr[2] * 0_vi[3] + -0.08879023307436183 0_vr[3] ^ 2 + 2.6637069922308547 0_vr[3] * 0_vi[2] + 0.08879023307436183 0_vi[2] * 0_vi[3] + -0.08879023307436183 0_vi[3] ^ 2 ]\n",
      "[0, 0, 1, 1, 3, 4]\n",
      "[1, 4, 1, 3, 4, 4]\n",
      "[0.08879023307436183, -2.6637069922308547, -0.08879023307436183, 2.6637069922308547, 0.08879023307436183, -0.08879023307436183]\n",
      "0.0\n",
      "[0. 0. 0. 0. 0. 0. 0. 0. 0. 0. 0. 0. 1. 0. 0. 0. 0. 0. 0. 0. 0. 0. 0. 0.]\n",
      "0_q[(2,_3,_2)] + [ 2.6637069922308547 0_vr[2] * 0_vr[3] + 0.08879023307436183 0_vr[2] * 0_vi[3] + -1.9637069922308548 0_vr[3] ^ 2 + -0.08879023307436183 0_vr[3] * 0_vi[2] + 2.6637069922308547 0_vi[2] * 0_vi[3] + -1.9637069922308548 0_vi[3] ^ 2 ]\n",
      "[0, 0, 1, 1, 3, 4]\n",
      "[1, 4, 1, 3, 4, 4]\n",
      "[2.6637069922308547, 0.08879023307436183, -1.9637069922308548, -0.08879023307436183, 2.6637069922308547, -1.9637069922308548]\n",
      "0.0\n",
      "[0. 0. 0. 0. 0. 0. 0. 0. 0. 0. 0. 0. 0. 0. 0. 0. 0. 0. 1. 0. 0. 0. 0. 0.]\n",
      "0_p[(2,_2,_3)] + [ -0.08879023307436183 0_vr[2] ^ 2 + 0.08879023307436183 0_vr[2] * 0_vr[3] + 2.6637069922308547 0_vr[2] * 0_vi[3] + -2.6637069922308547 0_vr[3] * 0_vi[2] + -0.08879023307436183 0_vi[2] ^ 2 + 0.08879023307436183 0_vi[2] * 0_vi[3] ]\n",
      "[0, 0, 0, 1, 3, 3]\n",
      "[0, 1, 4, 3, 3, 4]\n",
      "[-0.08879023307436183, 0.08879023307436183, 2.6637069922308547, -2.6637069922308547, -0.08879023307436183, 0.08879023307436183]\n",
      "0.0\n",
      "[0. 0. 0. 0. 0. 0. 0. 0. 0. 0. 0. 0. 0. 0. 0. 1. 0. 0. 0. 0. 0. 0. 0. 0.]\n",
      "0_q[(2,_2,_3)] + [ -1.9637069922308548 0_vr[2] ^ 2 + 2.6637069922308547 0_vr[2] * 0_vr[3] + -0.08879023307436183 0_vr[2] * 0_vi[3] + 0.08879023307436183 0_vr[3] * 0_vi[2] + -1.9637069922308548 0_vi[2] ^ 2 + 2.6637069922308547 0_vi[2] * 0_vi[3] ]\n",
      "[0, 0, 0, 1, 3, 3]\n",
      "[0, 1, 4, 3, 3, 4]\n",
      "[-1.9637069922308548, 2.6637069922308547, -0.08879023307436183, 0.08879023307436183, -1.9637069922308548, 2.6637069922308547]\n",
      "0.0\n",
      "[0. 0. 0. 0. 0. 0. 0. 0. 0. 0. 0. 0. 0. 0. 0. 0. 0. 0. 0. 0. 0. 1. 0. 0.]\n",
      "0_p[(3,_1,_2)] + [ 0.10347835085073988 0_vr[2] * 0_vr[1] + -2.2173932325158545 0_vr[2] * 0_vi[1] + -0.10347835085073988 0_vr[1] ^ 2 + 2.2173932325158545 0_vr[1] * 0_vi[2] + 0.10347835085073988 0_vi[2] * 0_vi[1] + -0.10347835085073988 0_vi[1] ^ 2 ]\n",
      "[0, 0, 2, 2, 3, 5]\n",
      "[2, 5, 2, 3, 5, 5]\n",
      "[0.10347835085073988, -2.2173932325158545, -0.10347835085073988, 2.2173932325158545, 0.10347835085073988, -0.10347835085073988]\n",
      "0.0\n",
      "[0. 0. 0. 0. 0. 0. 0. 0. 0. 0. 0. 0. 0. 1. 0. 0. 0. 0. 0. 0. 0. 0. 0. 0.]\n",
      "0_q[(3,_1,_2)] + [ 2.2173932325158545 0_vr[2] * 0_vr[1] + 0.10347835085073988 0_vr[2] * 0_vi[1] + -1.9173932325158545 0_vr[1] ^ 2 + -0.10347835085073988 0_vr[1] * 0_vi[2] + 2.2173932325158545 0_vi[2] * 0_vi[1] + -1.9173932325158545 0_vi[1] ^ 2 ]\n",
      "[0, 0, 2, 2, 3, 5]\n",
      "[2, 5, 2, 3, 5, 5]\n",
      "[2.2173932325158545, 0.10347835085073988, -1.9173932325158545, -0.10347835085073988, 2.2173932325158545, -1.9173932325158545]\n",
      "0.0\n",
      "[0. 0. 0. 0. 0. 0. 0. 0. 0. 0. 0. 0. 0. 0. 0. 0. 0. 0. 0. 1. 0. 0. 0. 0.]\n",
      "0_p[(3,_2,_1)] + [ -0.10347835085073988 0_vr[2] ^ 2 + 0.10347835085073988 0_vr[2] * 0_vr[1] + 2.2173932325158545 0_vr[2] * 0_vi[1] + -2.2173932325158545 0_vr[1] * 0_vi[2] + -0.10347835085073988 0_vi[2] ^ 2 + 0.10347835085073988 0_vi[2] * 0_vi[1] ]\n",
      "[0, 0, 0, 2, 3, 3]\n",
      "[0, 2, 5, 3, 3, 5]\n",
      "[-0.10347835085073988, 0.10347835085073988, 2.2173932325158545, -2.2173932325158545, -0.10347835085073988, 0.10347835085073988]\n",
      "0.0\n",
      "[0. 0. 0. 0. 0. 0. 0. 0. 0. 0. 0. 0. 0. 0. 0. 0. 1. 0. 0. 0. 0. 0. 0. 0.]\n",
      "0_q[(3,_2,_1)] + [ -1.9173932325158545 0_vr[2] ^ 2 + 2.2173932325158545 0_vr[2] * 0_vr[1] + -0.10347835085073988 0_vr[2] * 0_vi[1] + 0.10347835085073988 0_vr[1] * 0_vi[2] + -1.9173932325158545 0_vi[2] ^ 2 + 2.2173932325158545 0_vi[2] * 0_vi[1] ]\n",
      "[0, 0, 0, 2, 3, 3]\n",
      "[0, 2, 5, 3, 3, 5]\n",
      "[-1.9173932325158545, 2.2173932325158545, -0.10347835085073988, 0.10347835085073988, -1.9173932325158545, 2.2173932325158545]\n",
      "0.0\n",
      "[0. 0. 0. 0. 0. 0. 0. 0. 0. 0. 0. 0. 0. 0. 0. 0. 0. 0. 0. 0. 0. 0. 1. 0.]\n",
      "0_p[(1,_1,_3)] + [ 0.33451270504985525 0_vr[3] * 0_vr[1] + -3.190736571244773 0_vr[3] * 0_vi[1] + -0.33451270504985525 0_vr[1] ^ 2 + 3.190736571244773 0_vr[1] * 0_vi[3] + 0.33451270504985525 0_vi[3] * 0_vi[1] + -0.33451270504985525 0_vi[1] ^ 2 ]\n",
      "[1, 1, 2, 2, 4, 5]\n",
      "[2, 5, 2, 4, 5, 5]\n",
      "[0.33451270504985525, -3.190736571244773, -0.33451270504985525, 3.190736571244773, 0.33451270504985525, -0.33451270504985525]\n",
      "0.0\n",
      "[0. 0. 0. 0. 0. 0. 0. 0. 0. 0. 0. 0. 0. 0. 1. 0. 0. 0. 0. 0. 0. 0. 0. 0.]\n",
      "0_q[(1,_1,_3)] + [ 3.190736571244773 0_vr[3] * 0_vr[1] + 0.33451270504985525 0_vr[3] * 0_vi[1] + -2.740736571244773 0_vr[1] ^ 2 + -0.33451270504985525 0_vr[1] * 0_vi[3] + 3.190736571244773 0_vi[3] * 0_vi[1] + -2.740736571244773 0_vi[1] ^ 2 ]\n",
      "[1, 1, 2, 2, 4, 5]\n",
      "[2, 5, 2, 4, 5, 5]\n",
      "[3.190736571244773, 0.33451270504985525, -2.740736571244773, -0.33451270504985525, 3.190736571244773, -2.740736571244773]\n",
      "0.0\n",
      "[0. 0. 0. 0. 0. 0. 0. 0. 0. 0. 0. 0. 0. 0. 0. 0. 0. 0. 0. 0. 1. 0. 0. 0.]\n",
      "0_p[(1,_3,_1)] + [ -0.33451270504985525 0_vr[3] ^ 2 + 0.33451270504985525 0_vr[3] * 0_vr[1] + 3.190736571244773 0_vr[3] * 0_vi[1] + -3.190736571244773 0_vr[1] * 0_vi[3] + -0.33451270504985525 0_vi[3] ^ 2 + 0.33451270504985525 0_vi[3] * 0_vi[1] ]\n",
      "[1, 1, 1, 2, 4, 4]\n",
      "[1, 2, 5, 4, 4, 5]\n",
      "[-0.33451270504985525, 0.33451270504985525, 3.190736571244773, -3.190736571244773, -0.33451270504985525, 0.33451270504985525]\n",
      "0.0\n",
      "[0. 0. 0. 0. 0. 0. 0. 0. 0. 0. 0. 0. 0. 0. 0. 0. 0. 1. 0. 0. 0. 0. 0. 0.]\n",
      "0_q[(1,_3,_1)] + [ -2.740736571244773 0_vr[3] ^ 2 + 3.190736571244773 0_vr[3] * 0_vr[1] + -0.33451270504985525 0_vr[3] * 0_vi[1] + 0.33451270504985525 0_vr[1] * 0_vi[3] + -2.740736571244773 0_vi[3] ^ 2 + 3.190736571244773 0_vi[3] * 0_vi[1] ]\n",
      "[1, 1, 1, 2, 4, 4]\n",
      "[1, 2, 5, 4, 4, 5]\n",
      "[-2.740736571244773, 3.190736571244773, -0.33451270504985525, 0.33451270504985525, -2.740736571244773, 3.190736571244773]\n",
      "0.0\n",
      "[0. 0. 0. 0. 0. 0. 0. 0. 0. 0. 0. 0. 0. 0. 0. 0. 0. 0. 0. 0. 0. 0. 0. 1.]\n"
     ]
    }
   ],
   "source": [
    "eq_quad_H = []\n",
    "eq_quad_g = []\n",
    "eq_quad_h = []\n",
    "\n",
    "for qc in eq_quad_constrs:\n",
    "    H_row = []\n",
    "    H_col = []\n",
    "    H_data = []\n",
    "    \n",
    "    g_tmp = np.zeros(num_var)\n",
    "    if qc.qcsense == '=':\n",
    "        expr = m.getQCRow(qc)\n",
    "        print(expr)\n",
    "        # Quadratic terms\n",
    "        for i in range(expr.size()):\n",
    "            var1 = expr.getVar1(i)\n",
    "            var2 = expr.getVar2(i)\n",
    "            coeff = expr.getCoeff(i)\n",
    "            idx1 = var_index[var1.VarName]\n",
    "            idx2 = var_index[var2.VarName]\n",
    "            H_row.append(idx1)\n",
    "            H_col.append(idx2)\n",
    "            H_data.append(coeff)\n",
    "        print(H_row)\n",
    "        print(H_col)\n",
    "        print(H_data)\n",
    "        # Linear part of the quadratic constraint\n",
    "        lin_expr = expr.getLinExpr()\n",
    "        eq_quad_h.append(qc.getAttr('qcrhs'))\n",
    "        for j in range(lin_expr.size()):\n",
    "            var = lin_expr.getVar(j)\n",
    "            coeff = lin_expr.getCoeff(j)\n",
    "            g_tmp[var_index[var.VarName]] = coeff\n",
    "        print(qc.getAttr('qcrhs'))\n",
    "        print(g_tmp)\n",
    "\n",
    "        H_tmp = csc_matrix((np.array(H_data), (np.array(H_row), np.array(H_col))), shape=(num_var, num_var))\n",
    "        eq_quad_H.append(H_tmp)\n",
    "        eq_quad_g.append(g_tmp)\n",
    "\n",
    "eq_quad_H = np.array(eq_quad_H)\n",
    "eq_quad_g = np.array(eq_quad_g)\n",
    "eq_quad_h = np.array(eq_quad_h)"
   ]
  },
  {
   "cell_type": "code",
   "execution_count": 11,
   "metadata": {},
   "outputs": [],
   "source": [
    "import cyipopt as ipopt\n",
    "\n",
    "class nonconvex_ipopt(object):\n",
    "    def __init__(self, Q, p, A, eq_H, eq_g, ineq_H=None, ineq_g=None):\n",
    "        self.Q = Q\n",
    "        self.p = p\n",
    "        self.A = A\n",
    "        self.eq_H = eq_H\n",
    "        self.eq_g = eq_g\n",
    "        self.ineq_H = ineq_H\n",
    "        self.ineq_g = ineq_g\n",
    "        # self.tril_indices = np.tril_indices(Q.shape[0])\n",
    "\n",
    "    def objective(self, y):\n",
    "        return (y.T @ self.Q @ y) + self.p.T@y\n",
    "\n",
    "    def gradient(self, y):\n",
    "        return 2*self.Q@y + self.p\n",
    "\n",
    "    def constraints(self, y):\n",
    "        constr = [self.A@y]\n",
    "        for i in range(len(self.eq_H)):\n",
    "            # print(self.H[i].shape)\n",
    "            constr.append(y.T @ self.eq_H[i] @ y + self.eq_g[i].T@y)\n",
    "        if self.ineq_H is not None:\n",
    "            for i in range(len(self.ineq_H)):\n",
    "                constr.append(y.T @ self.ineq_H[i] @ y + self.ineq_g[i].T@y)\n",
    "        return np.hstack(constr)\n",
    "\n",
    "    def jacobian(self, y):\n",
    "        jac = [self.A.flatten()]\n",
    "        for i in range(len(self.eq_H)):\n",
    "            jac.append((2*self.eq_H[i]@y + self.eq_g[i]).flatten())\n",
    "        \n",
    "        if self.ineq_H is not None:\n",
    "            for i in range(len(self.ineq_H)):\n",
    "                jac.append((2*self.ineq_H[i]@y + self.ineq_g[i]).flatten())\n",
    "        return np.concatenate(jac)\n",
    "\n",
    "\n",
    "def build_ipopt(Q, p, A, Xi, eq_H, eq_g, eq_h, ineq_H=None, ineq_g=None, ineq_h=None, lb=None, ub=None, y0=None, solver_type='ipopt', tol=1e-4):\n",
    "    num_var = A.shape[1]\n",
    "    # upper and lower bounds on variables\n",
    "    if lb is None:\n",
    "        lb = -np.infty * np.ones(num_var)\n",
    "    if ub is None:\n",
    "        ub = np.infty * np.ones(num_var)\n",
    "\n",
    "    # upper and lower bounds on constraints\n",
    "    cl = [Xi, eq_h]\n",
    "    cu = [Xi, eq_h]\n",
    "    \n",
    "    if ineq_h is not None:\n",
    "        cl.append(-np.infty * np.ones(len(ineq_h)))\n",
    "        cu.append(ineq_h)\n",
    "    \n",
    "    cl = np.hstack(cl)\n",
    "    cu = np.hstack(cu)\n",
    "\n",
    "    nlp = ipopt.problem(n=num_var,\n",
    "                        m=len(cl),\n",
    "                        problem_obj=nonconvex_ipopt(Q, p, A, eq_H, eq_g, ineq_H, ineq_g),\n",
    "                        lb=lb,\n",
    "                        ub=ub,\n",
    "                        cl=cl,\n",
    "                        cu=cu)\n",
    "\n",
    "    nlp.add_option('tol', tol)\n",
    "    nlp.add_option('print_level', 0) # 3)\n",
    "\n",
    "    # start_time = time.time()\n",
    "    # y, info = nlp.solve(y0)\n",
    "    # end_time = time.time()\n",
    "    return nlp"
   ]
  },
  {
   "cell_type": "code",
   "execution_count": 12,
   "metadata": {},
   "outputs": [
    {
     "name": "stderr",
     "output_type": "stream",
     "text": [
      "/tmp/ipykernel_2971757/678030480.py:60: FutureWarning: The class named 'problem' will soon be deprecated in CyIpopt. Please replace all uses and use 'Problem' going forward.\n",
      "  nlp = ipopt.problem(n=num_var,\n"
     ]
    }
   ],
   "source": [
    "m_ipopt = build_ipopt(Q, p, eq_lin_matrix, eq_lin_rhs, eq_quad_H, eq_quad_g, eq_quad_h, lb=Lb, ub=Ub)"
   ]
  },
  {
   "cell_type": "code",
   "execution_count": 13,
   "metadata": {},
   "outputs": [
    {
     "name": "stdout",
     "output_type": "stream",
     "text": [
      "\n",
      "******************************************************************************\n",
      "This program contains Ipopt, a library for large-scale nonlinear optimization.\n",
      " Ipopt is released as open source code under the Eclipse Public License (EPL).\n",
      "         For more information visit https://github.com/coin-or/Ipopt\n",
      "******************************************************************************\n",
      "\n",
      "0.04996943473815918\n",
      "3041.4999991935365\n"
     ]
    }
   ],
   "source": [
    "import time\n",
    "start_time = time.time()\n",
    "y, info = m_ipopt.solve(np.zeros(num_var))\n",
    "print(time.time() - start_time)\n",
    "print(info['obj_val'])"
   ]
  },
  {
   "cell_type": "markdown",
   "metadata": {},
   "source": [
    "## get coefficient for inequality quad constraints"
   ]
  },
  {
   "cell_type": "code",
   "execution_count": 14,
   "metadata": {},
   "outputs": [],
   "source": [
    "ineq_quad_H = []\n",
    "ineq_quad_g = []\n",
    "ineq_quad_h = []\n",
    "\n",
    "for qc in ineq_quad_constrs:\n",
    "    H_row = []\n",
    "    H_col = []\n",
    "    H_data = []\n",
    "    \n",
    "    g_tmp = np.zeros(num_var)\n",
    "    if qc.qcsense == '<':\n",
    "        expr = m.getQCRow(qc)\n",
    "        # print(expr)\n",
    "        # Quadratic terms\n",
    "        for i in range(expr.size()):\n",
    "            var1 = expr.getVar1(i)\n",
    "            var2 = expr.getVar2(i)\n",
    "            coeff = expr.getCoeff(i)\n",
    "            idx1 = var_index[var1.VarName]\n",
    "            idx2 = var_index[var2.VarName]\n",
    "            H_row.append(idx1)\n",
    "            H_col.append(idx2)\n",
    "            H_data.append(coeff)\n",
    "\n",
    "        # Linear part of the quadratic constraint\n",
    "        lin_expr = expr.getLinExpr()\n",
    "        ineq_quad_h.append(qc.getAttr('qcrhs'))\n",
    "        for j in range(lin_expr.size()):\n",
    "            var = lin_expr.getVar(j)\n",
    "            coeff = lin_expr.getCoeff(j)\n",
    "            # G[var_index[var.VarName]] += coeff\n",
    "            g_tmp[var_index[var.VarName]] = coeff\n",
    "\n",
    "        H_tmp = csc_matrix((np.array(H_data), (np.array(H_row), np.array(H_col))), shape=(num_var, num_var))\n",
    "        ineq_quad_H.append(H_tmp)\n",
    "        ineq_quad_g.append(g_tmp)\n",
    "    elif qc.qcsense == '>':\n",
    "        expr = m.getQCRow(qc)\n",
    "        # print(expr)\n",
    "        # Quadratic terms\n",
    "        for i in range(expr.size()):\n",
    "            var1 = expr.getVar1(i)\n",
    "            var2 = expr.getVar2(i)\n",
    "            coeff = expr.getCoeff(i)\n",
    "            idx1 = var_index[var1.VarName]\n",
    "            idx2 = var_index[var2.VarName]\n",
    "            H_row.append(idx1)\n",
    "            H_col.append(idx2)\n",
    "            H_data.append(-coeff)\n",
    "        # Linear part of the quadratic constraint\n",
    "        lin_expr = expr.getLinExpr()\n",
    "        ineq_quad_h.append(-qc.getAttr('qcrhs'))\n",
    "        for j in range(lin_expr.size()):\n",
    "            var = lin_expr.getVar(j)\n",
    "            coeff = lin_expr.getCoeff(j)\n",
    "            g_tmp[var_index[var.VarName]] = -coeff\n",
    "\n",
    "        H_tmp = csc_matrix((np.array(H_data), (np.array(H_row), np.array(H_col))), shape=(num_var, num_var))\n",
    "        ineq_quad_H.append(H_tmp)\n",
    "        ineq_quad_g.append(g_tmp)\n",
    "        \n",
    "ineq_quad_H = np.array(ineq_quad_H)\n",
    "ineq_quad_g = np.array(ineq_quad_g)\n",
    "ineq_quad_h = np.array(ineq_quad_h)"
   ]
  },
  {
   "cell_type": "code",
   "execution_count": 15,
   "metadata": {},
   "outputs": [
    {
     "data": {
      "text/plain": [
       "array([-8.10e-01, -8.10e-01, -8.10e-01,  0.00e+00,  2.50e-01,  2.50e-01,\n",
       "        0.00e+00,  8.10e+03,  8.10e+03,  0.00e+00,  8.10e+03,  8.10e+03,\n",
       "        1.21e+00,  1.21e+00,  1.21e+00, -0.00e+00, -0.00e+00, -0.00e+00])"
      ]
     },
     "execution_count": 15,
     "metadata": {},
     "output_type": "execute_result"
    }
   ],
   "source": [
    "ineq_quad_h"
   ]
  },
  {
   "cell_type": "code",
   "execution_count": 17,
   "metadata": {},
   "outputs": [
    {
     "name": "stdout",
     "output_type": "stream",
     "text": [
      "0.047315120697021484\n",
      "3041.5000000000036\n"
     ]
    },
    {
     "name": "stderr",
     "output_type": "stream",
     "text": [
      "/tmp/ipykernel_2971757/678030480.py:60: FutureWarning: The class named 'problem' will soon be deprecated in CyIpopt. Please replace all uses and use 'Problem' going forward.\n",
      "  nlp = ipopt.problem(n=num_var,\n"
     ]
    }
   ],
   "source": [
    "m_ipopt_full = build_ipopt(Q, p, eq_lin_matrix, eq_lin_rhs, eq_quad_H, eq_quad_g, eq_quad_h, ineq_quad_H, ineq_quad_g, ineq_quad_h, Lb, Ub)\n",
    "start_time = time.time()\n",
    "y, info = m_ipopt_full.solve(np.zeros(num_var))\n",
    "print(time.time() - start_time)\n",
    "print(info['obj_val'])"
   ]
  },
  {
   "cell_type": "code",
   "execution_count": 28,
   "metadata": {},
   "outputs": [
    {
     "name": "stderr",
     "output_type": "stream",
     "text": [
      "/tmp/ipykernel_2971409/738468994.py:21: DeprecationWarning: Deprecated, pass a TempConstr or use Model.addLConstr\n",
      "  model.addConstr(expr, GRB.EQUAL, eq_lin_rhs[i])\n"
     ]
    }
   ],
   "source": [
    "model = Model('qcqp1')\n",
    "\n",
    "# Create variables\n",
    "x = model.addVars(num_var, lb=Lb, ub=Ub, name='x')\n",
    "\n",
    "# Set objective\n",
    "obj = QuadExpr()\n",
    "for i in range(num_var):\n",
    "    for j in range(num_var):\n",
    "        obj.add(x[i]*Q[i,j]*x[j])\n",
    "\n",
    "for i in range(num_var):\n",
    "    obj.add(p[i]*x[i])\n",
    "model.setObjective(obj)\n",
    "\n",
    "# Add linear constraints\n",
    "for i in range(len(eq_lin_matrix)):\n",
    "    expr = LinExpr()\n",
    "    for j in range(num_var):\n",
    "        expr.add(x[j], eq_lin_matrix[i,j])\n",
    "    model.addConstr(expr, GRB.EQUAL, eq_lin_rhs[i])\n",
    "\n",
    "# Add quadratic constraints\n",
    "for i in range(len(eq_quad_H)):\n",
    "    expr = QuadExpr()\n",
    "    for j in range(num_var):\n",
    "        for k in range(num_var):\n",
    "            expr.add(x[j]*eq_quad_H[i][j,k]*x[k])\n",
    "    for j in range(num_var):\n",
    "        expr.add(x[j]*eq_quad_g[i][j])\n",
    "    expr.add(-eq_quad_h[i])\n",
    "    model.addQConstr(expr, GRB.EQUAL, 0)\n",
    "\n",
    "for i in range(len(ineq_quad_H)):\n",
    "    expr = QuadExpr()\n",
    "    for j in range(num_var):\n",
    "        for k in range(num_var):\n",
    "            expr.add(x[j]*ineq_quad_H[i][j,k]*x[k])\n",
    "    for j in range(num_var):\n",
    "        expr.add(x[j]*ineq_quad_g[i][j])\n",
    "    expr.add(-ineq_quad_h[i])\n",
    "    model.addQConstr(expr, GRB.LESS_EQUAL, 0)"
   ]
  },
  {
   "cell_type": "code",
   "execution_count": 35,
   "metadata": {},
   "outputs": [
    {
     "name": "stdout",
     "output_type": "stream",
     "text": [
      "Read MPS format model from file /home/jxxiong/A-xjx/DC3/datasets/acopf/model_3.mps\n",
      "Reading time = 0.00 seconds\n",
      ": 7 rows, 24 columns, 19 nonzeros\n",
      "Gurobi Optimizer version 11.0.0 build v11.0.0rc2 (linux64 - \"Ubuntu 22.04.2 LTS\")\n",
      "\n",
      "CPU model: 12th Gen Intel(R) Core(TM) i9-12900K, instruction set [SSE2|AVX|AVX2]\n",
      "Thread count: 24 physical cores, 24 logical processors, using up to 24 threads\n",
      "\n",
      "Optimize a model with 7 rows, 24 columns and 19 nonzeros\n",
      "Model fingerprint: 0xbef4af69\n",
      "Model has 2 quadratic objective terms\n",
      "Model has 12 quadratic constraints\n",
      "Coefficient statistics:\n",
      "  Matrix range     [1e+00, 1e+00]\n",
      "  QMatrix range    [9e-02, 3e+00]\n",
      "  QLMatrix range   [1e+00, 1e+00]\n",
      "  Objective range  [1e+02, 5e+02]\n",
      "  QObjective range [2e+03, 2e+03]\n",
      "  Bounds range     [5e-01, 9e+01]\n",
      "  RHS range        [4e-01, 1e+00]\n",
      "Presolve removed 1 rows and 2 columns\n",
      "\n",
      "Continuous model is non-convex -- solving as a MIP\n",
      "\n",
      "Presolve removed 2 rows and 5 columns\n",
      "Presolve time: 0.00s\n",
      "Presolved: 84 rows, 36 columns, 261 nonzeros\n",
      "Presolved model has 2 quadratic objective terms\n",
      "Presolved model has 17 bilinear constraint(s)\n",
      "Variable types: 36 continuous, 0 integer (0 binary)\n",
      "\n",
      "Root relaxation: objective 2.597267e+03, 66 iterations, 0.00 seconds (0.00 work units)\n",
      "\n",
      "    Nodes    |    Current Node    |     Objective Bounds      |     Work\n",
      " Expl Unexpl |  Obj  Depth IntInf | Incumbent    BestBd   Gap | It/Node Time\n",
      "\n",
      "     0     0 2597.26691    0   17          - 2597.26691      -     -    0s\n",
      "     0     0 5529.29403    0   17          - 5529.29403      -     -    0s\n",
      "     0     0 5529.29403    0   17          - 5529.29403      -     -    0s\n",
      "     0     0 5548.18024    0   17          - 5548.18024      -     -    0s\n",
      "     0     0 5552.27901    0   17          - 5552.27901      -     -    0s\n",
      "     0     0 5573.63480    0   17          - 5573.63480      -     -    0s\n",
      "     0     0 5574.11238    0   17          - 5574.11238      -     -    0s\n",
      "     0     0 5598.95845    0   17          - 5598.95845      -     -    0s\n",
      "     0     0 5599.03955    0   17          - 5599.03955      -     -    0s\n",
      "     0     0 5631.40017    0   17          - 5631.40017      -     -    0s\n",
      "     0     0 5632.88585    0   17          - 5632.88585      -     -    0s\n",
      "     0     0 5643.66518    0   17          - 5643.66518      -     -    0s\n",
      "     0     0 5645.87064    0   17          - 5645.87064      -     -    0s\n",
      "     0     0 5652.08024    0   17          - 5652.08024      -     -    0s\n",
      "     0     0 5652.87669    0   17          - 5652.87669      -     -    0s\n",
      "     0     0 5666.64544    0   17          - 5666.64544      -     -    0s\n",
      "     0     0 5666.71899    0   17          - 5666.71899      -     -    0s\n",
      "     0     0 5666.80515    0   17          - 5666.80515      -     -    0s\n",
      "     0     0 5669.16124    0   17          - 5669.16124      -     -    0s\n",
      "H    0     0                    5722.6923825 5669.16124  0.94%     -    0s\n",
      "     0     2 5669.16124    0   17 5722.69238 5669.16124  0.94%     -    0s\n",
      "*  541    23              21    5722.6910271 5715.91513  0.12%  11.6    0s\n",
      "*  765    95              29    5722.6909286 5720.54615  0.04%   9.3    0s\n",
      "*  851   114              27    5722.6909152 5720.54615  0.04%   8.5    0s\n",
      "*  866   114              34    5722.6908150 5720.54615  0.04%   8.4    0s\n",
      "* 1116    93              33    5722.6906032 5722.17335  0.01%   6.8    0s\n",
      "* 1186    93              33    5722.6905961 5722.17335  0.01%   6.5    0s\n",
      "\n",
      "Cutting planes:\n",
      "  PSD: 33\n",
      "\n",
      "Explored 1289 nodes (8074 simplex iterations) in 0.09 seconds (0.04 work units)\n",
      "Thread count was 24 (of 24 available processors)\n",
      "\n",
      "Solution count 7: 5722.69 5722.69 5722.69 ... 5722.69\n",
      "\n",
      "Optimal solution found (tolerance 1.00e-04)\n",
      "Warning: max constraint violation (4.5709e-06) exceeds tolerance\n",
      "Best objective 5.722690596053e+03, best bound 5.722173349432e+03, gap 0.0090%\n"
     ]
    }
   ],
   "source": [
    "m = gp.read('/home/jxxiong/A-xjx/DC3/datasets/acopf/model_3.mps')\n",
    "for c in m.getConstrs():\n",
    "    if c.Sense != '=':\n",
    "        m.remove(c)\n",
    "\n",
    "for qc in m.getQConstrs():\n",
    "    if qc.qcsense != '=':\n",
    "        m.remove(qc)\n",
    "\n",
    "m.optimize()"
   ]
  },
  {
   "cell_type": "markdown",
   "metadata": {},
   "source": [
    "# check"
   ]
  },
  {
   "cell_type": "code",
   "execution_count": 80,
   "metadata": {},
   "outputs": [
    {
     "data": {
      "text/plain": [
       "{'x': 0, 'y': 1}"
      ]
     },
     "execution_count": 80,
     "metadata": {},
     "output_type": "execute_result"
    }
   ],
   "source": [
    "model = gp.Model(\"my_model\")\n",
    "\n",
    "# Create variables\n",
    "x = model.addVar(name=\"x\")\n",
    "y = model.addVar(name=\"y\")\n",
    "model.update()\n",
    "\n",
    "# Dictionary to map variable names to indices\n",
    "var_index = {v.VarName: i for i, v in enumerate(model.getVars())}\n",
    "var_index"
   ]
  },
  {
   "cell_type": "code",
   "execution_count": 85,
   "metadata": {},
   "outputs": [
    {
     "name": "stdout",
     "output_type": "stream",
     "text": [
      "Gurobi Optimizer version 11.0.0 build v11.0.0rc2 (linux64 - \"Ubuntu 22.04.2 LTS\")\n",
      "\n",
      "CPU model: 12th Gen Intel(R) Core(TM) i9-12900K, instruction set [SSE2|AVX|AVX2]\n",
      "Thread count: 24 physical cores, 24 logical processors, using up to 24 threads\n",
      "\n",
      "Optimize a model with 1 rows, 2 columns and 2 nonzeros\n",
      "Model fingerprint: 0xe16390d1\n",
      "Model has 2 quadratic constraints\n",
      "Coefficient statistics:\n",
      "  Matrix range     [2e+00, 3e+00]\n",
      "  QMatrix range    [5e-01, 4e+00]\n",
      "  QLMatrix range   [2e+00, 3e+00]\n",
      "  Objective range  [0e+00, 0e+00]\n",
      "  Bounds range     [0e+00, 0e+00]\n",
      "  RHS range        [7e+00, 7e+00]\n",
      "  QRHS range       [9e+00, 9e+00]\n",
      "\n",
      "Continuous model is non-convex -- solving as a MIP\n",
      "\n",
      "Presolve time: 0.00s\n",
      "Presolved: 6 rows, 7 columns, 16 nonzeros\n",
      "Presolved model has 3 quadratic constraint(s)\n",
      "Presolved model has 1 bilinear constraint(s)\n",
      "Variable types: 7 continuous, 0 integer (0 binary)\n",
      "Found heuristic solution: objective 0.0000000\n",
      "\n",
      "Explored 0 nodes (0 simplex iterations) in 0.00 seconds (0.00 work units)\n",
      "Thread count was 24 (of 24 available processors)\n",
      "\n",
      "Solution count 1: 0 \n",
      "\n",
      "Optimal solution found (tolerance 1.00e-04)\n",
      "Best objective 0.000000000000e+00, best bound 0.000000000000e+00, gap 0.0000%\n",
      "Matrix A:\n",
      " [[2. 3.]]\n",
      "Vector b:\n",
      " [7.]\n",
      "Matrix H:\n",
      " [[1.5 6. ]\n",
      " [6.  2. ]]\n",
      "Vector G:\n",
      " [ 4. -6.]\n",
      "Scalar h:\n",
      " 0.0\n"
     ]
    }
   ],
   "source": [
    "import gurobipy as gp\n",
    "import numpy as np\n",
    "\n",
    "# Create a new model\n",
    "model = gp.Model(\"my_model\")\n",
    "\n",
    "# Create variables\n",
    "x = model.addVar(name=\"x\")\n",
    "y = model.addVar(name=\"y\")\n",
    "model.update()\n",
    "\n",
    "# Dictionary to map variable names to indices\n",
    "var_index = {v.VarName: i for i, v in enumerate(model.getVars())}\n",
    "\n",
    "# Add linear constraint\n",
    "model.addConstr(2*x + 3*y == 7, name=\"linear_constr\")\n",
    "\n",
    "# Add quadratic constraint\n",
    "model.addQConstr(x*x + 4*x*y + y*y + 2*x - 3*y <= 9, name=\"quad_constr\")\n",
    "model.addQConstr(0.5 * x*x + 2*x*y + y*y + 2*x - 3*y <= 9, name=\"quad_constr\")\n",
    "\n",
    "# Optimize the model\n",
    "model.optimize()\n",
    "\n",
    "# Initialize matrices for constraints\n",
    "num_vars = model.numVars\n",
    "A = np.zeros((model.numConstrs, num_vars))\n",
    "b = np.zeros(model.numConstrs)\n",
    "H = np.zeros((num_vars, num_vars))\n",
    "G = np.zeros(num_vars)\n",
    "h = 0\n",
    "\n",
    "# Collect linear constraints\n",
    "for i, constr in enumerate(model.getConstrs()):\n",
    "    expr = model.getRow(constr)\n",
    "    b[i] = constr.RHS\n",
    "    for j in range(expr.size()):\n",
    "        var = expr.getVar(j)\n",
    "        coeff = expr.getCoeff(j)\n",
    "        A[i, var_index[var.VarName]] = coeff\n",
    "\n",
    "print(\"Matrix A:\\n\", A)\n",
    "print(\"Vector b:\\n\", b)\n",
    "\n",
    "# Collect quadratic constraints\n",
    "for qc in model.getQConstrs():\n",
    "    expr = model.getQCRow(qc)\n",
    "    # Quadratic terms\n",
    "    for i in range(expr.size()):\n",
    "        var1 = expr.getVar1(i)\n",
    "        var2 = expr.getVar2(i)\n",
    "        coeff = expr.getCoeff(i)\n",
    "        idx1 = var_index[var1.VarName]\n",
    "        idx2 = var_index[var2.VarName]\n",
    "        H[idx1, idx2] += coeff\n",
    "        if idx1 != idx2:\n",
    "            H[idx2, idx1] += coeff  # Ensure symmetry\n",
    "\n",
    "    # Linear part of the quadratic constraint\n",
    "    lin_expr = expr.getLinExpr()\n",
    "    h -= lin_expr.getConstant()\n",
    "    for j in range(lin_expr.size()):\n",
    "        var = lin_expr.getVar(j)\n",
    "        coeff = lin_expr.getCoeff(j)\n",
    "        G[var_index[var.VarName]] += coeff\n",
    "\n",
    "print(\"Matrix H:\\n\", H)\n",
    "print(\"Vector G:\\n\", G)\n",
    "print(\"Scalar h:\\n\", h)\n"
   ]
  },
  {
   "cell_type": "code",
   "execution_count": 62,
   "metadata": {},
   "outputs": [],
   "source": [
    "qc = model.getQConstrs()[0]\n",
    "expr = model.getQCRow(qc)"
   ]
  },
  {
   "cell_type": "code",
   "execution_count": 84,
   "metadata": {},
   "outputs": [
    {
     "data": {
      "text/plain": [
       "<gurobi.LinExpr: 2.0 x + 3.0 y>"
      ]
     },
     "execution_count": 84,
     "metadata": {},
     "output_type": "execute_result"
    }
   ],
   "source": [
    "expr = model.getRow(constr)\n",
    "expr"
   ]
  },
  {
   "cell_type": "code",
   "execution_count": 68,
   "metadata": {},
   "outputs": [
    {
     "data": {
      "text/plain": [
       "(<gurobi.Var x (value 0.6242366733407322)>,\n",
       " <gurobi.Var x (value 0.6242366733407322)>,\n",
       " 1.0)"
      ]
     },
     "execution_count": 68,
     "metadata": {},
     "output_type": "execute_result"
    }
   ],
   "source": [
    "expr.getVar1(0), expr.getVar2(0), expr.getCoeff(0)"
   ]
  },
  {
   "cell_type": "code",
   "execution_count": 69,
   "metadata": {},
   "outputs": [
    {
     "data": {
      "text/plain": [
       "(<gurobi.Var x (value 0.6242366733407322)>,\n",
       " <gurobi.Var y (value 1.9171755511061788)>,\n",
       " 4.0)"
      ]
     },
     "execution_count": 69,
     "metadata": {},
     "output_type": "execute_result"
    }
   ],
   "source": [
    "expr.getVar1(1), expr.getVar2(1), expr.getCoeff(1)"
   ]
  },
  {
   "cell_type": "code",
   "execution_count": 70,
   "metadata": {},
   "outputs": [
    {
     "data": {
      "text/plain": [
       "(<gurobi.Var y (value 1.9171755511061788)>,\n",
       " <gurobi.Var y (value 1.9171755511061788)>,\n",
       " 1.0)"
      ]
     },
     "execution_count": 70,
     "metadata": {},
     "output_type": "execute_result"
    }
   ],
   "source": [
    "expr.getVar1(2), expr.getVar2(2), expr.getCoeff(2)"
   ]
  },
  {
   "cell_type": "code",
   "execution_count": 73,
   "metadata": {},
   "outputs": [
    {
     "data": {
      "text/plain": [
       "0.0"
      ]
     },
     "execution_count": 73,
     "metadata": {},
     "output_type": "execute_result"
    }
   ],
   "source": [
    "lin_expr = expr.getLinExpr()\n",
    "lin_expr.getConstant()"
   ]
  },
  {
   "cell_type": "code",
   "execution_count": 40,
   "metadata": {},
   "outputs": [
    {
     "ename": "IndexError",
     "evalue": "list index out of range",
     "output_type": "error",
     "traceback": [
      "\u001b[0;31m---------------------------------------------------------------------------\u001b[0m",
      "\u001b[0;31mIndexError\u001b[0m                                Traceback (most recent call last)",
      "Cell \u001b[0;32mIn[40], line 2\u001b[0m\n\u001b[1;32m      1\u001b[0m expr\u001b[38;5;241m.\u001b[39mgetCoeff(\u001b[38;5;241m0\u001b[39m)\n\u001b[0;32m----> 2\u001b[0m \u001b[43mexpr\u001b[49m\u001b[38;5;241;43m.\u001b[39;49m\u001b[43mgetCoeff\u001b[49m\u001b[43m(\u001b[49m\u001b[38;5;241;43m3\u001b[39;49m\u001b[43m)\u001b[49m\n",
      "File \u001b[0;32msrc/gurobipy/quadexpr.pxi:354\u001b[0m, in \u001b[0;36mgurobipy.QuadExpr.getCoeff\u001b[0;34m()\u001b[0m\n",
      "\u001b[0;31mIndexError\u001b[0m: list index out of range"
     ]
    }
   ],
   "source": [
    "expr.getCoeff(0)\n",
    "expr.getCoeff(3)"
   ]
  },
  {
   "cell_type": "code",
   "execution_count": 36,
   "metadata": {},
   "outputs": [
    {
     "data": {
      "text/plain": [
       "<gurobi.QuadExpr: 2.0 x + -3.0 y + [ x ^ 2 + 4.0 x * y + y ^ 2 ]>"
      ]
     },
     "execution_count": 36,
     "metadata": {},
     "output_type": "execute_result"
    }
   ],
   "source": [
    "expr"
   ]
  },
  {
   "cell_type": "code",
   "execution_count": 60,
   "metadata": {},
   "outputs": [
    {
     "name": "stdout",
     "output_type": "stream",
     "text": [
      "<gurobi.Var y (value 1.9171755511061788)>\n"
     ]
    }
   ],
   "source": []
  },
  {
   "cell_type": "code",
   "execution_count": null,
   "metadata": {},
   "outputs": [],
   "source": [
    "import torch\n",
    "from torch.autograd import Function\n",
    "import numpy as np\n",
    "import cvxpy as cp\n",
    "\n",
    "class QCQPLayer(Function):\n",
    "    @staticmethod\n",
    "    def forward(ctx, z, Q, A, b, c, d):\n",
    "        # Convert torch tensors to numpy for cvxpy compatibility\n",
    "        z_np = z.detach().numpy()\n",
    "        Q_np = Q.detach().numpy()\n",
    "        A_np = A.detach().numpy()\n",
    "        b_np = b.detach().numpy()\n",
    "        c_np = c.detach().numpy()\n",
    "\n",
    "        # Define cvxpy problem\n",
    "        z_var = cp.Variable(len(z_np))\n",
    "        objective = cp.Minimize(0.5 * cp.quad_form(z_var, Q_np) + c_np.T @ z_var)\n",
    "        constraints = [0.5 * cp.quad_form(z_var, A_np) + b_np.T @ z_var + d == 0]\n",
    "        prob = cp.Problem(objective, constraints)\n",
    "        prob.solve()\n",
    "\n",
    "        z_star = np.array(z_var.value).flatten()\n",
    "        ctx.save_for_backward(z, Q, A, b, c, torch.tensor(z_star))\n",
    "\n",
    "        return torch.tensor(z_star, dtype=torch.float32)\n",
    "\n",
    "    @staticmethod\n",
    "    def backward(ctx, grad_output):\n",
    "        z, Q, A, b, c, z_star = ctx.saved_tensors\n",
    "        # Sizes\n",
    "        n = z.size(0)\n",
    "\n",
    "        # Convert grad_output to numpy\n",
    "        grad_output_np = grad_output.detach().numpy()\n",
    "\n",
    "        # Define dual variables\n",
    "        lambda_var = cp.Variable(1)\n",
    "\n",
    "        # Differentiate KKT conditions w.r.t. z\n",
    "        dz_dz = cp.Parameter(n, nonneg=True)\n",
    "\n",
    "        # Stationarity condition from KKT\n",
    "        stationarity = Q @ z_star + A.T @ lambda_var + c\n",
    "\n",
    "        # Differentiating the stationarity and primal feasibility conditions\n",
    "        stationarity_diff = cp.diff(stationarity, z_star)\n",
    "        primal_feasibility_diff = cp.diff(A @ z_star + b, z_star)\n",
    "\n",
    "        # Solve for gradients\n",
    "        # Combine equations and solve as a linear system\n",
    "        matrix = np.vstack([\n",
    "            np.hstack([stationarity_diff, A.T]),\n",
    "            np.hstack([A, np.zeros((1, 1))])\n",
    "        ])\n",
    "        vector = -np.hstack([stationarity.detach().numpy(), (A @ z_star + b).detach().numpy()])\n",
    "        solutions = np.linalg.solve(matrix, vector)\n",
    "\n",
    "        dz_star_dz = solutions[:n]\n",
    "        dlambda_dz = solutions[n:]\n",
    "\n",
    "        # Apply chain rule\n",
    "        grad_input = dz_star_dz.T @ grad_output_np\n",
    "\n",
    "        return torch.tensor(grad_input, dtype=torch.float32), None, None, None, None, None\n",
    "\n",
    "# Example usage\n",
    "Q = torch.tensor([[2.0, 0.0], [0.0, 2.0]], requires_grad=False)\n",
    "A = torch.tensor([[1.0, 1.0]], requires_grad=False)\n",
    "b = torch.tensor([-1.0], requires_grad=False)\n",
    "c = torch.tensor([0.0, 0.0], requires_grad=False)\n",
    "d = -0.5\n",
    "\n",
    "z = torch.tensor([0.1, -0.2], requires_grad=True)\n",
    "z_star = QCQPLayer.apply(z, Q, A, b, c, d)\n",
    "\n",
    "loss = (z_star ** 2).sum()  # Dummy loss for demonstration\n",
    "loss.backward()\n",
    "print(\"z.grad:\", z.grad)\n"
   ]
  },
  {
   "cell_type": "code",
   "execution_count": 4,
   "metadata": {},
   "outputs": [],
   "source": [
    "ReaderFactory('mps')"
   ]
  },
  {
   "cell_type": "code",
   "execution_count": null,
   "metadata": {},
   "outputs": [],
   "source": []
  }
 ],
 "metadata": {
  "kernelspec": {
   "display_name": "scopf",
   "language": "python",
   "name": "python3"
  },
  "language_info": {
   "codemirror_mode": {
    "name": "ipython",
    "version": 3
   },
   "file_extension": ".py",
   "mimetype": "text/x-python",
   "name": "python",
   "nbconvert_exporter": "python",
   "pygments_lexer": "ipython3",
   "version": "3.9.17"
  }
 },
 "nbformat": 4,
 "nbformat_minor": 2
}

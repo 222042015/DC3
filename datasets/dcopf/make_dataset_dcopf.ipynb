{
 "cells": [
  {
   "cell_type": "code",
   "execution_count": 2,
   "metadata": {},
   "outputs": [],
   "source": [
    "import julia \n",
    "from julia import Julia\n",
    "jl = Julia(compiled_modules=False)  # Initialize Julia interpreter\n",
    "Julia(runtime=\"/home/jxxiong/julia-1.9.2/bin/julia\")\n",
    "from julia import Base\n",
    "# Now you can call functions from Julia's Base module\n",
    "from julia import Main"
   ]
  },
  {
   "cell_type": "code",
   "execution_count": 2,
   "metadata": {},
   "outputs": [],
   "source": [
    "import numpy as np\n",
    "import gurobipy as gp\n",
    "\n",
    "from gurobipy import Model, GRB, QuadExpr, LinExpr\n",
    "from scipy.sparse import csc_matrix\n",
    "import pickle"
   ]
  },
  {
   "cell_type": "code",
   "execution_count": 3,
   "metadata": {},
   "outputs": [],
   "source": [
    "case_dict = {200: \"pglib_opf_case200_activ.m\",\n",
    "             2000: \"pglib_opf_case2000_goc.m\",\n",
    "             10000: \"pglib_opf_case10000_goc.m\"}"
   ]
  },
  {
   "cell_type": "code",
   "execution_count": 1,
   "metadata": {},
   "outputs": [
    {
     "ename": "NameError",
     "evalue": "name 'case_dcit' is not defined",
     "output_type": "error",
     "traceback": [
      "\u001b[0;31m---------------------------------------------------------------------------\u001b[0m",
      "\u001b[0;31mNameError\u001b[0m                                 Traceback (most recent call last)",
      "Cell \u001b[0;32mIn[1], line 2\u001b[0m\n\u001b[1;32m      1\u001b[0m nbus \u001b[38;5;241m=\u001b[39m \u001b[38;5;241m2000\u001b[39m\n\u001b[0;32m----> 2\u001b[0m case_name \u001b[38;5;241m=\u001b[39m \u001b[43mcase_dcit\u001b[49m[nbus]\n\u001b[1;32m      3\u001b[0m Main\u001b[38;5;241m.\u001b[39mcase_name \u001b[38;5;241m=\u001b[39m case_name\n\u001b[1;32m      4\u001b[0m Main\u001b[38;5;241m.\u001b[39mnbus \u001b[38;5;241m=\u001b[39m nbus\n",
      "\u001b[0;31mNameError\u001b[0m: name 'case_dcit' is not defined"
     ]
    }
   ],
   "source": [
    "nbus = 2000\n",
    "case_name = case_dict[nbus]\n",
    "Main.case_name = case_name\n",
    "Main.nbus = nbus\n",
    "\n",
    "n_samples = 10000\n",
    "perturb_rate = 0.3"
   ]
  },
  {
   "cell_type": "code",
   "execution_count": 5,
   "metadata": {},
   "outputs": [
    {
     "name": "stdout",
     "output_type": "stream",
     "text": [
      "[info | PowerModels]: removing 1 cost terms from generator 41: [1872.0, 0.0]\n",
      "[info | PowerModels]: removing 1 cost terms from generator 65: [3000.0, 0.0]\n",
      "[info | PowerModels]: removing 1 cost terms from generator 335: [3000.0, 0.0]\n",
      "[info | PowerModels]: removing 1 cost terms from generator 326: [2662.0, 0.0]\n",
      "[info | PowerModels]: removing 1 cost terms from generator 299: [3000.0, 0.0]\n",
      "[info | PowerModels]: removing 1 cost terms from generator 168: [3000.0, 0.0]\n",
      "[info | PowerModels]: removing 1 cost terms from generator 159: [3000.0, 0.0]\n",
      "[info | PowerModels]: removing 1 cost terms from generator 332: [3000.0, 0.0]\n",
      "[info | PowerModels]: removing 1 cost terms from generator 190: [2713.0, -6.071]\n",
      "[info | PowerModels]: removing 1 cost terms from generator 223: [2852.0, -18.4]\n",
      "[info | PowerModels]: removing 1 cost terms from generator 88: [3000.0, 0.0]\n",
      "[info | PowerModels]: removing 1 cost terms from generator 297: [2534.0, 0.0]\n",
      "[info | PowerModels]: removing 1 cost terms from generator 26: [3000.0, 0.0]\n",
      "[info | PowerModels]: removing 1 cost terms from generator 289: [3404.9999999999995, -26.49]\n",
      "[info | PowerModels]: removing 1 cost terms from generator 77: [3000.0, 0.0]\n",
      "[info | PowerModels]: removing 1 cost terms from generator 24: [3000.0, 0.0]\n",
      "[info | PowerModels]: removing 1 cost terms from generator 258: [2948.0, 0.0]\n",
      "[info | PowerModels]: removing 1 cost terms from generator 328: [3000.0, 0.0]\n",
      "[info | PowerModels]: removing 1 cost terms from generator 23: [3000.0, 0.0]\n",
      "[info | PowerModels]: removing 1 cost terms from generator 359: [3000.0, 0.0]\n",
      "[info | PowerModels]: removing 1 cost terms from generator 59: [3000.0, 0.0]\n",
      "[info | PowerModels]: removing 1 cost terms from generator 184: [2498.0, 0.0]\n",
      "[info | PowerModels]: removing 1 cost terms from generator 122: [2795.0, 0.0]\n",
      "[info | PowerModels]: removing 1 cost terms from generator 253: [2653.0, 0.0]\n",
      "[info | PowerModels]: removing 1 cost terms from generator 302: [2746.0, 0.0]\n",
      "[info | PowerModels]: removing 3 cost terms from generator 175: Float64[]\n",
      "[info | PowerModels]: removing 1 cost terms from generator 39: [1759.0, -15.85]\n",
      "[info | PowerModels]: removing 1 cost terms from generator 137: [2464.0, 0.0]\n",
      "[info | PowerModels]: removing 1 cost terms from generator 55: [3000.0, 0.0]\n",
      "[info | PowerModels]: removing 3 cost terms from generator 323: Float64[]\n",
      "[info | PowerModels]: removing 3 cost terms from generator 172: Float64[]\n",
      "[info | PowerModels]: removing 1 cost terms from generator 333: [3000.0, 0.0]\n",
      "[info | PowerModels]: removing 1 cost terms from generator 12: [1455.0, 0.0]\n",
      "[info | PowerModels]: removing 1 cost terms from generator 350: [2714.0, -14.2]\n",
      "[info | PowerModels]: removing 1 cost terms from generator 252: [2839.0, -12.29]\n",
      "[info | PowerModels]: removing 1 cost terms from generator 357: [3000.0, 0.0]\n",
      "[info | PowerModels]: removing 1 cost terms from generator 341: [2856.0, -9.464]\n",
      "[info | PowerModels]: removing 1 cost terms from generator 14: [1679.0, 0.0]\n",
      "[info | PowerModels]: removing 1 cost terms from generator 167: [3000.0, 0.0]\n",
      "[info | PowerModels]: removing 1 cost terms from generator 123: [2481.0, -9.402]\n",
      "[info | PowerModels]: removing 1 cost terms from generator 254: [2701.0, -11.7]\n",
      "[info | PowerModels]: removing 1 cost terms from generator 257: [2489.0, -16.72]\n",
      "[info | PowerModels]: removing 1 cost terms from generator 179: [2533.0, -12.06]\n",
      "[info | PowerModels]: removing 1 cost terms from generator 316: [2498.0, 0.0]\n",
      "[info | PowerModels]: removing 1 cost terms from generator 21: [3000.0, 0.0]\n",
      "[info | PowerModels]: removing 1 cost terms from generator 263: [2786.0, -5.433]\n",
      "[info | PowerModels]: removing 1 cost terms from generator 244: [2669.0, -33.49]\n",
      "[info | PowerModels]: removing 1 cost terms from generator 295: [2455.0, 0.0]\n",
      "[info | PowerModels]: removing 1 cost terms from generator 139: [2882.0, 0.0]\n",
      "[info | PowerModels]: removing 1 cost terms from generator 181: [2470.0, 0.0]\n",
      "[info | PowerModels]: removing 1 cost terms from generator 105: [2764.0, 0.0]\n",
      "[info | PowerModels]: removing 1 cost terms from generator 309: [2629.0, 0.0]\n",
      "[info | PowerModels]: removing 1 cost terms from generator 81: [2477.0, 0.0]\n",
      "[info | PowerModels]: removing 1 cost terms from generator 296: [2752.0, 0.0]\n",
      "[info | PowerModels]: removing 1 cost terms from generator 27: [3000.0, 0.0]\n",
      "[info | PowerModels]: removing 1 cost terms from generator 75: [3000.0, 0.0]\n",
      "[info | PowerModels]: removing 1 cost terms from generator 63: [3000.0, 0.0]\n",
      "[info | PowerModels]: removing 1 cost terms from generator 92: [3000.0, 0.0]\n",
      "[info | PowerModels]: removing 1 cost terms from generator 208: [2461.0, 0.0]\n",
      "[info | PowerModels]: removing 1 cost terms from generator 224: [2562.0, -3.884]\n",
      "[info | PowerModels]: removing 1 cost terms from generator 87: [2849.0, -40.2]\n",
      "[info | PowerModels]: removing 1 cost terms from generator 255: [2797.0, -25.12]\n",
      "[info | PowerModels]: removing 1 cost terms from generator 89: [3000.0, 0.0]\n",
      "[info | PowerModels]: removing 1 cost terms from generator 182: [2663.0, 0.0]\n",
      "[info | PowerModels]: removing 1 cost terms from generator 225: [2331.0, -3.982]\n",
      "[info | PowerModels]: removing 1 cost terms from generator 286: [3000.0, 0.0]\n",
      "[info | PowerModels]: removing 1 cost terms from generator 346: [2819.0, 0.0]\n",
      "[info | PowerModels]: removing 1 cost terms from generator 142: [2269.0, 0.0]\n",
      "[info | PowerModels]: removing 1 cost terms from generator 219: [3000.0, 0.0]\n",
      "[info | PowerModels]: removing 1 cost terms from generator 256: [2832.0, -24.59]\n",
      "[info | PowerModels]: removing 1 cost terms from generator 80: [3000.0, 0.0]\n",
      "[info | PowerModels]: removing 1 cost terms from generator 308: [3191.0, -47.91]\n",
      "[info | PowerModels]: removing 1 cost terms from generator 360: [3000.0, 0.0]\n",
      "[info | PowerModels]: removing 3 cost terms from generator 322: Float64[]\n",
      "[info | PowerModels]: removing 1 cost terms from generator 269: [2670.0, -10.14]\n",
      "[info | PowerModels]: removing 1 cost terms from generator 157: [3000.0, 0.0]\n",
      "[info | PowerModels]: removing 1 cost terms from generator 57: [3000.0, 0.0]\n",
      "[info | PowerModels]: removing 1 cost terms from generator 165: [3000.0, 0.0]\n",
      "[info | PowerModels]: removing 1 cost terms from generator 384: [2801.0, -27.44]\n",
      "[info | PowerModels]: removing 1 cost terms from generator 327: [2883.0, -3.836]\n",
      "[info | PowerModels]: removing 3 cost terms from generator 173: Float64[]\n",
      "[info | PowerModels]: removing 1 cost terms from generator 284: [3000.0, 0.0]\n",
      "[info | PowerModels]: removing 1 cost terms from generator 171: [2959.0, -53.36]\n",
      "[info | PowerModels]: removing 1 cost terms from generator 233: [2387.0, 0.0]\n",
      "[info | PowerModels]: removing 1 cost terms from generator 345: [2611.0, -8.847]\n",
      "[info | PowerModels]: removing 1 cost terms from generator 319: [2441.0, 0.0]\n",
      "[info | PowerModels]: removing 1 cost terms from generator 312: [2685.0, 0.0]\n",
      "[info | PowerModels]: removing 1 cost terms from generator 15: [1721.0, 0.0]\n",
      "[info | PowerModels]: removing 1 cost terms from generator 61: [3000.0, 0.0]\n",
      "[info | PowerModels]: removing 1 cost terms from generator 247: [2760.0, 0.0]\n",
      "[info | PowerModels]: removing 1 cost terms from generator 100: [2367.0, 0.0]\n",
      "[info | PowerModels]: removing 1 cost terms from generator 344: [2708.0, 0.0]\n",
      "[info | PowerModels]: removing 1 cost terms from generator 170: [2891.0, -49.18]\n",
      "[info | PowerModels]: removing 1 cost terms from generator 151: [3000.0, 0.0]\n",
      "[info | PowerModels]: removing 1 cost terms from generator 56: [3000.0, 0.0]\n",
      "[info | PowerModels]: removing 1 cost terms from generator 76: [3000.0, 0.0]\n",
      "[info | PowerModels]: removing 3 cost terms from generator 186: Float64[]\n",
      "[info | PowerModels]: removing 1 cost terms from generator 342: [2868.0, 0.0]\n",
      "[info | PowerModels]: removing 1 cost terms from generator 180: [2566.0, -4.68]\n",
      "[info | PowerModels]: removing 1 cost terms from generator 262: [2411.0, 0.0]\n",
      "[info | PowerModels]: removing 1 cost terms from generator 320: [2707.0, 0.0]\n",
      "[info | PowerModels]: removing 1 cost terms from generator 334: [3000.0, 0.0]\n",
      "[info | PowerModels]: removing 1 cost terms from generator 183: [2719.0, -6.785]\n",
      "[info | PowerModels]: removing 1 cost terms from generator 155: [3000.0, 0.0]\n",
      "[info | PowerModels]: removing 1 cost terms from generator 141: [2939.0, -33.23]\n",
      "[info | PowerModels]: removing 1 cost terms from generator 287: [3000.0, 0.0]\n",
      "[info | PowerModels]: removing 1 cost terms from generator 93: [3000.0, 0.0]\n",
      "[info | PowerModels]: removing 1 cost terms from generator 278: [3672.0, -18.64]\n",
      "[info | PowerModels]: removing 1 cost terms from generator 10: [1739.0, 0.0]\n",
      "[info | PowerModels]: removing 1 cost terms from generator 340: [2741.0, -6.762]\n",
      "[info | PowerModels]: removing 1 cost terms from generator 154: [3000.0, 0.0]\n",
      "[info | PowerModels]: removing 1 cost terms from generator 321: [2572.0, 0.0]\n",
      "[info | PowerModels]: removing 1 cost terms from generator 358: [3000.0, 0.0]\n",
      "[info | PowerModels]: removing 1 cost terms from generator 62: [3000.0, 0.0]\n",
      "[info | PowerModels]: removing 1 cost terms from generator 90: [3000.0, 0.0]\n",
      "[info | PowerModels]: removing 1 cost terms from generator 234: [2675.0, -11.63]\n",
      "[info | PowerModels]: removing 1 cost terms from generator 311: [2560.0, 0.0]\n",
      "[info | PowerModels]: removing 1 cost terms from generator 315: [2737.0, 0.0]\n",
      "[info | PowerModels]: removing 1 cost terms from generator 298: [3000.0, 0.0]\n",
      "[info | PowerModels]: removing 1 cost terms from generator 164: [3000.0, 0.0]\n",
      "[info | PowerModels]: removing 1 cost terms from generator 86: [2749.0, -54.62]\n",
      "[info | PowerModels]: removing 1 cost terms from generator 152: [3000.0, 0.0]\n",
      "[info | PowerModels]: removing 1 cost terms from generator 37: [1795.0, 0.0]\n",
      "[info | PowerModels]: removing 1 cost terms from generator 226: [3013.0, 0.0]\n",
      "[info | PowerModels]: removing 1 cost terms from generator 245: [2909.0, -39.45]\n",
      "[info | PowerModels]: removing 1 cost terms from generator 268: [2422.0, 0.0]\n",
      "[info | PowerModels]: removing 1 cost terms from generator 272: [2549.0, 0.0]\n",
      "[info | PowerModels]: removing 3 cost terms from generator 174: Float64[]\n",
      "[info | PowerModels]: removing 3 cost terms from generator 187: Float64[]\n",
      "[info | PowerModels]: removing 1 cost terms from generator 7: [1700.0, -1.619]\n",
      "[info | PowerModels]: removing 1 cost terms from generator 140: [2822.0, -20.92]\n",
      "[info | PowerModels]: removing 1 cost terms from generator 337: [2616.0, 0.0]\n",
      "[info | PowerModels]: removing 1 cost terms from generator 69: [1585.0, 0.0]\n",
      "[info | PowerModels]: removing 1 cost terms from generator 354: [3000.0, 0.0]\n",
      "[info | PowerModels]: removing 1 cost terms from generator 282: [3000.0, 0.0]\n",
      "[info | PowerModels]: removing 1 cost terms from generator 221: [3000.0, 0.0]\n",
      "[info | PowerModels]: removing 1 cost terms from generator 235: [2723.0, 0.0]\n",
      "[info | PowerModels]: removing 1 cost terms from generator 210: [3000.0, 0.0]\n",
      "[info | PowerModels]: removing 1 cost terms from generator 13: [1417.0, 0.0]\n",
      "[info | PowerModels]: removing 1 cost terms from generator 329: [3000.0, 0.0]\n",
      "[info | PowerModels]: removing 1 cost terms from generator 283: [3000.0, 0.0]\n",
      "[info | PowerModels]: removing 1 cost terms from generator 246: [2802.0, 0.0]\n",
      "[info | PowerModels]: removing 1 cost terms from generator 38: [1570.0, -13.46]\n",
      "[info | PowerModels]: removing 1 cost terms from generator 375: [3092.0, -35.49]\n",
      "[info | PowerModels]: removing 1 cost terms from generator 188: [3000.0, 0.0]\n",
      "[info | PowerModels]: removing 1 cost terms from generator 307: [2620.0, 0.0]\n",
      "[info | PowerModels]: removing 1 cost terms from generator 66: [3000.0, 0.0]\n",
      "[info | PowerModels]: removing 1 cost terms from generator 78: [3000.0, 0.0]\n",
      "[info | PowerModels]: removing 1 cost terms from generator 42: [1560.0, -12.39]\n",
      "[info | PowerModels]: removing 1 cost terms from generator 28: [3000.0, 0.0]\n",
      "[info | PowerModels]: removing 1 cost terms from generator 347: [2964.0, -9.633]\n",
      "[info | PowerModels]: removing 1 cost terms from generator 290: [3774.0, -32.88]\n",
      "[info | PowerModels]: removing 1 cost terms from generator 115: [2459.0, 0.0]\n",
      "[info | PowerModels]: removing 1 cost terms from generator 314: [2669.0, 0.0]\n",
      "[info | PowerModels]: removing 1 cost terms from generator 351: [2826.0, -14.61]\n",
      "[info | PowerModels]: removing 1 cost terms from generator 163: [3000.0, 0.0]\n",
      "[info | PowerModels]: removing 1 cost terms from generator 339: [3179.0, -42.12]\n",
      "[info | PowerModels]: removing 1 cost terms from generator 281: [3000.0, 0.0]\n",
      "[info | PowerModels]: removing 1 cost terms from generator 58: [3000.0, 0.0]\n",
      "[info | PowerModels]: removing 1 cost terms from generator 25: [3000.0, 0.0]\n",
      "[info | PowerModels]: removing 1 cost terms from generator 374: [3038.0, -40.86]\n",
      "[info | PowerModels]: removing 1 cost terms from generator 166: [3000.0, 0.0]\n",
      "[info | PowerModels]: removing 1 cost terms from generator 279: [3000.0, 0.0]\n",
      "[info | PowerModels]: removing 1 cost terms from generator 280: [3000.0, 0.0]\n",
      "[info | PowerModels]: removing 1 cost terms from generator 313: [2832.0, 0.0]\n",
      "[info | PowerModels]: removing 1 cost terms from generator 169: [2839.0, -33.64]\n",
      "[info | PowerModels]: removing 1 cost terms from generator 189: [2429.0, -3.684]\n",
      "[info | PowerModels]: removing 1 cost terms from generator 150: [3000.0, 0.0]\n",
      "[info | PowerModels]: removing 1 cost terms from generator 259: [3053.0, -27.32]\n",
      "[info | PowerModels]: removing 1 cost terms from generator 352: [2817.0, -9.208]\n",
      "[info | PowerModels]: removing 1 cost terms from generator 288: [3000.0, 0.0]\n",
      "[info | PowerModels]: removing 1 cost terms from generator 99: [2642.0, 0.0]\n",
      "[info | PowerModels]: removing 1 cost terms from generator 207: [2584.0, -6.588]\n",
      "[info | PowerModels]: removing 1 cost terms from generator 330: [3000.0, 0.0]\n",
      "[info | PowerModels]: removing 1 cost terms from generator 82: [2389.0, 0.0]\n",
      "[info | PowerModels]: removing 1 cost terms from generator 285: [3000.0, 0.0]\n",
      "[info | PowerModels]: removing 1 cost terms from generator 310: [2585.0, 0.0]\n",
      "[info | PowerModels]: removing 1 cost terms from generator 79: [3000.0, 0.0]\n",
      "[info | PowerModels]: removing 3 cost terms from generator 325: Float64[]\n",
      "[info | PowerModels]: removing 1 cost terms from generator 124: [2684.0, -9.579]\n",
      "[info | PowerModels]: removing 1 cost terms from generator 209: [3000.0, 0.0]\n",
      "[info | PowerModels]: removing 1 cost terms from generator 185: [2685.0, 0.0]\n",
      "[info | PowerModels]: removing 1 cost terms from generator 267: [3000.0, 0.0]\n",
      "[info | PowerModels]: removing 1 cost terms from generator 70: [1468.0, 0.0]\n",
      "[info | PowerModels]: removing 1 cost terms from generator 349: [2918.0, 0.0]\n",
      "[info | PowerModels]: removing 1 cost terms from generator 338: [2611.0, 0.0]\n",
      "[info | PowerModels]: removing 1 cost terms from generator 64: [3000.0, 0.0]\n",
      "[info | PowerModels]: removing 1 cost terms from generator 222: [3000.0, 0.0]\n",
      "[info | PowerModels]: removing 1 cost terms from generator 343: [2547.0, -6.823]\n",
      "[info | PowerModels]: removing 1 cost terms from generator 91: [3000.0, 0.0]\n",
      "[info | PowerModels]: removing 1 cost terms from generator 60: [3000.0, 0.0]\n",
      "[info | PowerModels]: removing 1 cost terms from generator 158: [3000.0, 0.0]\n",
      "[info | PowerModels]: removing 1 cost terms from generator 156: [3000.0, 0.0]\n",
      "[info | PowerModels]: removing 1 cost terms from generator 348: [2672.0, -14.91]\n",
      "[info | PowerModels]: removing 1 cost terms from generator 220: [3000.0, 0.0]\n",
      "[info | PowerModels]: removing 1 cost terms from generator 22: [3000.0, 0.0]\n",
      "[info | PowerModels]: removing 1 cost terms from generator 11: [1499.0, 0.0]\n",
      "[info | PowerModels]: removing 1 cost terms from generator 271: [2688.0, 0.0]\n",
      "[info | PowerModels]: removing 3 cost terms from generator 324: Float64[]\n",
      "[info | PowerModels]: removing 1 cost terms from generator 277: [3526.0, -23.85]\n",
      "[info | PowerModels]: removing 1 cost terms from generator 331: [3000.0, 0.0]\n",
      "[info | PowerModels]: removing 1 cost terms from generator 40: [1680.0, 0.0]\n",
      "[info | PowerModels]: removing 1 cost terms from generator 138: [2790.0, 0.0]\n",
      "[info | PowerModels]: removing 1 cost terms from generator 336: [2846.0, 0.0]\n",
      "[info | PowerModels]: removing 1 cost terms from generator 353: [3000.0, 0.0]\n",
      "[info | PowerModels]: removing 1 cost terms from generator 232: [2611.0, 0.0]\n",
      "[info | PowerModels]: removing 1 cost terms from generator 153: [3000.0, 0.0]\n"
     ]
    },
    {
     "data": {
      "text/plain": [
       "<PyCall.jlwrap MathOptInterface.OptimizerWithAttributes(Ipopt.Optimizer, Pair{MathOptInterface.AbstractOptimizerAttribute, Any}[MathOptInterface.RawOptimizerAttribute(\"print_level\") => 0])>"
      ]
     },
     "execution_count": 5,
     "metadata": {},
     "output_type": "execute_result"
    }
   ],
   "source": [
    "Main.eval(\"\"\"\n",
    "using PowerModels\n",
    "using JuMP\n",
    "using Ipopt\n",
    "\n",
    "file_path = \"/home/jxxiong/A-xjx/DC3/datasets/dcopf/\";\n",
    "network_data_orig = PowerModels.parse_file(file_path*case_name);\n",
    "optimizer = optimizer_with_attributes(Ipopt.Optimizer, \"print_level\"=>0);\n",
    "\"\"\")"
   ]
  },
  {
   "cell_type": "code",
   "execution_count": 6,
   "metadata": {},
   "outputs": [],
   "source": [
    "def get_constraints(m):\n",
    "    ini_ineq_matrix = []\n",
    "    ini_ineq_rhs = []\n",
    "    ini_eq_matrix = []\n",
    "    ini_eq_rhs = []\n",
    "    a_matrix = m.getA().toarray()\n",
    "\n",
    "    i = 0\n",
    "    for constr in m.getConstrs():\n",
    "        if constr.sense == '<':\n",
    "            ini_ineq_matrix.append(a_matrix[i,:])\n",
    "            ini_ineq_rhs.append(constr.RHS)\n",
    "            i += 1\n",
    "        elif constr.sense == '>':\n",
    "            ini_ineq_matrix.append(-a_matrix[i,:])\n",
    "            ini_ineq_rhs.append(-constr.RHS)\n",
    "            i += 1\n",
    "        elif constr.sense == '=':\n",
    "            ini_eq_matrix.append(a_matrix[i,:])\n",
    "            ini_eq_rhs.append(constr.RHS)\n",
    "            i += 1\n",
    "\n",
    "    ini_ineq_matrix = np.array(ini_ineq_matrix)\n",
    "    ini_ineq_rhs = np.array(ini_ineq_rhs)\n",
    "    ini_eq_matrix = np.array(ini_eq_matrix)\n",
    "    ini_eq_rhs = np.array(ini_eq_rhs)\n",
    "\n",
    "    return ini_ineq_matrix, ini_ineq_rhs, ini_eq_matrix, ini_eq_rhs\n",
    "\n",
    "def get_objective(m):\n",
    "    ini_q_matrix = m.getQ().toarray()\n",
    "    ini_p_vec = []\n",
    "    variables = m.getVars()\n",
    "    for var in variables:\n",
    "        ini_p_vec.append(var.obj)\n",
    "    ini_p_vec = np.array(ini_p_vec)\n",
    "\n",
    "    return ini_q_matrix, ini_p_vec\n",
    "\n",
    "def get_bound(m):\n",
    "    variables = m.getVars()\n",
    "    ini_lb = []\n",
    "    ini_ub = []\n",
    "    for var in variables:\n",
    "        ini_lb.append(var.lb)\n",
    "        ini_ub.append(var.ub)\n",
    "    ini_lb = np.array(ini_lb)\n",
    "    ini_ub = np.array(ini_ub)\n",
    "\n",
    "    return ini_lb, ini_ub\n",
    "\n",
    "def perturb_eq_rhs(ini_eq_rhs, num_samples, perturb_rate=perturb_rate):\n",
    "    eq_rhs_list = []\n",
    "    for _ in range(num_samples):\n",
    "        eq_rhs = ini_eq_rhs.copy()\n",
    "        nonzero_indices = np.nonzero(ini_eq_rhs)\n",
    "        nonzero_values = ini_eq_rhs[nonzero_indices]\n",
    "        perturbed_values = nonzero_values * (1 + np.random.uniform(-perturb_rate, perturb_rate, size=nonzero_values.shape))\n",
    "        eq_rhs[nonzero_indices] = perturbed_values\n",
    "        eq_rhs_list.append(eq_rhs)\n",
    "    return np.array(eq_rhs_list)"
   ]
  },
  {
   "cell_type": "markdown",
   "metadata": {},
   "source": [
    "## Output the .lp file"
   ]
  },
  {
   "cell_type": "code",
   "execution_count": 7,
   "metadata": {},
   "outputs": [],
   "source": [
    "Main.eval(\"\"\"\n",
    "pm = instantiate_model(network_data_orig, DCPPowerModel, PowerModels.build_opf);\n",
    "JuMP.write_to_file(pm.model, \"dcopf$(nbus)_model.lp\")\n",
    "\"\"\")"
   ]
  },
  {
   "cell_type": "code",
   "execution_count": 8,
   "metadata": {},
   "outputs": [
    {
     "name": "stdout",
     "output_type": "stream",
     "text": [
      "Read LP format model from file /home/jxxiong/A-xjx/DC3/datasets/dcopf/dcopf2000_model.lp\n",
      "Reading time = 0.02 seconds\n",
      "obj: 11246 rows, 5872 columns, 29628 nonzeros\n"
     ]
    }
   ],
   "source": [
    "G, h, A, x = get_constraints(m)\n",
    "Q, p = get_objective(m)\n",
    "Lb, Ub = get_bound(m)\n",
    "X = perturb_eq_rhs(x, n_samples)\n",
    "\n",
    "num_var = p.shape[0]\n",
    "num_eq = A.shape[0]\n",
    "num_ineq = G.shape[0]\n",
    "\n",
    "print(f\"number of variables: {num_var}, number of equality constraints: {num_eq}, number of inequality constraints: {num_ineq}\")"
   ]
  },
  {
   "cell_type": "code",
   "execution_count": 9,
   "metadata": {},
   "outputs": [
    {
     "name": "stdout",
     "output_type": "stream",
     "text": [
      "(5612, 5872) (5612,) (5634, 5872) (5872, 5872) (5872,) (5872,) (5872,)\n"
     ]
    }
   ],
   "source": [
    "data = {'Q':Q, 'p':p, 'A':A, 'X':X, 'G':G, 'h':h, 'Lb':Lb, 'Ub':Ub, 'Y':[]}\n",
    "with open(f\"dcopf{nbus}_data1\", 'wb') as f:\n",
    "    pickle.dump(data, f)"
   ]
  },
  {
   "cell_type": "markdown",
   "metadata": {},
   "source": [
    "## Load Data"
   ]
  },
  {
   "cell_type": "code",
   "execution_count": null,
   "metadata": {},
   "outputs": [],
   "source": [
    "with open(f\"dcopf{nbus}_data\", 'rb') as f:\n",
    "    dataset = pickle.load(f)"
   ]
  },
  {
   "cell_type": "markdown",
   "metadata": {},
   "source": [
    "# Other"
   ]
  },
  {
   "cell_type": "code",
   "execution_count": null,
   "metadata": {},
   "outputs": [
    {
     "name": "stdout",
     "output_type": "stream",
     "text": [
      "(array([ 1,  2,  3,  4,  5,  6,  7,  8,  9, 10, 11, 13, 14, 15, 16, 17, 18,\n",
      "       19, 20, 21, 22, 23, 24, 25, 26, 27, 28, 29, 30, 31, 32]), array([ 1,  2,  3,  4,  5,  6,  7,  8,  9, 10, 11, 13, 14, 15, 16, 17, 18,\n",
      "       19, 20, 21, 22, 23, 24, 25, 26, 27, 28, 29, 30, 31, 32]))\n"
     ]
    }
   ],
   "source": [
    "nonzero_indices = np.nonzero(Q)\n",
    "print(nonzero_indices)\n"
   ]
  },
  {
   "cell_type": "code",
   "execution_count": null,
   "metadata": {},
   "outputs": [
    {
     "data": {
      "text/plain": [
       "(array([ 0,  1,  2,  3,  4,  5,  6,  7,  8,  9, 10, 11, 12, 13, 14, 15, 16,\n",
       "        17, 18, 19, 20, 21, 22, 23, 24, 25, 26, 27, 28, 29, 30, 31, 32]),)"
      ]
     },
     "execution_count": 40,
     "metadata": {},
     "output_type": "execute_result"
    }
   ],
   "source": [
    "np.nonzero(p)"
   ]
  },
  {
   "cell_type": "code",
   "execution_count": null,
   "metadata": {},
   "outputs": [],
   "source": [
    "lb_index = np.where(Lb != -np.inf)[0]\n",
    "ub_index = np.where(Ub != np.inf)[0]"
   ]
  },
  {
   "cell_type": "code",
   "execution_count": null,
   "metadata": {},
   "outputs": [
    {
     "data": {
      "text/plain": [
       "array([240, 349, 382, 403, 434, 483])"
      ]
     },
     "execution_count": 42,
     "metadata": {},
     "output_type": "execute_result"
    }
   ],
   "source": [
    "np.where(Lb == Ub)[0]"
   ]
  },
  {
   "cell_type": "code",
   "execution_count": null,
   "metadata": {},
   "outputs": [
    {
     "name": "stdout",
     "output_type": "stream",
     "text": [
      "[  1   2   3   4   5   6   7   8   9  10  11  12  13  14  15  16  17  18\n",
      "  19  20  21  22  23  24  25  26  27  28  29  30  31  32 233 234 235 236\n",
      " 237 238 239 240 241 242 243 244 245 246 247 248 249 250 251 252 253 254\n",
      " 255 256 257 258 259 260 261 262 263 264 265 266 267 268 269 270 271 272\n",
      " 273 274 275 276 277 278 279 280 281 282 283 284 285 286 287 288 289 290\n",
      " 291 292 293 294 295 296 297 298 299 300 301 302 303 304 305 306 307 308\n",
      " 309 310 311 312 313 314 315 316 317 318 319 320 321 322 323 324 325 326\n",
      " 327 328 329 330 331 332 333 334 335 336 337 338 339 340 341 342 343 344\n",
      " 345 346 347 348 349 350 351 352 353 354 355 356 357 358 359 360 361 362\n",
      " 363 364 365 366 367 368 369 370 371 372 373 374 375 376 377 378 379 380\n",
      " 381 382 383 384 385 386 387 388 389 390 391 392 393 394 395 396 397 398\n",
      " 399 400 401 402 403 404 405 406 407 408 409 410 411 412 413 414 415 416\n",
      " 417 418 419 420 421 422 423 424 425 426 427 428 429 430 431 432 433 434\n",
      " 435 436 437 438 439 440 441 442 443 444 445 446 447 448 449 450 451 452\n",
      " 453 454 455 456 457 458 459 460 461 462 463 464 465 466 467 468 469 470\n",
      " 471 472 473 474 475 476 477 478 479 480 481 482 483]\n"
     ]
    }
   ],
   "source": [
    "intersection = np.intersect1d(lb_index, ub_index)\n",
    "print(intersection)"
   ]
  },
  {
   "cell_type": "code",
   "execution_count": null,
   "metadata": {},
   "outputs": [
    {
     "data": {
      "text/plain": [
       "13405.669006776963"
      ]
     },
     "execution_count": 44,
     "metadata": {},
     "output_type": "execute_result"
    }
   ],
   "source": [
    "np.mean(data['objective'])"
   ]
  },
  {
   "cell_type": "code",
   "execution_count": null,
   "metadata": {},
   "outputs": [
    {
     "data": {
      "text/plain": [
       "0.00903625726699829"
      ]
     },
     "execution_count": 45,
     "metadata": {},
     "output_type": "execute_result"
    }
   ],
   "source": [
    "np.mean(data['solve_time'])"
   ]
  },
  {
   "cell_type": "code",
   "execution_count": null,
   "metadata": {},
   "outputs": [
    {
     "data": {
      "text/plain": [
       "100"
      ]
     },
     "execution_count": 46,
     "metadata": {},
     "output_type": "execute_result"
    }
   ],
   "source": [
    "len(data['objective'])"
   ]
  },
  {
   "cell_type": "code",
   "execution_count": null,
   "metadata": {},
   "outputs": [],
   "source": []
  }
 ],
 "metadata": {
  "kernelspec": {
   "display_name": "scopf",
   "language": "python",
   "name": "python3"
  },
  "language_info": {
   "codemirror_mode": {
    "name": "ipython",
    "version": 3
   },
   "file_extension": ".py",
   "mimetype": "text/x-python",
   "name": "python",
   "nbconvert_exporter": "python",
   "pygments_lexer": "ipython3",
   "version": "3.9.17"
  }
 },
 "nbformat": 4,
 "nbformat_minor": 2
}

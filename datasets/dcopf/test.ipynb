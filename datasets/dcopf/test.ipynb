{
 "cells": [
  {
   "cell_type": "code",
   "execution_count": 1,
   "metadata": {},
   "outputs": [],
   "source": [
    "using PowerModels\n",
    "using JuMP\n",
    "using Ipopt"
   ]
  },
  {
   "cell_type": "markdown",
   "metadata": {},
   "source": [
    "# Test"
   ]
  },
  {
   "cell_type": "markdown",
   "metadata": {},
   "source": [
    "## read in the case data"
   ]
  },
  {
   "cell_type": "code",
   "execution_count": 2,
   "metadata": {},
   "outputs": [
    {
     "name": "stdout",
     "output_type": "stream",
     "text": [
      "\u001b[35m[warn | PowerModels]: no active generators found at bus 168, updating to bus type from 2 to 1\u001b[39m\n",
      "\u001b[35m[warn | PowerModels]: no active generators found at bus 197, updating to bus type from 2 to 1\u001b[39m\n",
      "\u001b[35m[warn | PowerModels]: no active generators found at bus 92, updating to bus type from 2 to 1\u001b[39m\n",
      "\u001b[35m[warn | PowerModels]: no active generators found at bus 161, updating to bus type from 2 to 1\u001b[39m\n",
      "\u001b[35m[warn | PowerModels]: no active generators found at bus 165, updating to bus type from 2 to 1\u001b[39m\n",
      "\u001b[35m[warn | PowerModels]: no active generators found at bus 196, updating to bus type from 2 to 1\u001b[39m\n",
      "\u001b[35m[warn | PowerModels]: no active generators found at bus 164, updating to bus type from 2 to 1\u001b[39m\n",
      "\u001b[35m[warn | PowerModels]: no active generators found at bus 78, updating to bus type from 2 to 1\u001b[39m\n",
      "\u001b[35m[warn | PowerModels]: no active generators found at bus 166, updating to bus type from 2 to 1\u001b[39m\n",
      "\u001b[35m[warn | PowerModels]: no active generators found at bus 169, updating to bus type from 2 to 1\u001b[39m\n",
      "\u001b[35m[warn | PowerModels]: no active generators found at bus 79, updating to bus type from 2 to 1\u001b[39m\n",
      "\u001b[32m[info | PowerModels]: removing 3 cost terms from generator 24: Float64[]\u001b[39m\n",
      "\u001b[32m[info | PowerModels]: removing 3 cost terms from generator 25: Float64[]\u001b[39m\n",
      "\u001b[32m[info | PowerModels]: removing 3 cost terms from generator 23: Float64[]\u001b[39m\n",
      "\u001b[32m[info | PowerModels]: removing 3 cost terms from generator 31: Float64[]\u001b[39m\n",
      "\u001b[32m[info | PowerModels]: removing 1 cost terms from generator 47: [671.0, 1272.13]\u001b[39m\n",
      "\u001b[32m[info | PowerModels]: removing 3 cost terms from generator 6: Float64[]\u001b[39m\n",
      "\u001b[32m[info | PowerModels]: removing 3 cost terms from generator 22: Float64[]\u001b[39m\n"
     ]
    }
   ],
   "source": [
    "file_path = \"/home/jxxiong/A-xjx/DC3/datasets/dcopf/\"\n",
    "case_name = \"pglib_opf_case200_activ.m\"\n",
    "network_data_orig = PowerModels.parse_file(file_path*case_name);"
   ]
  },
  {
   "cell_type": "markdown",
   "metadata": {},
   "source": [
    "## randomly perturb the load"
   ]
  },
  {
   "cell_type": "code",
   "execution_count": 8,
   "metadata": {},
   "outputs": [],
   "source": [
    "network_data = deepcopy(network_data_orig)\n",
    "for (load_id, load) in network_data[\"load\"]\n",
    "    perturbation_factor = 0.8 + (rand() * 0.4)  # rand() generates a random number in [0, 1]\n",
    "    load[\"pd\"] *= perturbation_factor\n",
    "    load[\"qd\"] *= perturbation_factor\n",
    "end"
   ]
  },
  {
   "cell_type": "markdown",
   "metadata": {},
   "source": [
    "## create the JuMP model"
   ]
  },
  {
   "cell_type": "code",
   "execution_count": 9,
   "metadata": {},
   "outputs": [
    {
     "data": {
      "text/plain": [
       "0.014887094497680664"
      ]
     },
     "metadata": {},
     "output_type": "display_data"
    }
   ],
   "source": [
    "pm = instantiate_model(network_data, DCPPowerModel, PowerModels.build_opf);\n",
    "optimizer = optimizer_with_attributes(Ipopt.Optimizer, \"print_level\"=>0)\n",
    "result = optimize_model!(pm, optimizer=optimizer);\n",
    "status = result[\"termination_status\"]\n",
    "obj = result[\"objective\"]\n",
    "time = result[\"solve_time\"]"
   ]
  },
  {
   "cell_type": "code",
   "execution_count": 14,
   "metadata": {},
   "outputs": [
    {
     "data": {
      "text/plain": [
       "Dict{String, Any} with 7 entries:\n",
       "  \"baseMVA\"             => 100.0\n",
       "  \"branch\"              => Dict{String, Any}(\"1\"=>Dict{String, Any}(\"qf\"=>NaN, …\n",
       "  \"gen\"                 => Dict{String, Any}(\"24\"=>Dict{String, Any}(\"qg\"=>NaN,…\n",
       "  \"multiinfrastructure\" => false\n",
       "  \"multinetwork\"        => false\n",
       "  \"bus\"                 => Dict{String, Any}(\"1\"=>Dict{String, Any}(\"va\"=>-0.13…\n",
       "  \"per_unit\"            => true"
      ]
     },
     "metadata": {},
     "output_type": "display_data"
    }
   ],
   "source": [
    "result[\"solution\"]"
   ]
  },
  {
   "cell_type": "code",
   "execution_count": 11,
   "metadata": {},
   "outputs": [
    {
     "data": {
      "text/plain": [
       "LOCALLY_SOLVED::TerminationStatusCode = 4"
      ]
     },
     "metadata": {},
     "output_type": "display_data"
    }
   ],
   "source": [
    "if status == MOI.LOCALLY_SOLVED || status == MOI.OPTIMAL\n",
    "    println(\"The objective value is: \", obj)\n",
    "    println(\"The solve time is: \", time)\n",
    "else\n",
    "    println(\"The problem was not solved to optimality, status: \", status)\n",
    "end"
   ]
  },
  {
   "cell_type": "markdown",
   "metadata": {},
   "source": [
    "## Output the model into .lp files"
   ]
  },
  {
   "cell_type": "code",
   "execution_count": 10,
   "metadata": {},
   "outputs": [],
   "source": [
    "i = 2\n",
    "JuMP.write_to_file(pm.model, \"dcopf_model_$(i).lp\")"
   ]
  },
  {
   "cell_type": "code",
   "execution_count": null,
   "metadata": {},
   "outputs": [],
   "source": []
  }
 ],
 "metadata": {
  "kernelspec": {
   "display_name": "Julia 1.9.2",
   "language": "julia",
   "name": "julia-1.9"
  },
  "language_info": {
   "file_extension": ".jl",
   "mimetype": "application/julia",
   "name": "julia",
   "version": "1.9.2"
  }
 },
 "nbformat": 4,
 "nbformat_minor": 2
}

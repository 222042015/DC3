{
 "cells": [
  {
   "cell_type": "code",
   "execution_count": 2,
   "metadata": {},
   "outputs": [],
   "source": [
    "import numpy as np\n",
    "import pickle\n",
    "import torch\n",
    "\n",
    "import sys\n",
    "import os\n",
    "sys.path.insert(1, os.path.join(sys.path[0], os.pardir, os.pardir))\n",
    "from dcopf_utils import DcopfProblem\n",
    "\n",
    "import os\n",
    "os.environ['KMP_DUPLICATE_LIB_OK']='True'\n",
    "\n",
    "torch.set_default_dtype(torch.float64)"
   ]
  },
  {
   "cell_type": "code",
   "execution_count": 5,
   "metadata": {},
   "outputs": [],
   "source": [
    "with open(\"dcopf200_data\", 'rb') as f:\n",
    "    dataset = pickle.load(f)"
   ]
  },
  {
   "cell_type": "code",
   "execution_count": 6,
   "metadata": {},
   "outputs": [
    {
     "name": "stdout",
     "output_type": "stream",
     "text": [
      "(446, 483) (10000, 446) (10000, 483) (490, 483) (490,) (483, 483) (483,) (483,) (483,)\n"
     ]
    }
   ],
   "source": [
    "A = np.array(dataset['A'])\n",
    "X = np.array(dataset['X'])\n",
    "Y = np.array(dataset['Y'])\n",
    "G = np.array(dataset['G'])\n",
    "h = np.array(dataset['h'])\n",
    "Q = np.array(dataset['Q'])\n",
    "p = np.array(dataset['p'])\n",
    "Lb = np.array(dataset['Lb'])\n",
    "Ub = np.array(dataset['Ub'])\n",
    "\n",
    "print(A.shape, X.shape, Y.shape, G.shape, h.shape, Q.shape, p.shape, Lb.shape, Ub.shape)"
   ]
  },
  {
   "cell_type": "code",
   "execution_count": 25,
   "metadata": {},
   "outputs": [
    {
     "name": "stdout",
     "output_type": "stream",
     "text": [
      "num_var: 10994, num_ineq: 11424, num_eq_list: 10612, num_examples: 1000\n"
     ]
    }
   ],
   "source": [
    "num_var = Q.shape[0]\n",
    "num_ineq = G.shape[0]\n",
    "num_eq_list = A.shape[0]\n",
    "num_examples = X.shape[0]\n",
    "print(f\"num_var: {num_var}, num_ineq: {num_ineq}, num_eq_list: {num_eq_list}, num_examples: {num_examples}\")"
   ]
  },
  {
   "cell_type": "code",
   "execution_count": 7,
   "metadata": {},
   "outputs": [
    {
     "name": "stdout",
     "output_type": "stream",
     "text": [
      "Read MPS format model from file /home/jxxiong/A-xjx/DC3/datasets/dcopf/dcopf200_model.mps\n",
      "Reading time = 0.00 seconds\n",
      ": 936 rows, 483 columns, 2244 nonzeros\n"
     ]
    }
   ],
   "source": [
    "import gurobipy as gp\n",
    "nbus = 200\n",
    "m = gp.read(f'/home/jxxiong/A-xjx/DC3/datasets/dcopf/dcopf{nbus}_model.mps')"
   ]
  },
  {
   "cell_type": "code",
   "execution_count": 12,
   "metadata": {},
   "outputs": [
    {
     "name": "stdout",
     "output_type": "stream",
     "text": [
      "Gurobi Optimizer version 11.0.0 build v11.0.0rc2 (linux64 - \"Ubuntu 22.04.2 LTS\")\n",
      "\n",
      "CPU model: 12th Gen Intel(R) Core(TM) i9-12900K, instruction set [SSE2|AVX|AVX2]\n",
      "Thread count: 24 physical cores, 24 logical processors, using up to 24 threads\n",
      "\n",
      "Optimize a model with 3515 rows, 1803 columns and 8279 nonzeros\n",
      "Model fingerprint: 0x34d7f1b4\n",
      "Model has 48 quadratic objective terms\n",
      "Coefficient statistics:\n",
      "  Matrix range     [1e+00, 5e+03]\n",
      "  Objective range  [2e+01, 7e+03]\n",
      "  QObjective range [9e+00, 3e+04]\n",
      "  Bounds range     [4e-04, 3e+01]\n",
      "  RHS range        [9e-05, 1e+01]\n",
      "Presolve removed 3088 rows and 1414 columns\n",
      "Presolve time: 0.01s\n",
      "Presolved: 427 rows, 521 columns, 1975 nonzeros\n",
      "Presolved model has 48 quadratic objective terms\n",
      "Ordering time: 0.00s\n",
      "\n",
      "Barrier statistics:\n",
      " AA' NZ     : 4.132e+03\n",
      " Factor NZ  : 1.072e+04\n",
      " Factor Ops : 3.032e+05 (less than 1 second per iteration)\n",
      " Threads    : 1\n",
      "\n",
      "                  Objective                Residual\n",
      "Iter       Primal          Dual         Primal    Dual     Compl     Time\n",
      "   0   1.46182084e+10 -1.80328488e+10  6.25e+03 1.00e+03  9.76e+05     0s\n",
      "   1   7.52525095e+08 -3.12182104e+09  1.38e+03 2.21e+02  2.20e+05     0s\n",
      "   2   2.50968179e+07 -2.76603584e+09  1.96e+02 3.14e+01  3.99e+04     0s\n",
      "   3   2.63195341e+06 -2.00338476e+09  3.38e+01 5.40e+00  7.87e+03     0s\n",
      "   4   5.43795826e+05 -1.16946834e+09  3.02e+00 4.84e-01  1.58e+03     0s\n",
      "   5   3.94687019e+05 -3.35614937e+08  3.01e-01 4.81e-02  3.48e+02     0s\n",
      "   6   3.75531752e+05 -1.24176035e+07  4.18e-03 6.69e-04  1.25e+01     0s\n",
      "   7   3.64160640e+05 -1.26369074e+06  5.23e-04 8.37e-05  1.59e+00     0s\n",
      "   8   3.10421885e+05 -3.27342542e+05  1.25e-04 2.01e-05  6.25e-01     0s\n",
      "   9   2.75163162e+05  5.57721739e+04  2.27e-05 3.63e-06  2.15e-01     0s\n",
      "  10   2.62130796e+05  2.13689121e+05  1.77e-07 2.83e-08  4.74e-02     0s\n",
      "  11   2.59469726e+05  2.47744525e+05  3.07e-08 4.91e-09  1.15e-02     0s\n",
      "  12   2.58809379e+05  2.54287367e+05  8.40e-09 1.34e-09  4.43e-03     0s\n",
      "  13   2.58515854e+05  2.57401051e+05  2.46e-09 1.14e-10  1.09e-03     0s\n",
      "  14   2.58406755e+05  2.58357204e+05  9.88e-10 8.81e-13  4.85e-05     0s\n",
      "  15   2.58402634e+05  2.58398813e+05  2.38e-09 2.37e-14  3.74e-06     0s\n",
      "  16   2.58402244e+05  2.58402161e+05  1.68e-09 7.11e-15  8.17e-08     0s\n",
      "  17   2.58402236e+05  2.58402236e+05  6.74e-09 3.55e-15  8.19e-11     0s\n",
      "\n",
      "Barrier solved model in 17 iterations and 0.03 seconds (0.01 work units)\n",
      "Optimal objective 2.58402236e+05\n",
      "\n"
     ]
    }
   ],
   "source": [
    "m.optimize()"
   ]
  },
  {
   "cell_type": "code",
   "execution_count": null,
   "metadata": {},
   "outputs": [],
   "source": []
  },
  {
   "cell_type": "code",
   "execution_count": null,
   "metadata": {},
   "outputs": [],
   "source": []
  }
 ],
 "metadata": {
  "kernelspec": {
   "display_name": "scopf",
   "language": "python",
   "name": "python3"
  },
  "language_info": {
   "codemirror_mode": {
    "name": "ipython",
    "version": 3
   },
   "file_extension": ".py",
   "mimetype": "text/x-python",
   "name": "python",
   "nbconvert_exporter": "python",
   "pygments_lexer": "ipython3",
   "version": "3.9.17"
  }
 },
 "nbformat": 4,
 "nbformat_minor": 2
}

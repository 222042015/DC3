{
 "cells": [
  {
   "cell_type": "code",
   "execution_count": 1,
   "metadata": {},
   "outputs": [],
   "source": [
    "import numpy as np\n",
    "import pickle\n",
    "import torch\n",
    "\n",
    "import sys\n",
    "import os\n",
    "sys.path.insert(1, os.path.join(sys.path[0], os.pardir, os.pardir))\n",
    "from dcopf_utils import DcopfProblem\n",
    "\n",
    "import os\n",
    "os.environ['KMP_DUPLICATE_LIB_OK']='True'\n",
    "\n",
    "torch.set_default_dtype(torch.float64)"
   ]
  },
  {
   "cell_type": "code",
   "execution_count": 2,
   "metadata": {},
   "outputs": [],
   "source": [
    "with open(\"dcopf_data\", 'rb') as f:\n",
    "    dataset = pickle.load(f)"
   ]
  },
  {
   "cell_type": "code",
   "execution_count": 3,
   "metadata": {},
   "outputs": [
    {
     "name": "stdout",
     "output_type": "stream",
     "text": [
      "(446, 484) (9800, 446) (0,) (490, 484) (490,) (484, 484) (484,) (484,) (484,)\n"
     ]
    }
   ],
   "source": [
    "A = np.array(dataset['A'])\n",
    "X = np.array(dataset['X'])\n",
    "Y = np.array(dataset['Y'])\n",
    "G = np.array(dataset['G'])\n",
    "h = np.array(dataset['h'])\n",
    "Q = np.array(dataset['Q'])\n",
    "p = np.array(dataset['p'])\n",
    "Lb = np.array(dataset['Lb'])\n",
    "Ub = np.array(dataset['Ub'])\n",
    "objective_list = np.array(dataset['objective'])\n",
    "solve_time_list = np.array(dataset['solve_time'])\n",
    "\n",
    "print(A.shape, X.shape, Y.shape, G.shape, h.shape, Q.shape, p.shape, Lb.shape, Ub.shape)"
   ]
  },
  {
   "cell_type": "code",
   "execution_count": 4,
   "metadata": {},
   "outputs": [
    {
     "name": "stdout",
     "output_type": "stream",
     "text": [
      "num_var: 484, num_ineq: 490, num_eq_list: 446, num_examples: 9800\n"
     ]
    }
   ],
   "source": [
    "num_var = Q.shape[0]\n",
    "num_ineq = G.shape[0]\n",
    "num_eq_list = A.shape[0]\n",
    "num_examples = X.shape[0]\n",
    "print(f\"num_var: {num_var}, num_ineq: {num_ineq}, num_eq_list: {num_eq_list}, num_examples: {num_examples}\")"
   ]
  },
  {
   "cell_type": "code",
   "execution_count": null,
   "metadata": {},
   "outputs": [],
   "source": []
  }
 ],
 "metadata": {
  "kernelspec": {
   "display_name": "scopf",
   "language": "python",
   "name": "python3"
  },
  "language_info": {
   "codemirror_mode": {
    "name": "ipython",
    "version": 3
   },
   "file_extension": ".py",
   "mimetype": "text/x-python",
   "name": "python",
   "nbconvert_exporter": "python",
   "pygments_lexer": "ipython3",
   "version": "3.9.17"
  }
 },
 "nbformat": 4,
 "nbformat_minor": 2
}
